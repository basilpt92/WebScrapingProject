{
 "cells": [
  {
   "cell_type": "code",
   "execution_count": 269,
   "id": "887d214c",
   "metadata": {},
   "outputs": [],
   "source": [
    "from sklearn import datasets\n",
    "from sklearn.preprocessing import StandardScaler\n",
    "from sklearn.cluster import KMeans\n",
    "from sklearn.metrics import silhouette_score\n",
    "\n",
    "import pandas as pd\n",
    "import numpy as np\n",
    "import matplotlib.pyplot as plt\n",
    "import seaborn as sns\n",
    "import pickle"
   ]
  },
  {
   "cell_type": "code",
   "execution_count": 29,
   "id": "9508273d",
   "metadata": {},
   "outputs": [],
   "source": [
    "#--------------scrapped songs from spotify with their audio features-------------#\n",
    "\n",
    "audio1_df = pd.read_csv('audio_features_album.csv')\n",
    "audio2_df = pd.read_csv('audio_features_album2.csv')\n",
    "audio3_df = pd.read_csv('audio_features_album3.csv')\n",
    "audio4_df = pd.read_csv('audio_features_album4.csv')\n",
    "audio5_df = pd.read_csv('audio_features_album5.csv')\n",
    "audio6_df = pd.read_csv('audio_features_album6.csv')\n",
    "audio7_df = pd.read_csv('audio_features_album7.csv')\n",
    "audio8_df = pd.read_csv('audio_features_album8.csv')\n",
    "audio9_df = pd.read_csv('audio_features_album9.csv')"
   ]
  },
  {
   "cell_type": "code",
   "execution_count": 317,
   "id": "822457f8",
   "metadata": {},
   "outputs": [
    {
     "data": {
      "text/html": [
       "<div>\n",
       "<style scoped>\n",
       "    .dataframe tbody tr th:only-of-type {\n",
       "        vertical-align: middle;\n",
       "    }\n",
       "\n",
       "    .dataframe tbody tr th {\n",
       "        vertical-align: top;\n",
       "    }\n",
       "\n",
       "    .dataframe thead th {\n",
       "        text-align: right;\n",
       "    }\n",
       "</style>\n",
       "<table border=\"1\" class=\"dataframe\">\n",
       "  <thead>\n",
       "    <tr style=\"text-align: right;\">\n",
       "      <th></th>\n",
       "      <th>danceability</th>\n",
       "      <th>energy</th>\n",
       "      <th>key</th>\n",
       "      <th>loudness</th>\n",
       "      <th>mode</th>\n",
       "      <th>speechiness</th>\n",
       "      <th>acousticness</th>\n",
       "      <th>instrumentalness</th>\n",
       "      <th>liveness</th>\n",
       "      <th>valence</th>\n",
       "      <th>tempo</th>\n",
       "      <th>type</th>\n",
       "      <th>id</th>\n",
       "      <th>uri</th>\n",
       "      <th>track_href</th>\n",
       "      <th>analysis_url</th>\n",
       "      <th>duration_ms</th>\n",
       "      <th>time_signature</th>\n",
       "      <th>artist</th>\n",
       "      <th>song_name</th>\n",
       "    </tr>\n",
       "  </thead>\n",
       "  <tbody>\n",
       "    <tr>\n",
       "      <th>2051</th>\n",
       "      <td>0.877</td>\n",
       "      <td>0.854</td>\n",
       "      <td>1</td>\n",
       "      <td>-4.523</td>\n",
       "      <td>1</td>\n",
       "      <td>0.147</td>\n",
       "      <td>0.0544</td>\n",
       "      <td>0.000055</td>\n",
       "      <td>0.144</td>\n",
       "      <td>0.54</td>\n",
       "      <td>114.472</td>\n",
       "      <td>audio_features</td>\n",
       "      <td>0sKlV58cODrjxGFOyf9IXY</td>\n",
       "      <td>spotify:track:0sKlV58cODrjxGFOyf9IXY</td>\n",
       "      <td>https://api.spotify.com/v1/tracks/0sKlV58cODrj...</td>\n",
       "      <td>https://api.spotify.com/v1/audio-analysis/0sKl...</td>\n",
       "      <td>298120</td>\n",
       "      <td>4</td>\n",
       "      <td>Michael Jackson</td>\n",
       "      <td>The Way You Make Me Feel - 2012 Remaster</td>\n",
       "    </tr>\n",
       "  </tbody>\n",
       "</table>\n",
       "</div>"
      ],
      "text/plain": [
       "      danceability  energy  key  loudness  mode  speechiness  acousticness  \\\n",
       "2051         0.877   0.854    1    -4.523     1        0.147        0.0544   \n",
       "\n",
       "      instrumentalness  liveness  valence    tempo            type  \\\n",
       "2051          0.000055     0.144     0.54  114.472  audio_features   \n",
       "\n",
       "                          id                                   uri  \\\n",
       "2051  0sKlV58cODrjxGFOyf9IXY  spotify:track:0sKlV58cODrjxGFOyf9IXY   \n",
       "\n",
       "                                             track_href  \\\n",
       "2051  https://api.spotify.com/v1/tracks/0sKlV58cODrj...   \n",
       "\n",
       "                                           analysis_url  duration_ms  \\\n",
       "2051  https://api.spotify.com/v1/audio-analysis/0sKl...       298120   \n",
       "\n",
       "      time_signature           artist  \\\n",
       "2051               4  Michael Jackson   \n",
       "\n",
       "                                     song_name  \n",
       "2051  The Way You Make Me Feel - 2012 Remaster  "
      ]
     },
     "execution_count": 317,
     "metadata": {},
     "output_type": "execute_result"
    }
   ],
   "source": [
    "#--------concatination of the all audio files----------#\n",
    "\n",
    "df = pd.concat([audio1_df,audio2_df,audio3_df,audio4_df,audio5_df,audio6_df,audio7_df,audio8_df,audio9_df],ignore_index = True)\n",
    "df.tail(1) "
   ]
  },
  {
   "cell_type": "code",
   "execution_count": 318,
   "id": "55c025b1",
   "metadata": {},
   "outputs": [],
   "source": [
    "#-----------removing the duplicates------#  \n",
    "\n",
    "df = df.drop_duplicates().reset_index()"
   ]
  },
  {
   "cell_type": "code",
   "execution_count": 253,
   "id": "1ac8d035",
   "metadata": {},
   "outputs": [
    {
     "data": {
      "text/html": [
       "<div>\n",
       "<style scoped>\n",
       "    .dataframe tbody tr th:only-of-type {\n",
       "        vertical-align: middle;\n",
       "    }\n",
       "\n",
       "    .dataframe tbody tr th {\n",
       "        vertical-align: top;\n",
       "    }\n",
       "\n",
       "    .dataframe thead th {\n",
       "        text-align: right;\n",
       "    }\n",
       "</style>\n",
       "<table border=\"1\" class=\"dataframe\">\n",
       "  <thead>\n",
       "    <tr style=\"text-align: right;\">\n",
       "      <th></th>\n",
       "      <th>index</th>\n",
       "      <th>danceability</th>\n",
       "      <th>energy</th>\n",
       "      <th>key</th>\n",
       "      <th>loudness</th>\n",
       "      <th>mode</th>\n",
       "      <th>speechiness</th>\n",
       "      <th>acousticness</th>\n",
       "      <th>instrumentalness</th>\n",
       "      <th>liveness</th>\n",
       "      <th>...</th>\n",
       "      <th>tempo</th>\n",
       "      <th>type</th>\n",
       "      <th>id</th>\n",
       "      <th>uri</th>\n",
       "      <th>track_href</th>\n",
       "      <th>analysis_url</th>\n",
       "      <th>duration_ms</th>\n",
       "      <th>time_signature</th>\n",
       "      <th>artist</th>\n",
       "      <th>song_name</th>\n",
       "    </tr>\n",
       "  </thead>\n",
       "  <tbody>\n",
       "    <tr>\n",
       "      <th>1675</th>\n",
       "      <td>2051</td>\n",
       "      <td>0.877</td>\n",
       "      <td>0.854</td>\n",
       "      <td>1</td>\n",
       "      <td>-4.523</td>\n",
       "      <td>1</td>\n",
       "      <td>0.147</td>\n",
       "      <td>0.0544</td>\n",
       "      <td>0.000055</td>\n",
       "      <td>0.144</td>\n",
       "      <td>...</td>\n",
       "      <td>114.472</td>\n",
       "      <td>audio_features</td>\n",
       "      <td>0sKlV58cODrjxGFOyf9IXY</td>\n",
       "      <td>spotify:track:0sKlV58cODrjxGFOyf9IXY</td>\n",
       "      <td>https://api.spotify.com/v1/tracks/0sKlV58cODrj...</td>\n",
       "      <td>https://api.spotify.com/v1/audio-analysis/0sKl...</td>\n",
       "      <td>298120</td>\n",
       "      <td>4</td>\n",
       "      <td>Michael Jackson</td>\n",
       "      <td>The Way You Make Me Feel - 2012 Remaster</td>\n",
       "    </tr>\n",
       "  </tbody>\n",
       "</table>\n",
       "<p>1 rows × 21 columns</p>\n",
       "</div>"
      ],
      "text/plain": [
       "      index  danceability  energy  key  loudness  mode  speechiness  \\\n",
       "1675   2051         0.877   0.854    1    -4.523     1        0.147   \n",
       "\n",
       "      acousticness  instrumentalness  liveness  ...    tempo            type  \\\n",
       "1675        0.0544          0.000055     0.144  ...  114.472  audio_features   \n",
       "\n",
       "                          id                                   uri  \\\n",
       "1675  0sKlV58cODrjxGFOyf9IXY  spotify:track:0sKlV58cODrjxGFOyf9IXY   \n",
       "\n",
       "                                             track_href  \\\n",
       "1675  https://api.spotify.com/v1/tracks/0sKlV58cODrj...   \n",
       "\n",
       "                                           analysis_url duration_ms  \\\n",
       "1675  https://api.spotify.com/v1/audio-analysis/0sKl...      298120   \n",
       "\n",
       "      time_signature           artist  \\\n",
       "1675               4  Michael Jackson   \n",
       "\n",
       "                                     song_name  \n",
       "1675  The Way You Make Me Feel - 2012 Remaster  \n",
       "\n",
       "[1 rows x 21 columns]"
      ]
     },
     "execution_count": 253,
     "metadata": {},
     "output_type": "execute_result"
    }
   ],
   "source": [
    "df.tail(1)"
   ]
  },
  {
   "cell_type": "code",
   "execution_count": 319,
   "id": "dfcf93ea",
   "metadata": {},
   "outputs": [],
   "source": [
    "#---------------droping columns prior to modelling-------------#\n",
    "\n",
    "x = df.drop(['time_signature','index','type', 'id', 'uri', 'track_href', 'analysis_url', 'artist', 'song_name'], axis = 1)"
   ]
  },
  {
   "cell_type": "code",
   "execution_count": 320,
   "id": "0cc0db95",
   "metadata": {},
   "outputs": [
    {
     "data": {
      "text/html": [
       "<div>\n",
       "<style scoped>\n",
       "    .dataframe tbody tr th:only-of-type {\n",
       "        vertical-align: middle;\n",
       "    }\n",
       "\n",
       "    .dataframe tbody tr th {\n",
       "        vertical-align: top;\n",
       "    }\n",
       "\n",
       "    .dataframe thead th {\n",
       "        text-align: right;\n",
       "    }\n",
       "</style>\n",
       "<table border=\"1\" class=\"dataframe\">\n",
       "  <thead>\n",
       "    <tr style=\"text-align: right;\">\n",
       "      <th></th>\n",
       "      <th>danceability</th>\n",
       "      <th>energy</th>\n",
       "      <th>key</th>\n",
       "      <th>loudness</th>\n",
       "      <th>mode</th>\n",
       "      <th>speechiness</th>\n",
       "      <th>acousticness</th>\n",
       "      <th>instrumentalness</th>\n",
       "      <th>liveness</th>\n",
       "      <th>valence</th>\n",
       "      <th>tempo</th>\n",
       "      <th>duration_ms</th>\n",
       "    </tr>\n",
       "  </thead>\n",
       "  <tbody>\n",
       "    <tr>\n",
       "      <th>0</th>\n",
       "      <td>0.658</td>\n",
       "      <td>0.634</td>\n",
       "      <td>1</td>\n",
       "      <td>-5.797</td>\n",
       "      <td>0</td>\n",
       "      <td>0.0413</td>\n",
       "      <td>0.0106</td>\n",
       "      <td>0.000000</td>\n",
       "      <td>0.132</td>\n",
       "      <td>0.290</td>\n",
       "      <td>139.980</td>\n",
       "      <td>170813</td>\n",
       "    </tr>\n",
       "    <tr>\n",
       "      <th>1</th>\n",
       "      <td>0.333</td>\n",
       "      <td>0.637</td>\n",
       "      <td>1</td>\n",
       "      <td>-4.904</td>\n",
       "      <td>0</td>\n",
       "      <td>0.0581</td>\n",
       "      <td>0.1310</td>\n",
       "      <td>0.000018</td>\n",
       "      <td>0.149</td>\n",
       "      <td>0.132</td>\n",
       "      <td>139.898</td>\n",
       "      <td>172693</td>\n",
       "    </tr>\n",
       "    <tr>\n",
       "      <th>2</th>\n",
       "      <td>0.713</td>\n",
       "      <td>0.676</td>\n",
       "      <td>10</td>\n",
       "      <td>-5.483</td>\n",
       "      <td>1</td>\n",
       "      <td>0.0270</td>\n",
       "      <td>0.0377</td>\n",
       "      <td>0.000000</td>\n",
       "      <td>0.154</td>\n",
       "      <td>0.721</td>\n",
       "      <td>99.048</td>\n",
       "      <td>227395</td>\n",
       "    </tr>\n",
       "    <tr>\n",
       "      <th>3</th>\n",
       "      <td>0.748</td>\n",
       "      <td>0.551</td>\n",
       "      <td>11</td>\n",
       "      <td>-6.120</td>\n",
       "      <td>1</td>\n",
       "      <td>0.0349</td>\n",
       "      <td>0.2350</td>\n",
       "      <td>0.000000</td>\n",
       "      <td>0.119</td>\n",
       "      <td>0.660</td>\n",
       "      <td>103.953</td>\n",
       "      <td>144533</td>\n",
       "    </tr>\n",
       "    <tr>\n",
       "      <th>4</th>\n",
       "      <td>0.595</td>\n",
       "      <td>0.759</td>\n",
       "      <td>11</td>\n",
       "      <td>-4.245</td>\n",
       "      <td>0</td>\n",
       "      <td>0.0423</td>\n",
       "      <td>0.1410</td>\n",
       "      <td>0.000000</td>\n",
       "      <td>0.172</td>\n",
       "      <td>0.515</td>\n",
       "      <td>80.953</td>\n",
       "      <td>163733</td>\n",
       "    </tr>\n",
       "  </tbody>\n",
       "</table>\n",
       "</div>"
      ],
      "text/plain": [
       "   danceability  energy  key  loudness  mode  speechiness  acousticness  \\\n",
       "0         0.658   0.634    1    -5.797     0       0.0413        0.0106   \n",
       "1         0.333   0.637    1    -4.904     0       0.0581        0.1310   \n",
       "2         0.713   0.676   10    -5.483     1       0.0270        0.0377   \n",
       "3         0.748   0.551   11    -6.120     1       0.0349        0.2350   \n",
       "4         0.595   0.759   11    -4.245     0       0.0423        0.1410   \n",
       "\n",
       "   instrumentalness  liveness  valence    tempo  duration_ms  \n",
       "0          0.000000     0.132    0.290  139.980       170813  \n",
       "1          0.000018     0.149    0.132  139.898       172693  \n",
       "2          0.000000     0.154    0.721   99.048       227395  \n",
       "3          0.000000     0.119    0.660  103.953       144533  \n",
       "4          0.000000     0.172    0.515   80.953       163733  "
      ]
     },
     "execution_count": 320,
     "metadata": {},
     "output_type": "execute_result"
    }
   ],
   "source": [
    "#----Before Scaling-----#\n",
    "\n",
    "x.head()"
   ]
  },
  {
   "cell_type": "code",
   "execution_count": 321,
   "id": "56027037",
   "metadata": {},
   "outputs": [
    {
     "data": {
      "text/plain": [
       "<AxesSubplot:>"
      ]
     },
     "execution_count": 321,
     "metadata": {},
     "output_type": "execute_result"
    },
    {
     "data": {
      "image/png": "[encoded data removed]",
      "text/plain": [
       "<Figure size 864x720 with 2 Axes>"
      ]
     },
     "metadata": {
      "needs_background": "light"
     },
     "output_type": "display_data"
    }
   ],
   "source": [
    "#-------------correlation--------------#\n",
    "\n",
    "fig, ax = plt.subplots(figsize = (12,10))\n",
    "sns.heatmap(round(x.corr(),2), annot = True, cmap=\"seismic\", center = 0)\n"
   ]
  },
  {
   "cell_type": "markdown",
   "id": "b9ee507a",
   "metadata": {},
   "source": [
    "Choice of features based on the correlation: \n",
    " \n",
    "**danceability, key, speechiness, accousticness, tempo, duration_ms**  \n",
    " \n",
    "Not taken into account:\n",
    "   'energy':  high correlation (> 90%) with acousticness and loudness.\n",
    "   'loudness': high correlation (88%) with acousticness\n",
    "   'mode'\n",
    "   'instrumentalness': high correlation (88%) with acousticness and (69%) with danceability .\n",
    "   \n",
    " "
   ]
  },
  {
   "cell_type": "code",
   "execution_count": 302,
   "id": "cb59e78e",
   "metadata": {},
   "outputs": [
    {
     "data": {
      "image/png": "[encoded data removed]",
      "text/plain": [
       "<Figure size 936x1296 with 12 Axes>"
      ]
     },
     "metadata": {
      "needs_background": "light"
     },
     "output_type": "display_data"
    }
   ],
   "source": [
    "fig, ax = plt.subplots(4,3, figsize = (13,18))\n",
    "\n",
    "ax[0,0].set_title('danceability')\n",
    "ax[0,1].set_title('energy')\n",
    "ax[0,2].set_title('key')\n",
    "ax[1,0].set_title('loudness')\n",
    "ax[1,1].set_title('mode')\n",
    "ax[1,2].set_title('speechiness')\n",
    "ax[2,0].set_title('acousticness')\n",
    "ax[2,1].set_title('instrumentalness')\n",
    "ax[2,2].set_title('liveness')\n",
    "ax[3,0].set_title('valence')\n",
    "ax[3,1].set_title('tempo')\n",
    "ax[3,2].set_title('duration')\n",
    "\n",
    "\n",
    "ax[0,0].hist(x['danceability'], bins = 100)           #sns.distplot(dataframe)\n",
    "ax[0,1].hist(x['energy'], bins = 100)\n",
    "ax[0,2].hist(x['key'], bins = 100)\n",
    "ax[1,0].hist(x['loudness'], bins =100)\n",
    "ax[1,1].hist(x['mode'], bins =100)\n",
    "ax[1,2].hist(x['speechiness'], bins =100)\n",
    "ax[2,0].hist(x['acousticness'], bins =100)\n",
    "ax[2,1].hist(x['instrumentalness'], bins =100)\n",
    "ax[2,2].hist(x['liveness'], bins =100)\n",
    "ax[3,0].hist(x['valence'], bins =100)\n",
    "ax[3,1].hist(x['tempo'], bins =100)\n",
    "ax[3,2].hist(df['duration_ms'], bins =100)\n",
    "\n",
    "\n",
    "plt.show()"
   ]
  },
  {
   "cell_type": "code",
   "execution_count": 322,
   "id": "553ecc1a",
   "metadata": {},
   "outputs": [
    {
     "data": {
      "text/html": [
       "<div>\n",
       "<style scoped>\n",
       "    .dataframe tbody tr th:only-of-type {\n",
       "        vertical-align: middle;\n",
       "    }\n",
       "\n",
       "    .dataframe tbody tr th {\n",
       "        vertical-align: top;\n",
       "    }\n",
       "\n",
       "    .dataframe thead th {\n",
       "        text-align: right;\n",
       "    }\n",
       "</style>\n",
       "<table border=\"1\" class=\"dataframe\">\n",
       "  <thead>\n",
       "    <tr style=\"text-align: right;\">\n",
       "      <th></th>\n",
       "      <th>danceability</th>\n",
       "      <th>key</th>\n",
       "      <th>speechiness</th>\n",
       "      <th>acousticness</th>\n",
       "      <th>valence</th>\n",
       "      <th>tempo</th>\n",
       "      <th>duration_ms</th>\n",
       "    </tr>\n",
       "  </thead>\n",
       "  <tbody>\n",
       "    <tr>\n",
       "      <th>0</th>\n",
       "      <td>0.658</td>\n",
       "      <td>1</td>\n",
       "      <td>0.0413</td>\n",
       "      <td>0.0106</td>\n",
       "      <td>0.290</td>\n",
       "      <td>139.980</td>\n",
       "      <td>170813</td>\n",
       "    </tr>\n",
       "    <tr>\n",
       "      <th>1</th>\n",
       "      <td>0.333</td>\n",
       "      <td>1</td>\n",
       "      <td>0.0581</td>\n",
       "      <td>0.1310</td>\n",
       "      <td>0.132</td>\n",
       "      <td>139.898</td>\n",
       "      <td>172693</td>\n",
       "    </tr>\n",
       "    <tr>\n",
       "      <th>2</th>\n",
       "      <td>0.713</td>\n",
       "      <td>10</td>\n",
       "      <td>0.0270</td>\n",
       "      <td>0.0377</td>\n",
       "      <td>0.721</td>\n",
       "      <td>99.048</td>\n",
       "      <td>227395</td>\n",
       "    </tr>\n",
       "    <tr>\n",
       "      <th>3</th>\n",
       "      <td>0.748</td>\n",
       "      <td>11</td>\n",
       "      <td>0.0349</td>\n",
       "      <td>0.2350</td>\n",
       "      <td>0.660</td>\n",
       "      <td>103.953</td>\n",
       "      <td>144533</td>\n",
       "    </tr>\n",
       "    <tr>\n",
       "      <th>4</th>\n",
       "      <td>0.595</td>\n",
       "      <td>11</td>\n",
       "      <td>0.0423</td>\n",
       "      <td>0.1410</td>\n",
       "      <td>0.515</td>\n",
       "      <td>80.953</td>\n",
       "      <td>163733</td>\n",
       "    </tr>\n",
       "    <tr>\n",
       "      <th>...</th>\n",
       "      <td>...</td>\n",
       "      <td>...</td>\n",
       "      <td>...</td>\n",
       "      <td>...</td>\n",
       "      <td>...</td>\n",
       "      <td>...</td>\n",
       "      <td>...</td>\n",
       "    </tr>\n",
       "    <tr>\n",
       "      <th>1671</th>\n",
       "      <td>0.885</td>\n",
       "      <td>1</td>\n",
       "      <td>0.0524</td>\n",
       "      <td>0.1450</td>\n",
       "      <td>0.906</td>\n",
       "      <td>121.632</td>\n",
       "      <td>298867</td>\n",
       "    </tr>\n",
       "    <tr>\n",
       "      <th>1672</th>\n",
       "      <td>0.799</td>\n",
       "      <td>2</td>\n",
       "      <td>0.0606</td>\n",
       "      <td>0.0453</td>\n",
       "      <td>0.518</td>\n",
       "      <td>140.309</td>\n",
       "      <td>242667</td>\n",
       "    </tr>\n",
       "    <tr>\n",
       "      <th>1673</th>\n",
       "      <td>0.539</td>\n",
       "      <td>0</td>\n",
       "      <td>0.0472</td>\n",
       "      <td>0.3420</td>\n",
       "      <td>0.611</td>\n",
       "      <td>112.399</td>\n",
       "      <td>280360</td>\n",
       "    </tr>\n",
       "    <tr>\n",
       "      <th>1674</th>\n",
       "      <td>0.382</td>\n",
       "      <td>9</td>\n",
       "      <td>0.0267</td>\n",
       "      <td>0.0465</td>\n",
       "      <td>0.335</td>\n",
       "      <td>140.059</td>\n",
       "      <td>243360</td>\n",
       "    </tr>\n",
       "    <tr>\n",
       "      <th>1675</th>\n",
       "      <td>0.877</td>\n",
       "      <td>1</td>\n",
       "      <td>0.1470</td>\n",
       "      <td>0.0544</td>\n",
       "      <td>0.540</td>\n",
       "      <td>114.472</td>\n",
       "      <td>298120</td>\n",
       "    </tr>\n",
       "  </tbody>\n",
       "</table>\n",
       "<p>1676 rows × 7 columns</p>\n",
       "</div>"
      ],
      "text/plain": [
       "      danceability  key  speechiness  acousticness  valence    tempo  \\\n",
       "0            0.658    1       0.0413        0.0106    0.290  139.980   \n",
       "1            0.333    1       0.0581        0.1310    0.132  139.898   \n",
       "2            0.713   10       0.0270        0.0377    0.721   99.048   \n",
       "3            0.748   11       0.0349        0.2350    0.660  103.953   \n",
       "4            0.595   11       0.0423        0.1410    0.515   80.953   \n",
       "...            ...  ...          ...           ...      ...      ...   \n",
       "1671         0.885    1       0.0524        0.1450    0.906  121.632   \n",
       "1672         0.799    2       0.0606        0.0453    0.518  140.309   \n",
       "1673         0.539    0       0.0472        0.3420    0.611  112.399   \n",
       "1674         0.382    9       0.0267        0.0465    0.335  140.059   \n",
       "1675         0.877    1       0.1470        0.0544    0.540  114.472   \n",
       "\n",
       "      duration_ms  \n",
       "0          170813  \n",
       "1          172693  \n",
       "2          227395  \n",
       "3          144533  \n",
       "4          163733  \n",
       "...           ...  \n",
       "1671       298867  \n",
       "1672       242667  \n",
       "1673       280360  \n",
       "1674       243360  \n",
       "1675       298120  \n",
       "\n",
       "[1676 rows x 7 columns]"
      ]
     },
     "execution_count": 322,
     "metadata": {},
     "output_type": "execute_result"
    }
   ],
   "source": [
    "x = x.drop(['mode', 'loudness', 'energy', 'instrumentalness', 'liveness'], axis = 1)\n",
    "x"
   ]
  },
  {
   "cell_type": "code",
   "execution_count": 323,
   "id": "75e9f66c",
   "metadata": {},
   "outputs": [],
   "source": [
    "#---------------standardization of the features (z-score)-------------#\n",
    "\n",
    "scaler = StandardScaler()\n",
    "x_scaled = scaler.fit_transform(x)"
   ]
  },
  {
   "cell_type": "code",
   "execution_count": 324,
   "id": "393b23c4",
   "metadata": {},
   "outputs": [
    {
     "data": {
      "text/html": [
       "<div>\n",
       "<style scoped>\n",
       "    .dataframe tbody tr th:only-of-type {\n",
       "        vertical-align: middle;\n",
       "    }\n",
       "\n",
       "    .dataframe tbody tr th {\n",
       "        vertical-align: top;\n",
       "    }\n",
       "\n",
       "    .dataframe thead th {\n",
       "        text-align: right;\n",
       "    }\n",
       "</style>\n",
       "<table border=\"1\" class=\"dataframe\">\n",
       "  <thead>\n",
       "    <tr style=\"text-align: right;\">\n",
       "      <th></th>\n",
       "      <th>danceability</th>\n",
       "      <th>key</th>\n",
       "      <th>speechiness</th>\n",
       "      <th>acousticness</th>\n",
       "      <th>valence</th>\n",
       "      <th>tempo</th>\n",
       "      <th>duration_ms</th>\n",
       "    </tr>\n",
       "  </thead>\n",
       "  <tbody>\n",
       "    <tr>\n",
       "      <th>0</th>\n",
       "      <td>0.607923</td>\n",
       "      <td>-1.103639</td>\n",
       "      <td>-0.411186</td>\n",
       "      <td>-1.067508</td>\n",
       "      <td>-0.415202</td>\n",
       "      <td>0.869689</td>\n",
       "      <td>-0.441422</td>\n",
       "    </tr>\n",
       "    <tr>\n",
       "      <th>1</th>\n",
       "      <td>-0.974886</td>\n",
       "      <td>-1.103639</td>\n",
       "      <td>-0.179240</td>\n",
       "      <td>-0.777437</td>\n",
       "      <td>-1.013377</td>\n",
       "      <td>0.866932</td>\n",
       "      <td>-0.409787</td>\n",
       "    </tr>\n",
       "    <tr>\n",
       "      <th>2</th>\n",
       "      <td>0.875783</td>\n",
       "      <td>1.450410</td>\n",
       "      <td>-0.608616</td>\n",
       "      <td>-1.002218</td>\n",
       "      <td>1.216529</td>\n",
       "      <td>-0.506498</td>\n",
       "      <td>0.510701</td>\n",
       "    </tr>\n",
       "    <tr>\n",
       "      <th>3</th>\n",
       "      <td>1.046240</td>\n",
       "      <td>1.734194</td>\n",
       "      <td>-0.499546</td>\n",
       "      <td>-0.526877</td>\n",
       "      <td>0.985588</td>\n",
       "      <td>-0.341586</td>\n",
       "      <td>-0.883644</td>\n",
       "    </tr>\n",
       "    <tr>\n",
       "      <th>4</th>\n",
       "      <td>0.301102</td>\n",
       "      <td>1.734194</td>\n",
       "      <td>-0.397380</td>\n",
       "      <td>-0.753344</td>\n",
       "      <td>0.436630</td>\n",
       "      <td>-1.114876</td>\n",
       "      <td>-0.560559</td>\n",
       "    </tr>\n",
       "  </tbody>\n",
       "</table>\n",
       "</div>"
      ],
      "text/plain": [
       "   danceability       key  speechiness  acousticness   valence     tempo  \\\n",
       "0      0.607923 -1.103639    -0.411186     -1.067508 -0.415202  0.869689   \n",
       "1     -0.974886 -1.103639    -0.179240     -0.777437 -1.013377  0.866932   \n",
       "2      0.875783  1.450410    -0.608616     -1.002218  1.216529 -0.506498   \n",
       "3      1.046240  1.734194    -0.499546     -0.526877  0.985588 -0.341586   \n",
       "4      0.301102  1.734194    -0.397380     -0.753344  0.436630 -1.114876   \n",
       "\n",
       "   duration_ms  \n",
       "0    -0.441422  \n",
       "1    -0.409787  \n",
       "2     0.510701  \n",
       "3    -0.883644  \n",
       "4    -0.560559  "
      ]
     },
     "execution_count": 324,
     "metadata": {},
     "output_type": "execute_result"
    }
   ],
   "source": [
    "#----After Scaling-----#\n",
    "\n",
    "x_scaled_df = pd.DataFrame(x_scaled, columns = x.columns)\n",
    "x_scaled_df.head() "
   ]
  },
  {
   "cell_type": "code",
   "execution_count": 260,
   "id": "326dc67d",
   "metadata": {},
   "outputs": [
    {
     "data": {
      "text/plain": [
       "1676"
      ]
     },
     "execution_count": 260,
     "metadata": {},
     "output_type": "execute_result"
    }
   ],
   "source": [
    "len(x_scaled_df)"
   ]
  },
  {
   "cell_type": "code",
   "execution_count": 325,
   "id": "067d4c5d",
   "metadata": {},
   "outputs": [
    {
     "data": {
      "text/plain": [
       "KMeans(random_state=15)"
      ]
     },
     "execution_count": 325,
     "metadata": {},
     "output_type": "execute_result"
    }
   ],
   "source": [
    "#--------------K Means Clustering------------#\n",
    "\n",
    "kmeans = KMeans(n_clusters = 8, random_state = 15)\n",
    "kmeans.fit(x_scaled_df)"
   ]
  },
  {
   "cell_type": "code",
   "execution_count": 326,
   "id": "044559fe",
   "metadata": {},
   "outputs": [
    {
     "data": {
      "text/plain": [
       "array([6, 6, 2, ..., 1, 2, 1])"
      ]
     },
     "execution_count": 326,
     "metadata": {},
     "output_type": "execute_result"
    }
   ],
   "source": [
    "kmeans.labels_"
   ]
  },
  {
   "cell_type": "code",
   "execution_count": 327,
   "id": "a9a8ba35",
   "metadata": {},
   "outputs": [
    {
     "data": {
      "text/plain": [
       "1676"
      ]
     },
     "execution_count": 327,
     "metadata": {},
     "output_type": "execute_result"
    }
   ],
   "source": [
    "len(kmeans.labels_)"
   ]
  },
  {
   "cell_type": "code",
   "execution_count": 328,
   "id": "503b27b4",
   "metadata": {},
   "outputs": [
    {
     "data": {
      "text/plain": [
       "4358.123427729633"
      ]
     },
     "execution_count": 328,
     "metadata": {},
     "output_type": "execute_result"
    }
   ],
   "source": [
    "kmeans.inertia_"
   ]
  },
  {
   "cell_type": "code",
   "execution_count": 329,
   "id": "f438c97a",
   "metadata": {},
   "outputs": [
    {
     "data": {
      "text/plain": [
       "0    248\n",
       "1    233\n",
       "2    326\n",
       "3    127\n",
       "4    162\n",
       "5    107\n",
       "6    246\n",
       "7    227\n",
       "dtype: int64"
      ]
     },
     "execution_count": 329,
     "metadata": {},
     "output_type": "execute_result"
    }
   ],
   "source": [
    "#--------------Model prediction results on the training data------------#\n",
    "\n",
    "clusters = kmeans.predict(x_scaled_df)\n",
    "pd.Series(clusters).value_counts().sort_index()"
   ]
  },
  {
   "cell_type": "code",
   "execution_count": 330,
   "id": "4b636436",
   "metadata": {},
   "outputs": [
    {
     "data": {
      "text/plain": [
       "danceability    0.607923\n",
       "key            -1.103639\n",
       "speechiness    -0.411186\n",
       "acousticness   -1.067508\n",
       "valence        -0.415202\n",
       "tempo           0.869689\n",
       "duration_ms    -0.441422\n",
       "Name: 0, dtype: float64"
      ]
     },
     "execution_count": 330,
     "metadata": {},
     "output_type": "execute_result"
    }
   ],
   "source": [
    "x_scaled_df.iloc[0]"
   ]
  },
  {
   "cell_type": "code",
   "execution_count": 331,
   "id": "75e29ae4",
   "metadata": {},
   "outputs": [
    {
     "data": {
      "text/plain": [
       "array([2])"
      ]
     },
     "execution_count": 331,
     "metadata": {},
     "output_type": "execute_result"
    }
   ],
   "source": [
    "kmeans.predict([x_scaled_df.iloc[2]])"
   ]
  },
  {
   "cell_type": "code",
   "execution_count": 335,
   "id": "90752ae5",
   "metadata": {},
   "outputs": [
    {
     "data": {
      "text/html": [
       "<div>\n",
       "<style scoped>\n",
       "    .dataframe tbody tr th:only-of-type {\n",
       "        vertical-align: middle;\n",
       "    }\n",
       "\n",
       "    .dataframe tbody tr th {\n",
       "        vertical-align: top;\n",
       "    }\n",
       "\n",
       "    .dataframe thead th {\n",
       "        text-align: right;\n",
       "    }\n",
       "</style>\n",
       "<table border=\"1\" class=\"dataframe\">\n",
       "  <thead>\n",
       "    <tr style=\"text-align: right;\">\n",
       "      <th></th>\n",
       "      <th>index</th>\n",
       "      <th>danceability</th>\n",
       "      <th>energy</th>\n",
       "      <th>key</th>\n",
       "      <th>loudness</th>\n",
       "      <th>mode</th>\n",
       "      <th>speechiness</th>\n",
       "      <th>acousticness</th>\n",
       "      <th>instrumentalness</th>\n",
       "      <th>liveness</th>\n",
       "      <th>...</th>\n",
       "      <th>type</th>\n",
       "      <th>id</th>\n",
       "      <th>uri</th>\n",
       "      <th>track_href</th>\n",
       "      <th>analysis_url</th>\n",
       "      <th>duration_ms</th>\n",
       "      <th>time_signature</th>\n",
       "      <th>artist</th>\n",
       "      <th>song_name</th>\n",
       "      <th>cluster</th>\n",
       "    </tr>\n",
       "  </thead>\n",
       "  <tbody>\n",
       "    <tr>\n",
       "      <th>0</th>\n",
       "      <td>0</td>\n",
       "      <td>0.658</td>\n",
       "      <td>0.634</td>\n",
       "      <td>1</td>\n",
       "      <td>-5.797</td>\n",
       "      <td>0</td>\n",
       "      <td>0.0413</td>\n",
       "      <td>0.0106</td>\n",
       "      <td>0.000000</td>\n",
       "      <td>0.132</td>\n",
       "      <td>...</td>\n",
       "      <td>audio_features</td>\n",
       "      <td>4u4NyuceXP7Uzh7XFJKCr1</td>\n",
       "      <td>spotify:track:4u4NyuceXP7Uzh7XFJKCr1</td>\n",
       "      <td>https://api.spotify.com/v1/tracks/4u4NyuceXP7U...</td>\n",
       "      <td>https://api.spotify.com/v1/audio-analysis/4u4N...</td>\n",
       "      <td>170813</td>\n",
       "      <td>4</td>\n",
       "      <td>Justin Bieber</td>\n",
       "      <td>Hold On</td>\n",
       "      <td>6</td>\n",
       "    </tr>\n",
       "    <tr>\n",
       "      <th>1</th>\n",
       "      <td>1</td>\n",
       "      <td>0.333</td>\n",
       "      <td>0.637</td>\n",
       "      <td>1</td>\n",
       "      <td>-4.904</td>\n",
       "      <td>0</td>\n",
       "      <td>0.0581</td>\n",
       "      <td>0.1310</td>\n",
       "      <td>0.000018</td>\n",
       "      <td>0.149</td>\n",
       "      <td>...</td>\n",
       "      <td>audio_features</td>\n",
       "      <td>5KCbr5ndeby4y4ggthdiAb</td>\n",
       "      <td>spotify:track:5KCbr5ndeby4y4ggthdiAb</td>\n",
       "      <td>https://api.spotify.com/v1/tracks/5KCbr5ndeby4...</td>\n",
       "      <td>https://api.spotify.com/v1/audio-analysis/5KCb...</td>\n",
       "      <td>172693</td>\n",
       "      <td>4</td>\n",
       "      <td>Shawn Mendes</td>\n",
       "      <td>Wonder</td>\n",
       "      <td>6</td>\n",
       "    </tr>\n",
       "  </tbody>\n",
       "</table>\n",
       "<p>2 rows × 22 columns</p>\n",
       "</div>"
      ],
      "text/plain": [
       "   index  danceability  energy  key  loudness  mode  speechiness  \\\n",
       "0      0         0.658   0.634    1    -5.797     0       0.0413   \n",
       "1      1         0.333   0.637    1    -4.904     0       0.0581   \n",
       "\n",
       "   acousticness  instrumentalness  liveness  ...            type  \\\n",
       "0        0.0106          0.000000     0.132  ...  audio_features   \n",
       "1        0.1310          0.000018     0.149  ...  audio_features   \n",
       "\n",
       "                       id                                   uri  \\\n",
       "0  4u4NyuceXP7Uzh7XFJKCr1  spotify:track:4u4NyuceXP7Uzh7XFJKCr1   \n",
       "1  5KCbr5ndeby4y4ggthdiAb  spotify:track:5KCbr5ndeby4y4ggthdiAb   \n",
       "\n",
       "                                          track_href  \\\n",
       "0  https://api.spotify.com/v1/tracks/4u4NyuceXP7U...   \n",
       "1  https://api.spotify.com/v1/tracks/5KCbr5ndeby4...   \n",
       "\n",
       "                                        analysis_url duration_ms  \\\n",
       "0  https://api.spotify.com/v1/audio-analysis/4u4N...      170813   \n",
       "1  https://api.spotify.com/v1/audio-analysis/5KCb...      172693   \n",
       "\n",
       "  time_signature         artist  song_name cluster  \n",
       "0              4  Justin Bieber    Hold On       6  \n",
       "1              4   Shawn Mendes     Wonder       6  \n",
       "\n",
       "[2 rows x 22 columns]"
      ]
     },
     "execution_count": 335,
     "metadata": {},
     "output_type": "execute_result"
    }
   ],
   "source": [
    "#---------addition of the cluster to the original imported dataframe---------#\n",
    "\n",
    "df['cluster'] = clusters\n",
    "df.head(2)"
   ]
  },
  {
   "cell_type": "code",
   "execution_count": 333,
   "id": "f2440243",
   "metadata": {},
   "outputs": [],
   "source": [
    "#--------------saving the data frame including the cluster information to the csv file--------#\n",
    "\n",
    "df.to_csv('the_clustered_spotify_songs.csv', index = False)"
   ]
  },
  {
   "cell_type": "code",
   "execution_count": 334,
   "id": "f94eddff",
   "metadata": {},
   "outputs": [],
   "source": [
    "#--------------saving the model parameters in a file--------#\n",
    "\n",
    "with open(\"kmeans_pickle\", \"wb\") as f:\n",
    "    pickle.dump(kmeans,f)\n",
    "    \n",
    "with open(\"scaler_pickle\", \"wb\") as f:\n",
    "    pickle.dump(scaler,f)"
   ]
  },
  {
   "cell_type": "code",
   "execution_count": 339,
   "id": "3a6ac4cf",
   "metadata": {},
   "outputs": [
    {
     "name": "stdout",
     "output_type": "stream",
     "text": [
      "4358.092254443472\n"
     ]
    }
   ],
   "source": [
    "kmeans2 = KMeans(n_clusters=8,\n",
    "                init=\"k-means++\",\n",
    "                n_init=100,  # try with 1, 4, 8, 20, 30, 100...\n",
    "                max_iter=18,\n",
    "                tol=0,\n",
    "                algorithm=\"elkan\",\n",
    "                random_state=1234)\n",
    "kmeans2.fit(x_scaled_df)\n",
    "print(kmeans2.inertia_)"
   ]
  },
  {
   "cell_type": "code",
   "execution_count": 340,
   "id": "8cb85185",
   "metadata": {},
   "outputs": [
    {
     "data": {
      "text/plain": [
       "Text(0.5, 1.0, 'Elbow Method showing the optimal k')"
      ]
     },
     "execution_count": 340,
     "metadata": {},
     "output_type": "execute_result"
    },
    {
     "data": {
      "image/png": "[encoded data removed]",
      "text/plain": [
       "<Figure size 1152x576 with 1 Axes>"
      ]
     },
     "metadata": {
      "needs_background": "light"
     },
     "output_type": "display_data"
    }
   ],
   "source": [
    "K = range(2, 21)\n",
    "inertia = []\n",
    "\n",
    "for k in K:\n",
    "    #print(\"Training a K-Means model with {} neighbours! \".format(k))\n",
    "    #print()\n",
    "    kmeans = KMeans(n_clusters=k,\n",
    "                    random_state=1234)\n",
    "    kmeans.fit(x_scaled_df)\n",
    "    inertia.append(kmeans.inertia_)\n",
    "\n",
    "import numpy as np\n",
    "import matplotlib.pyplot as plt\n",
    "%matplotlib inline\n",
    "\n",
    "plt.figure(figsize=(16,8))\n",
    "plt.plot(K, inertia, 'bx-')\n",
    "plt.xlabel('k')\n",
    "plt.ylabel('inertia')\n",
    "plt.xticks(np.arange(min(K), max(K)+1, 1.0))\n",
    "plt.title('Elbow Method showing the optimal k')"
   ]
  },
  {
   "cell_type": "code",
   "execution_count": 341,
   "id": "6539b38f",
   "metadata": {},
   "outputs": [
    {
     "data": {
      "text/plain": [
       "Text(0.5, 1.0, 'Silhouette Method showing the optimal k')"
      ]
     },
     "execution_count": 341,
     "metadata": {},
     "output_type": "execute_result"
    },
    {
     "data": {
      "image/png": "[encoded data removed]",
      "text/plain": [
       "<Figure size 1152x576 with 1 Axes>"
      ]
     },
     "metadata": {
      "needs_background": "light"
     },
     "output_type": "display_data"
    }
   ],
   "source": [
    "from sklearn.cluster import KMeans\n",
    "from sklearn.metrics import silhouette_score, silhouette_samples\n",
    "import pickle\n",
    "\n",
    "\n",
    "K = range(2, 20)\n",
    "silhouette = []\n",
    "\n",
    "for k in K:\n",
    "    kmeans = KMeans(n_clusters=k,\n",
    "                    random_state=1234)\n",
    "    kmeans.fit(x_scaled_df)\n",
    "    #filename = \"Model/kmeans_\" + str(k) + \".pickle\"\n",
    "    #with open(filename, \"wb\") as f:\n",
    "        #pickle.dump(kmeans,f)\n",
    "    silhouette.append(silhouette_score(x_scaled_df, kmeans.predict(x_scaled_df)))\n",
    "\n",
    "\n",
    "plt.figure(figsize=(16,8))\n",
    "plt.plot(K, silhouette, 'bx-')\n",
    "plt.xlabel('k')\n",
    "plt.ylabel('silhouette score')\n",
    "plt.xticks(np.arange(min(K), max(K)+1, 1.0))\n",
    "plt.title('Silhouette Method showing the optimal k')"
   ]
  },
  {
   "cell_type": "code",
   "execution_count": null,
   "id": "b599add7",
   "metadata": {},
   "outputs": [],
   "source": [
    "#visualizer = SilhouetteVisualizer(model, colors='yellowbrick')"
   ]
  }
 ],
 "metadata": {
  "kernelspec": {
   "display_name": "Python 3",
   "language": "python",
   "name": "python3"
  },
  "language_info": {
   "codemirror_mode": {
    "name": "ipython",
    "version": 3
   },
   "file_extension": ".py",
   "mimetype": "text/x-python",
   "name": "python",
   "nbconvert_exporter": "python",
   "pygments_lexer": "ipython3",
   "version": "3.8.8"
  }
 },
 "nbformat": 4,
 "nbformat_minor": 5
}
