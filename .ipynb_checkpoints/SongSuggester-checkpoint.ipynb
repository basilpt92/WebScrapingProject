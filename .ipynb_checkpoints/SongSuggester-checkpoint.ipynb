{
 "cells": [
  {
   "cell_type": "code",
   "execution_count": 125,
   "id": "5a4d5357",
   "metadata": {},
   "outputs": [],
   "source": [
    "from bs4 import BeautifulSoup\n",
    "import requests\n",
    "import json\n",
    "\n",
    "\n",
    "import random \n",
    "from time import sleep\n",
    "\n",
    "import pandas as pd\n",
    "\n",
    "from spellchecker import SpellChecker"
   ]
  },
  {
   "cell_type": "code",
   "execution_count": 116,
   "id": "a764f444",
   "metadata": {},
   "outputs": [],
   "source": [
    "\n",
    "response = requests.get('https://developers.google.com/')"
   ]
  },
  {
   "cell_type": "code",
   "execution_count": 117,
   "id": "56f7fa57",
   "metadata": {},
   "outputs": [
    {
     "data": {
      "text/plain": [
       "200"
      ]
     },
     "execution_count": 117,
     "metadata": {},
     "output_type": "execute_result"
    }
   ],
   "source": [
    "google.status_code"
   ]
  },
  {
   "cell_type": "code",
   "execution_count": 120,
   "id": "4f5e7db4",
   "metadata": {},
   "outputs": [],
   "source": [
    "import json\n",
    "\n",
    "\n",
    "response = requests.get('https://jsonplaceholder.typicode.com/todos')\n",
    "results = response.json()"
   ]
  },
  {
   "cell_type": "code",
   "execution_count": null,
   "id": "b0e70b3f",
   "metadata": {},
   "outputs": [],
   "source": [
    "pd.DataFrame(results)\n",
    "pd.json_normalize(response.json())"
   ]
  },
  {
   "cell_type": "code",
   "execution_count": 122,
   "id": "9d12d2b2",
   "metadata": {},
   "outputs": [
    {
     "data": {
      "text/plain": [
       "'delectus aut autem'"
      ]
     },
     "execution_count": 122,
     "metadata": {},
     "output_type": "execute_result"
    }
   ],
   "source": [
    "results[0]['title']"
   ]
  },
  {
   "cell_type": "code",
   "execution_count": 129,
   "id": "9ee68703",
   "metadata": {},
   "outputs": [
    {
     "data": {
      "text/plain": [
       "'5e587f09012c4500a51a795029668b7f'"
      ]
     },
     "execution_count": 129,
     "metadata": {},
     "output_type": "execute_result"
    }
   ],
   "source": [
    "import config\n",
    "\n",
    "config.client_id\n",
    "config.client_secret"
   ]
  },
  {
   "cell_type": "code",
   "execution_count": 133,
   "id": "76039bfc",
   "metadata": {},
   "outputs": [
    {
     "ename": "ModuleNotFoundError",
     "evalue": "No module named 'spotify'",
     "output_type": "error",
     "traceback": [
      "\u001b[1;31m---------------------------------------------------------------------------\u001b[0m",
      "\u001b[1;31mModuleNotFoundError\u001b[0m                       Traceback (most recent call last)",
      "\u001b[1;32m<ipython-input-133-cd93ee50dbd6>\u001b[0m in \u001b[0;36m<module>\u001b[1;34m\u001b[0m\n\u001b[1;32m----> 1\u001b[1;33m \u001b[1;32mimport\u001b[0m \u001b[0mspotify\u001b[0m\u001b[1;33m\u001b[0m\u001b[1;33m\u001b[0m\u001b[0m\n\u001b[0m\u001b[0;32m      2\u001b[0m \u001b[1;32mimport\u001b[0m \u001b[0mjson\u001b[0m\u001b[1;33m\u001b[0m\u001b[1;33m\u001b[0m\u001b[0m\n\u001b[0;32m      3\u001b[0m \u001b[1;33m\u001b[0m\u001b[0m\n\u001b[0;32m      4\u001b[0m \u001b[1;32mfrom\u001b[0m \u001b[0mspotify\u001b[0m\u001b[1;33m.\u001b[0m\u001b[0moath2\u001b[0m \u001b[1;32mimport\u001b[0m \u001b[0mSpotifyClientCredentials\u001b[0m\u001b[1;33m\u001b[0m\u001b[1;33m\u001b[0m\u001b[0m\n",
      "\u001b[1;31mModuleNotFoundError\u001b[0m: No module named 'spotify'"
     ]
    }
   ],
   "source": [
    "import spotify\n",
    "import json\n",
    "\n",
    "from spotify.oath2 import SpotifyClientCredentials"
   ]
  },
  {
   "cell_type": "code",
   "execution_count": 132,
   "id": "213c79c5",
   "metadata": {},
   "outputs": [
    {
     "ename": "ModuleNotFoundError",
     "evalue": "No module named 'Spotify'",
     "output_type": "error",
     "traceback": [
      "\u001b[1;31m---------------------------------------------------------------------------\u001b[0m",
      "\u001b[1;31mModuleNotFoundError\u001b[0m                       Traceback (most recent call last)",
      "\u001b[1;32m<ipython-input-132-de2fb3ec3f43>\u001b[0m in \u001b[0;36m<module>\u001b[1;34m\u001b[0m\n\u001b[1;32m----> 1\u001b[1;33m \u001b[1;32mimport\u001b[0m \u001b[0mSpotify\u001b[0m\u001b[1;33m\u001b[0m\u001b[1;33m\u001b[0m\u001b[0m\n\u001b[0m",
      "\u001b[1;31mModuleNotFoundError\u001b[0m: No module named 'Spotify'"
     ]
    }
   ],
   "source": [
    "import Spotify"
   ]
  },
  {
   "cell_type": "markdown",
   "id": "4a24f7e9",
   "metadata": {},
   "source": [
    "## Scraping the Billbord Website for 100 Hot songs"
   ]
  },
  {
   "cell_type": "code",
   "execution_count": 75,
   "id": "edfe6066",
   "metadata": {},
   "outputs": [],
   "source": [
    "#------scrapping 2021 data-------#\n",
    "\n",
    "url = \"https://www.billboard.com/charts/hot-100\"\n",
    "response = requests.get(url)\n",
    "newest_soup = BeautifulSoup(response.content, 'html.parser')"
   ]
  },
  {
   "cell_type": "code",
   "execution_count": 76,
   "id": "678c4f8a",
   "metadata": {},
   "outputs": [
    {
     "data": {
      "text/plain": [
       "200"
      ]
     },
     "execution_count": 76,
     "metadata": {},
     "output_type": "execute_result"
    }
   ],
   "source": [
    "response.status_code"
   ]
  },
  {
   "cell_type": "code",
   "execution_count": 77,
   "id": "c67d835b",
   "metadata": {},
   "outputs": [],
   "source": [
    "#--------2021 song names--------#\n",
    "\n",
    "newest_name = newest_soup.select('span.chart-element__information__song.text--truncate.color--primary')\n",
    "newest_name = [t.text for t in newest_name]\n",
    "#newest_name"
   ]
  },
  {
   "cell_type": "code",
   "execution_count": 78,
   "id": "619c760c",
   "metadata": {},
   "outputs": [],
   "source": [
    "#--------2021 artist names--------#\n",
    "\n",
    "newest_artist = newest_soup.select('span.chart-element__information__artist.text--truncate.color--secondary')\n",
    "newest_artist = [t.text for t in newest_artist]\n",
    "#newest_artist"
   ]
  },
  {
   "cell_type": "code",
   "execution_count": 33,
   "id": "2182f4c3",
   "metadata": {},
   "outputs": [],
   "source": [
    "#------scrapping 2019,2020 data-------#\n",
    "\n",
    "str = 'https://www.billboard.com/charts/year-end/{}/hot-100-songs'\n",
    "#years = [ 2006, 2007 ,2008, 2009, 2010,2011, 2012, 2013, 2014, 2015, 2016, 2017, 2018 ,2019, 2020]\n",
    "years = [ 2019, 2020]\n",
    "\n",
    "\n",
    "older_song_soups = []\n",
    "older_artist_soups = []\n",
    "\n",
    "for year in years:\n",
    "    url = str.format(year)\n",
    "    response = requests.get(url)\n",
    "    #print(response.status_code)\n",
    "    \n",
    "    soup = BeautifulSoup(response.content)\n",
    "    older_song_soups.append(soup.find_all('div', class_ = 'ye-chart-item__title'))\n",
    "    older_artist_soups.append(soup.find_all('div', class_ = 'ye-chart-item__artist'))\n",
    "    \n",
    "    \n",
    "    wait_time = random.randint(1,4)\n",
    "    sleep(wait_time)"
   ]
  },
  {
   "cell_type": "code",
   "execution_count": 35,
   "id": "d62e3bba",
   "metadata": {},
   "outputs": [],
   "source": [
    "#------songs & artists 2006-2020------#\n",
    "\n",
    "for i in range(0,len(years)):\n",
    "    older_song_soups[i] = [t.text.replace('\\n','') for t in older_song_soups[i]]\n",
    "    older_artist_soups[i] = [t.text.replace('\\n','') for t in older_artist_soups[i]]\n",
    "    "
   ]
  },
  {
   "cell_type": "code",
   "execution_count": 35,
   "id": "52e94c27",
   "metadata": {},
   "outputs": [],
   "source": [
    "#------songs 2019------#\n",
    "#older_song_soups[0] = [t.text.replace('\\n','') for t in older_song_soups[0]]\n",
    "\n",
    "#------2020------#\n",
    "#older_song_soups[1] = [t.text.replace('\\n','') for t in older_song_soups[1]]\n",
    "\n",
    "#------artists 2019------#\n",
    "#older_artist_soups[0] = [t.text.replace('\\n','') for t in older_artist_soups[0]]\n",
    "\n",
    "#------2020------#\n",
    "#older_artist_soups[1] = [t.text.replace('\\n','') for t in older_artist_soups[1]]"
   ]
  },
  {
   "cell_type": "code",
   "execution_count": null,
   "id": "c39333dc",
   "metadata": {},
   "outputs": [],
   "source": [
    "#release_year = soup.find('span', class_ ='dropdown__year-select-date').get_text()\n",
    "#song_release_year = [2006]*100 + [2007]*100 + [2008]*100 + [2009]*100 + [2010]*100 + [2011]*100 + [2012]*100 + [2013]*100 + [2014]*100 + [2015]*100 + [2016]*100 + [2017]*100 + [2018]*100 + [2019]*100 + [2020]*100 + [2021]*100"
   ]
  },
  {
   "cell_type": "code",
   "execution_count": 81,
   "id": "67590f07",
   "metadata": {},
   "outputs": [],
   "source": [
    "#----------concatinate the 3 years data together----------#\n",
    "\n",
    "song_name = []\n",
    "song_artist = []\n",
    "\n",
    "\n",
    "for i in range(0,len(older_song_soups)):\n",
    "        song_name += older_song_soups[i]\n",
    "        song_artist += older_artist_soups[i]\n",
    "\n",
    "\n",
    "song_name += newest_name\n",
    "song_artist += newest_artist\n"
   ]
  },
  {
   "cell_type": "code",
   "execution_count": 87,
   "id": "c24dddc9",
   "metadata": {},
   "outputs": [
    {
     "data": {
      "text/html": [
       "<div>\n",
       "<style scoped>\n",
       "    .dataframe tbody tr th:only-of-type {\n",
       "        vertical-align: middle;\n",
       "    }\n",
       "\n",
       "    .dataframe tbody tr th {\n",
       "        vertical-align: top;\n",
       "    }\n",
       "\n",
       "    .dataframe thead th {\n",
       "        text-align: right;\n",
       "    }\n",
       "</style>\n",
       "<table border=\"1\" class=\"dataframe\">\n",
       "  <thead>\n",
       "    <tr style=\"text-align: right;\">\n",
       "      <th></th>\n",
       "      <th>song_name</th>\n",
       "      <th>artist</th>\n",
       "    </tr>\n",
       "  </thead>\n",
       "  <tbody>\n",
       "    <tr>\n",
       "      <th>1588</th>\n",
       "      <td>Jonah</td>\n",
       "      <td>Kanye West</td>\n",
       "    </tr>\n",
       "    <tr>\n",
       "      <th>1589</th>\n",
       "      <td>You Should Probably Leave</td>\n",
       "      <td>Chris Stapleton</td>\n",
       "    </tr>\n",
       "    <tr>\n",
       "      <th>1590</th>\n",
       "      <td>Don't Go Yet</td>\n",
       "      <td>Camila Cabello</td>\n",
       "    </tr>\n",
       "    <tr>\n",
       "      <th>1591</th>\n",
       "      <td>Thinking 'Bout You</td>\n",
       "      <td>Dustin Lynch Featuring Lauren Alaina Or MacKen...</td>\n",
       "    </tr>\n",
       "    <tr>\n",
       "      <th>1592</th>\n",
       "      <td>Jesus Lord</td>\n",
       "      <td>Kanye West</td>\n",
       "    </tr>\n",
       "    <tr>\n",
       "      <th>1593</th>\n",
       "      <td>Summer Of Love</td>\n",
       "      <td>Shawn Mendes &amp; Tainy</td>\n",
       "    </tr>\n",
       "    <tr>\n",
       "      <th>1594</th>\n",
       "      <td>Ain't Shit</td>\n",
       "      <td>Doja Cat</td>\n",
       "    </tr>\n",
       "    <tr>\n",
       "      <th>1595</th>\n",
       "      <td>Motley Crew</td>\n",
       "      <td>Post Malone</td>\n",
       "    </tr>\n",
       "    <tr>\n",
       "      <th>1596</th>\n",
       "      <td>Remote Control</td>\n",
       "      <td>Kanye West</td>\n",
       "    </tr>\n",
       "    <tr>\n",
       "      <th>1597</th>\n",
       "      <td>Baddest</td>\n",
       "      <td>Yung Bleu, Chris Brown &amp; 2 Chainz</td>\n",
       "    </tr>\n",
       "  </tbody>\n",
       "</table>\n",
       "</div>"
      ],
      "text/plain": [
       "                      song_name  \\\n",
       "1588                      Jonah   \n",
       "1589  You Should Probably Leave   \n",
       "1590               Don't Go Yet   \n",
       "1591         Thinking 'Bout You   \n",
       "1592                 Jesus Lord   \n",
       "1593             Summer Of Love   \n",
       "1594                 Ain't Shit   \n",
       "1595                Motley Crew   \n",
       "1596             Remote Control   \n",
       "1597                    Baddest   \n",
       "\n",
       "                                                 artist  \n",
       "1588                                         Kanye West  \n",
       "1589                                    Chris Stapleton  \n",
       "1590                                     Camila Cabello  \n",
       "1591  Dustin Lynch Featuring Lauren Alaina Or MacKen...  \n",
       "1592                                         Kanye West  \n",
       "1593                               Shawn Mendes & Tainy  \n",
       "1594                                           Doja Cat  \n",
       "1595                                        Post Malone  \n",
       "1596                                         Kanye West  \n",
       "1597                  Yung Bleu, Chris Brown & 2 Chainz  "
      ]
     },
     "execution_count": 87,
     "metadata": {},
     "output_type": "execute_result"
    }
   ],
   "source": [
    "#df = pd.DataFrame({'song_name': song_name, 'artist': song_artist, 'release_year': song_release_year})\n",
    "\n",
    "df = pd.DataFrame({'song_name': song_name, 'artist': song_artist})\n",
    "df.tail(10)"
   ]
  },
  {
   "cell_type": "code",
   "execution_count": 90,
   "id": "f2342218",
   "metadata": {},
   "outputs": [],
   "source": [
    "#---------Making the dataframe content lowercase-----------#\n",
    "\n",
    "df[\"song_name\"] = df[\"song_name\"].apply(lambda x: x.lower())\n",
    "df[\"artist\"] = df[\"artist\"].apply(lambda x: x.lower())"
   ]
  },
  {
   "cell_type": "code",
   "execution_count": 91,
   "id": "97d0c844",
   "metadata": {},
   "outputs": [],
   "source": [
    "#-------spell checker function--------#\n",
    "\n",
    "\n",
    "def input_spelling (user_input):\n",
    "    spell = SpellChecker()\n",
    "    corrected_output = ''\n",
    "    words = spell.split_words(user_input)\n",
    "    corrected_words = [spell.correction(word) for word in words]\n",
    "    for i in corrected_words: \n",
    "        corrected_output = corrected_output + ' ' + i\n",
    "    return corrected_output[1:]\n"
   ]
  },
  {
   "cell_type": "code",
   "execution_count": 92,
   "id": "268fb6bc",
   "metadata": {},
   "outputs": [
    {
     "data": {
      "text/plain": [
       "'ta to mee'"
      ]
     },
     "execution_count": 92,
     "metadata": {},
     "output_type": "execute_result"
    }
   ],
   "source": [
    "input_spelling('ta to mee')"
   ]
  },
  {
   "cell_type": "code",
   "execution_count": 93,
   "id": "16e7f63e",
   "metadata": {},
   "outputs": [],
   "source": [
    "#--------Taking input ------------#\n",
    "\n",
    "\n",
    "def user_song():\n",
    "    input_song = input('Enter Your Favorite Song: ')\n",
    "        \n",
    "    if input_song.lower() in df.song_name.values:\n",
    "        print('The recommended song for you is: ',random.choice(df['song_name'], '\\n'))\n",
    "        \n",
    "    elif spell(input_song.lower()) in df.song_name.values:\n",
    "        print('Do you mean ', spell(input_song.lower()), ' ?')\n",
    "        user_song()\n",
    "    \n",
    "    else:\n",
    "        print('Sorry, Pick another song\\n')\n",
    "        user_song()"
   ]
  },
  {
   "cell_type": "code",
   "execution_count": 95,
   "id": "634d80ea",
   "metadata": {},
   "outputs": [
    {
     "ename": "KeyboardInterrupt",
     "evalue": "Interrupted by user",
     "output_type": "error",
     "traceback": [
      "\u001b[1;31m---------------------------------------------------------------------------\u001b[0m",
      "\u001b[1;31mKeyboardInterrupt\u001b[0m                         Traceback (most recent call last)",
      "\u001b[1;32m<ipython-input-95-cc5a25d9201d>\u001b[0m in \u001b[0;36m<module>\u001b[1;34m\u001b[0m\n\u001b[1;32m----> 1\u001b[1;33m \u001b[0muser_song\u001b[0m\u001b[1;33m(\u001b[0m\u001b[1;33m)\u001b[0m\u001b[1;33m\u001b[0m\u001b[1;33m\u001b[0m\u001b[0m\n\u001b[0m",
      "\u001b[1;32m<ipython-input-93-ffc84b625295>\u001b[0m in \u001b[0;36muser_song\u001b[1;34m()\u001b[0m\n\u001b[0;32m      3\u001b[0m \u001b[1;33m\u001b[0m\u001b[0m\n\u001b[0;32m      4\u001b[0m \u001b[1;32mdef\u001b[0m \u001b[0muser_song\u001b[0m\u001b[1;33m(\u001b[0m\u001b[1;33m)\u001b[0m\u001b[1;33m:\u001b[0m\u001b[1;33m\u001b[0m\u001b[1;33m\u001b[0m\u001b[0m\n\u001b[1;32m----> 5\u001b[1;33m     \u001b[0minput_song\u001b[0m \u001b[1;33m=\u001b[0m \u001b[0minput\u001b[0m\u001b[1;33m(\u001b[0m\u001b[1;34m'Enter Your Favorite Song: '\u001b[0m\u001b[1;33m)\u001b[0m\u001b[1;33m\u001b[0m\u001b[1;33m\u001b[0m\u001b[0m\n\u001b[0m\u001b[0;32m      6\u001b[0m \u001b[1;33m\u001b[0m\u001b[0m\n\u001b[0;32m      7\u001b[0m     \u001b[1;32mif\u001b[0m \u001b[0minput_song\u001b[0m\u001b[1;33m.\u001b[0m\u001b[0mlower\u001b[0m\u001b[1;33m(\u001b[0m\u001b[1;33m)\u001b[0m \u001b[1;32min\u001b[0m \u001b[0mdf\u001b[0m\u001b[1;33m.\u001b[0m\u001b[0msong_name\u001b[0m\u001b[1;33m.\u001b[0m\u001b[0mvalues\u001b[0m\u001b[1;33m:\u001b[0m\u001b[1;33m\u001b[0m\u001b[1;33m\u001b[0m\u001b[0m\n",
      "\u001b[1;32m~\\anaconda3\\lib\\site-packages\\ipykernel\\kernelbase.py\u001b[0m in \u001b[0;36mraw_input\u001b[1;34m(self, prompt)\u001b[0m\n\u001b[0;32m    858\u001b[0m                 \u001b[1;34m\"raw_input was called, but this frontend does not support input requests.\"\u001b[0m\u001b[1;33m\u001b[0m\u001b[1;33m\u001b[0m\u001b[0m\n\u001b[0;32m    859\u001b[0m             )\n\u001b[1;32m--> 860\u001b[1;33m         return self._input_request(str(prompt),\n\u001b[0m\u001b[0;32m    861\u001b[0m             \u001b[0mself\u001b[0m\u001b[1;33m.\u001b[0m\u001b[0m_parent_ident\u001b[0m\u001b[1;33m,\u001b[0m\u001b[1;33m\u001b[0m\u001b[1;33m\u001b[0m\u001b[0m\n\u001b[0;32m    862\u001b[0m             \u001b[0mself\u001b[0m\u001b[1;33m.\u001b[0m\u001b[0m_parent_header\u001b[0m\u001b[1;33m,\u001b[0m\u001b[1;33m\u001b[0m\u001b[1;33m\u001b[0m\u001b[0m\n",
      "\u001b[1;32m~\\anaconda3\\lib\\site-packages\\ipykernel\\kernelbase.py\u001b[0m in \u001b[0;36m_input_request\u001b[1;34m(self, prompt, ident, parent, password)\u001b[0m\n\u001b[0;32m    902\u001b[0m             \u001b[1;32mexcept\u001b[0m \u001b[0mKeyboardInterrupt\u001b[0m\u001b[1;33m:\u001b[0m\u001b[1;33m\u001b[0m\u001b[1;33m\u001b[0m\u001b[0m\n\u001b[0;32m    903\u001b[0m                 \u001b[1;31m# re-raise KeyboardInterrupt, to truncate traceback\u001b[0m\u001b[1;33m\u001b[0m\u001b[1;33m\u001b[0m\u001b[1;33m\u001b[0m\u001b[0m\n\u001b[1;32m--> 904\u001b[1;33m                 \u001b[1;32mraise\u001b[0m \u001b[0mKeyboardInterrupt\u001b[0m\u001b[1;33m(\u001b[0m\u001b[1;34m\"Interrupted by user\"\u001b[0m\u001b[1;33m)\u001b[0m \u001b[1;32mfrom\u001b[0m \u001b[1;32mNone\u001b[0m\u001b[1;33m\u001b[0m\u001b[1;33m\u001b[0m\u001b[0m\n\u001b[0m\u001b[0;32m    905\u001b[0m             \u001b[1;32mexcept\u001b[0m \u001b[0mException\u001b[0m \u001b[1;32mas\u001b[0m \u001b[0me\u001b[0m\u001b[1;33m:\u001b[0m\u001b[1;33m\u001b[0m\u001b[1;33m\u001b[0m\u001b[0m\n\u001b[0;32m    906\u001b[0m                 \u001b[0mself\u001b[0m\u001b[1;33m.\u001b[0m\u001b[0mlog\u001b[0m\u001b[1;33m.\u001b[0m\u001b[0mwarning\u001b[0m\u001b[1;33m(\u001b[0m\u001b[1;34m\"Invalid Message:\"\u001b[0m\u001b[1;33m,\u001b[0m \u001b[0mexc_info\u001b[0m\u001b[1;33m=\u001b[0m\u001b[1;32mTrue\u001b[0m\u001b[1;33m)\u001b[0m\u001b[1;33m\u001b[0m\u001b[1;33m\u001b[0m\u001b[0m\n",
      "\u001b[1;31mKeyboardInterrupt\u001b[0m: Interrupted by user"
     ]
    }
   ],
   "source": [
    "user_song()\n"
   ]
  },
  {
   "cell_type": "code",
   "execution_count": null,
   "id": "df1e8d1c",
   "metadata": {},
   "outputs": [],
   "source": [
    "from difflib import SequenceMatcher\n",
    "\n",
    "def similar(a, b):\n",
    "    return SequenceMatcher(None, a, b).ratio()\n",
    "\n",
    ">>> similar(\"Apple\",\"Appel\")\n",
    "0.8\n",
    ">>> similar(\"Apple\",\"Mango\")\n",
    "0.0"
   ]
  },
  {
   "cell_type": "code",
   "execution_count": null,
   "id": "5cac60b3",
   "metadata": {},
   "outputs": [],
   "source": []
  },
  {
   "cell_type": "code",
   "execution_count": null,
   "id": "63909c85",
   "metadata": {},
   "outputs": [],
   "source": []
  },
  {
   "cell_type": "code",
   "execution_count": null,
   "id": "d9d72da3",
   "metadata": {},
   "outputs": [],
   "source": []
  },
  {
   "cell_type": "code",
   "execution_count": null,
   "id": "168e9a33",
   "metadata": {},
   "outputs": [],
   "source": []
  },
  {
   "cell_type": "markdown",
   "id": "e2557032",
   "metadata": {},
   "source": []
  }
 ],
 "metadata": {
  "kernelspec": {
   "display_name": "Python 3",
   "language": "python",
   "name": "python3"
  },
  "language_info": {
   "codemirror_mode": {
    "name": "ipython",
    "version": 3
   },
   "file_extension": ".py",
   "mimetype": "text/x-python",
   "name": "python",
   "nbconvert_exporter": "python",
   "pygments_lexer": "ipython3",
   "version": "3.8.8"
  }
 },
 "nbformat": 4,
 "nbformat_minor": 5
}
