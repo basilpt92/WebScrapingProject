{
 "cells": [
  {
   "cell_type": "code",
   "execution_count": 6,
   "id": "5a4d5357",
   "metadata": {},
   "outputs": [],
   "source": [
    "from bs4 import BeautifulSoup\n",
    "import requests\n",
    "\n",
    "from random import randint\n",
    "from time import sleep\n",
    "\n",
    "import pandas as pd"
   ]
  },
  {
   "cell_type": "markdown",
   "id": "91491f9a",
   "metadata": {},
   "source": [
    "## Scraping the Billbord Website for 100 Hot songs"
   ]
  },
  {
   "cell_type": "code",
   "execution_count": 7,
   "id": "52e94c27",
   "metadata": {},
   "outputs": [],
   "source": [
    "url = \"https://www.billboard.com/charts/year-end/2019/hot-100-songs\"\n",
    "response = requests.get(url)\n",
    "\n",
    "\n",
    "#year = '2020'\n",
    "#str = 'https://www.billboard.com/charts/year-end/{}/hot-100-songs'\n",
    "#url = str.format(year)\n",
    "\n",
    "#years = [2006, 2007, 2008, 2009, 2010, 2011, 2012, 2013, 2014, 2015, 2016, 2017, 2018, 2019, 2020, 2021]\n",
    "\n",
    "#for year in years:\n",
    "#    url = str.format(year)\n",
    "#    print(url)"
   ]
  },
  {
   "cell_type": "code",
   "execution_count": 8,
   "id": "80bd8635",
   "metadata": {},
   "outputs": [
    {
     "data": {
      "text/plain": [
       "200"
      ]
     },
     "execution_count": 8,
     "metadata": {},
     "output_type": "execute_result"
    }
   ],
   "source": [
    "response.status_code"
   ]
  },
  {
   "cell_type": "code",
   "execution_count": 178,
   "id": "67590f07",
   "metadata": {},
   "outputs": [],
   "source": [
    "#print(soup.main.prettify())"
   ]
  },
  {
   "cell_type": "code",
   "execution_count": 9,
   "id": "bbc84727",
   "metadata": {},
   "outputs": [],
   "source": [
    "soup = BeautifulSoup(response.content, 'html.parser')"
   ]
  },
  {
   "cell_type": "code",
   "execution_count": 11,
   "id": "a058d30a",
   "metadata": {},
   "outputs": [],
   "source": [
    "name = soup.find_all('div', class_ = 'ye-chart-item__title')\n",
    "song_name = [t.text.replace('\\n','') for t in name]"
   ]
  },
  {
   "cell_type": "code",
   "execution_count": 12,
   "id": "70aef310",
   "metadata": {},
   "outputs": [],
   "source": [
    "artist = soup.find_all('div', class_ = 'ye-chart-item__artist')\n",
    "song_artist = [t.text.replace('\\n','') for t in artist]"
   ]
  },
  {
   "cell_type": "code",
   "execution_count": 13,
   "id": "d05fc805",
   "metadata": {},
   "outputs": [],
   "source": [
    "release_year = soup.find('span', class_ ='dropdown__year-select-date').get_text()"
   ]
  },
  {
   "cell_type": "code",
   "execution_count": 16,
   "id": "c24dddc9",
   "metadata": {},
   "outputs": [
    {
     "data": {
      "text/html": [
       "<div>\n",
       "<style scoped>\n",
       "    .dataframe tbody tr th:only-of-type {\n",
       "        vertical-align: middle;\n",
       "    }\n",
       "\n",
       "    .dataframe tbody tr th {\n",
       "        vertical-align: top;\n",
       "    }\n",
       "\n",
       "    .dataframe thead th {\n",
       "        text-align: right;\n",
       "    }\n",
       "</style>\n",
       "<table border=\"1\" class=\"dataframe\">\n",
       "  <thead>\n",
       "    <tr style=\"text-align: right;\">\n",
       "      <th></th>\n",
       "      <th>song_name</th>\n",
       "      <th>artist</th>\n",
       "      <th>release_year</th>\n",
       "    </tr>\n",
       "  </thead>\n",
       "  <tbody>\n",
       "    <tr>\n",
       "      <th>0</th>\n",
       "      <td>Old Town Road</td>\n",
       "      <td>Lil Nas X Featuring Billy Ray Cyrus</td>\n",
       "      <td>2019</td>\n",
       "    </tr>\n",
       "    <tr>\n",
       "      <th>1</th>\n",
       "      <td>Sunflower (Spider-Man: Into The Spider-Verse)</td>\n",
       "      <td>Post Malone &amp; Swae Lee</td>\n",
       "      <td>2019</td>\n",
       "    </tr>\n",
       "    <tr>\n",
       "      <th>2</th>\n",
       "      <td>Without Me</td>\n",
       "      <td>Halsey</td>\n",
       "      <td>2019</td>\n",
       "    </tr>\n",
       "    <tr>\n",
       "      <th>3</th>\n",
       "      <td>Bad Guy</td>\n",
       "      <td>Billie Eilish</td>\n",
       "      <td>2019</td>\n",
       "    </tr>\n",
       "    <tr>\n",
       "      <th>4</th>\n",
       "      <td>Wow.</td>\n",
       "      <td>Post Malone</td>\n",
       "      <td>2019</td>\n",
       "    </tr>\n",
       "    <tr>\n",
       "      <th>...</th>\n",
       "      <td>...</td>\n",
       "      <td>...</td>\n",
       "      <td>...</td>\n",
       "    </tr>\n",
       "    <tr>\n",
       "      <th>95</th>\n",
       "      <td>Eyes On You</td>\n",
       "      <td>Chase Rice</td>\n",
       "      <td>2019</td>\n",
       "    </tr>\n",
       "    <tr>\n",
       "      <th>96</th>\n",
       "      <td>All To Myself</td>\n",
       "      <td>Dan + Shay</td>\n",
       "      <td>2019</td>\n",
       "    </tr>\n",
       "    <tr>\n",
       "      <th>97</th>\n",
       "      <td>Boyfriend</td>\n",
       "      <td>Ariana Grande &amp; Social House</td>\n",
       "      <td>2019</td>\n",
       "    </tr>\n",
       "    <tr>\n",
       "      <th>98</th>\n",
       "      <td>Walk Me Home</td>\n",
       "      <td>P!nk</td>\n",
       "      <td>2019</td>\n",
       "    </tr>\n",
       "    <tr>\n",
       "      <th>99</th>\n",
       "      <td>Robbery</td>\n",
       "      <td>Juice WRLD</td>\n",
       "      <td>2019</td>\n",
       "    </tr>\n",
       "  </tbody>\n",
       "</table>\n",
       "<p>100 rows × 3 columns</p>\n",
       "</div>"
      ],
      "text/plain": [
       "                                        song_name  \\\n",
       "0                                   Old Town Road   \n",
       "1   Sunflower (Spider-Man: Into The Spider-Verse)   \n",
       "2                                      Without Me   \n",
       "3                                         Bad Guy   \n",
       "4                                            Wow.   \n",
       "..                                            ...   \n",
       "95                                    Eyes On You   \n",
       "96                                  All To Myself   \n",
       "97                                      Boyfriend   \n",
       "98                                   Walk Me Home   \n",
       "99                                        Robbery   \n",
       "\n",
       "                                 artist release_year  \n",
       "0   Lil Nas X Featuring Billy Ray Cyrus         2019  \n",
       "1                Post Malone & Swae Lee         2019  \n",
       "2                                Halsey         2019  \n",
       "3                         Billie Eilish         2019  \n",
       "4                           Post Malone         2019  \n",
       "..                                  ...          ...  \n",
       "95                           Chase Rice         2019  \n",
       "96                           Dan + Shay         2019  \n",
       "97         Ariana Grande & Social House         2019  \n",
       "98                                 P!nk         2019  \n",
       "99                           Juice WRLD         2019  \n",
       "\n",
       "[100 rows x 3 columns]"
      ]
     },
     "execution_count": 16,
     "metadata": {},
     "output_type": "execute_result"
    }
   ],
   "source": [
    "df = pd.DataFrame({'song_name': song_name, 'artist': song_artist, 'release_year': release_year})\n",
    "df"
   ]
  },
  {
   "cell_type": "code",
   "execution_count": null,
   "id": "597ee189",
   "metadata": {},
   "outputs": [],
   "source": []
  },
  {
   "cell_type": "code",
   "execution_count": 283,
   "id": "6a050701",
   "metadata": {},
   "outputs": [],
   "source": [
    "https://en.wikipedia.org/wiki/Without_Me_(Halsey_song)"
   ]
  },
  {
   "cell_type": "code",
   "execution_count": 33,
   "id": "63909c85",
   "metadata": {},
   "outputs": [
    {
     "name": "stdout",
     "output_type": "stream",
     "text": [
      "Enter your song name:\n",
      "Wow.\n"
     ]
    }
   ],
   "source": [
    "print('Enter your song name:')\n",
    "input_song = input()"
   ]
  },
  {
   "cell_type": "code",
   "execution_count": 40,
   "id": "168e9a33",
   "metadata": {},
   "outputs": [
    {
     "name": "stdout",
     "output_type": "stream",
     "text": [
      "yes\n"
     ]
    }
   ],
   "source": [
    "for i in range(len(df)):\n",
    "    if input_song == df['song_name'][i]:\n",
    "        print('yes')\n",
    "#    else:\n",
    "#        print('No')"
   ]
  },
  {
   "cell_type": "code",
   "execution_count": 27,
   "id": "a3f8bf52",
   "metadata": {},
   "outputs": [
    {
     "data": {
      "text/plain": [
       "'Old Town Road'"
      ]
     },
     "execution_count": 27,
     "metadata": {},
     "output_type": "execute_result"
    }
   ],
   "source": [
    "df['song_name'][0]"
   ]
  },
  {
   "cell_type": "markdown",
   "id": "e2557032",
   "metadata": {},
   "source": []
  }
 ],
 "metadata": {
  "kernelspec": {
   "display_name": "Python 3",
   "language": "python",
   "name": "python3"
  },
  "language_info": {
   "codemirror_mode": {
    "name": "ipython",
    "version": 3
   },
   "file_extension": ".py",
   "mimetype": "text/x-python",
   "name": "python",
   "nbconvert_exporter": "python",
   "pygments_lexer": "ipython3",
   "version": "3.8.8"
  }
 },
 "nbformat": 4,
 "nbformat_minor": 5
}
