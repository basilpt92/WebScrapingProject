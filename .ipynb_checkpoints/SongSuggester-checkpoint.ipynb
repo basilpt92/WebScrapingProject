{
 "cells": [
  {
   "cell_type": "code",
   "execution_count": 1,
   "id": "5a4d5357",
   "metadata": {},
   "outputs": [],
   "source": [
    "from bs4 import BeautifulSoup\n",
    "import requests\n",
    "import json\n",
    "\n",
    "\n",
    "import spotipy\n",
    "from spotipy.oauth2 import SpotifyClientCredentials\n",
    "import config\n",
    "\n",
    "import pprint\n",
    "\n",
    "import random \n",
    "from time import sleep\n",
    "\n",
    "import pandas as pd"
   ]
  },
  {
   "cell_type": "code",
   "execution_count": 2,
   "id": "4da08b4a",
   "metadata": {},
   "outputs": [],
   "source": [
    "Client_ID = config.client_id\n",
    "Client_Secret = config.client_secret\n",
    "\n",
    "sp = spotipy.Spotify(auth_manager = SpotifyClientCredentials(client_id = Client_ID, client_secret = Client_Secret))"
   ]
  },
  {
   "cell_type": "markdown",
   "id": "4a24f7e9",
   "metadata": {},
   "source": [
    "## Scraping the Billbord Website for 100 Hot songs"
   ]
  },
  {
   "cell_type": "code",
   "execution_count": 248,
   "id": "edfe6066",
   "metadata": {},
   "outputs": [],
   "source": [
    "#------scrapping 2021 data-------#\n",
    "\n",
    "url = \"https://www.billboard.com/charts/hot-100\"\n",
    "response = requests.get(url)\n",
    "newest_soup = BeautifulSoup(response.content, 'html.parser')"
   ]
  },
  {
   "cell_type": "code",
   "execution_count": 249,
   "id": "678c4f8a",
   "metadata": {},
   "outputs": [
    {
     "data": {
      "text/plain": [
       "200"
      ]
     },
     "execution_count": 249,
     "metadata": {},
     "output_type": "execute_result"
    }
   ],
   "source": [
    "response.status_code"
   ]
  },
  {
   "cell_type": "code",
   "execution_count": 250,
   "id": "c67d835b",
   "metadata": {},
   "outputs": [],
   "source": [
    "#--------2021 song names--------#\n",
    "\n",
    "newest_song = newest_soup.select('span.chart-element__information__song.text--truncate.color--primary')\n",
    "newest_song = [t.text for t in newest_song]\n",
    "\n",
    "\n",
    "#--------2021 artist names--------#\n",
    "\n",
    "newest_artist = newest_soup.select('span.chart-element__information__artist.text--truncate.color--secondary')\n",
    "newest_artist = [t.text for t in newest_artist]"
   ]
  },
  {
   "cell_type": "code",
   "execution_count": 166,
   "id": "2182f4c3",
   "metadata": {},
   "outputs": [],
   "source": [
    "#------scrapping 2019,2020 data-------#\n",
    "\n",
    "str = 'https://www.billboard.com/charts/year-end/{}/hot-100-songs'\n",
    "years = [ 2006, 2007 ,2008, 2009, 2010,2011, 2012, 2013, 2014, 2015, 2016, 2017, 2018 ,2019, 2020]\n",
    "\n",
    "song_pool_soups = []\n",
    "artist_pool_soups = []\n",
    "\n",
    "for year in years:\n",
    "    url = str.format(year)\n",
    "    response = requests.get(url)\n",
    "    #print(response.status_code)\n",
    "    \n",
    "    soup = BeautifulSoup(response.content)\n",
    "    song_pool_soups.append(soup.find_all('div', class_ = 'ye-chart-item__title'))\n",
    "    artist_pool_soups.append(soup.find_all('div', class_ = 'ye-chart-item__artist'))\n",
    "    \n",
    "    \n",
    "    wait_time = random.randint(1,4)\n",
    "    sleep(wait_time)"
   ]
  },
  {
   "cell_type": "code",
   "execution_count": 167,
   "id": "0761d81e",
   "metadata": {},
   "outputs": [],
   "source": [
    "#------songs & artists 2006-2020------#\n",
    "\n",
    "for i in range(0,len(years)):\n",
    "    song_pool_soups[i] = [t.text.replace('\\n','') for t in song_pool_soups[i]]\n",
    "    artist_pool_soups[i] = [t.text.replace('\\n','') for t in artist_pool_soups[i]]    "
   ]
  },
  {
   "cell_type": "code",
   "execution_count": null,
   "id": "c39333dc",
   "metadata": {},
   "outputs": [],
   "source": [
    "#release_year = soup.find('span', class_ ='dropdown__year-select-date').get_text()\n",
    "#song_release_year = [2006]*100 + [2007]*100 + [2008]*100 + [2009]*100 + [2010]*100 + [2011]*100 + [2012]*100 + [2013]*100 + [2014]*100 + [2015]*100 + [2016]*100 + [2017]*100 + [2018]*100 + [2019]*100 + [2020]*100 + [2021]*100"
   ]
  },
  {
   "cell_type": "code",
   "execution_count": 168,
   "id": "67590f07",
   "metadata": {},
   "outputs": [],
   "source": [
    "#----------concatinate the 2006-2020 years data together----------#\n",
    "\n",
    "song_name = []\n",
    "song_artist = []\n",
    "\n",
    "for i in range(0,len(older_song_soups)):\n",
    "    song_name += older_song_soups[i]\n",
    "    song_artist += older_artist_soups[i]"
   ]
  },
  {
   "cell_type": "code",
   "execution_count": 256,
   "id": "21201612",
   "metadata": {},
   "outputs": [
    {
     "data": {
      "text/html": [
       "<div>\n",
       "<style scoped>\n",
       "    .dataframe tbody tr th:only-of-type {\n",
       "        vertical-align: middle;\n",
       "    }\n",
       "\n",
       "    .dataframe tbody tr th {\n",
       "        vertical-align: top;\n",
       "    }\n",
       "\n",
       "    .dataframe thead th {\n",
       "        text-align: right;\n",
       "    }\n",
       "</style>\n",
       "<table border=\"1\" class=\"dataframe\">\n",
       "  <thead>\n",
       "    <tr style=\"text-align: right;\">\n",
       "      <th></th>\n",
       "      <th>song_name</th>\n",
       "      <th>artist</th>\n",
       "    </tr>\n",
       "  </thead>\n",
       "  <tbody>\n",
       "    <tr>\n",
       "      <th>0</th>\n",
       "      <td>Way 2 Sexy</td>\n",
       "      <td>Drake Featuring Future &amp; Young Thug</td>\n",
       "    </tr>\n",
       "    <tr>\n",
       "      <th>1</th>\n",
       "      <td>Girls Want Girls</td>\n",
       "      <td>Drake Featuring Lil Baby</td>\n",
       "    </tr>\n",
       "    <tr>\n",
       "      <th>2</th>\n",
       "      <td>Fair Trade</td>\n",
       "      <td>Drake Featuring Travis Scott</td>\n",
       "    </tr>\n",
       "    <tr>\n",
       "      <th>3</th>\n",
       "      <td>Champagne Poetry</td>\n",
       "      <td>Drake</td>\n",
       "    </tr>\n",
       "    <tr>\n",
       "      <th>4</th>\n",
       "      <td>Knife Talk</td>\n",
       "      <td>Drake Featuring 21 Savage &amp; Project Pat</td>\n",
       "    </tr>\n",
       "  </tbody>\n",
       "</table>\n",
       "</div>"
      ],
      "text/plain": [
       "          song_name                                   artist\n",
       "0        Way 2 Sexy      Drake Featuring Future & Young Thug\n",
       "1  Girls Want Girls                 Drake Featuring Lil Baby\n",
       "2        Fair Trade             Drake Featuring Travis Scott\n",
       "3  Champagne Poetry                                    Drake\n",
       "4        Knife Talk  Drake Featuring 21 Savage & Project Pat"
      ]
     },
     "execution_count": 256,
     "metadata": {},
     "output_type": "execute_result"
    }
   ],
   "source": [
    "#-----current hot topic dataframe 2021----------#\n",
    "\n",
    "df_current = pd.DataFrame({'song_name': newest_song, 'artist': newest_artist})\n",
    "df_current.head(5)"
   ]
  },
  {
   "cell_type": "code",
   "execution_count": 292,
   "id": "c24dddc9",
   "metadata": {},
   "outputs": [
    {
     "data": {
      "text/html": [
       "<div>\n",
       "<style scoped>\n",
       "    .dataframe tbody tr th:only-of-type {\n",
       "        vertical-align: middle;\n",
       "    }\n",
       "\n",
       "    .dataframe tbody tr th {\n",
       "        vertical-align: top;\n",
       "    }\n",
       "\n",
       "    .dataframe thead th {\n",
       "        text-align: right;\n",
       "    }\n",
       "</style>\n",
       "<table border=\"1\" class=\"dataframe\">\n",
       "  <thead>\n",
       "    <tr style=\"text-align: right;\">\n",
       "      <th></th>\n",
       "      <th>song_name</th>\n",
       "      <th>artist</th>\n",
       "    </tr>\n",
       "  </thead>\n",
       "  <tbody>\n",
       "    <tr>\n",
       "      <th>0</th>\n",
       "      <td>Bad Day</td>\n",
       "      <td>Daniel Powter</td>\n",
       "    </tr>\n",
       "    <tr>\n",
       "      <th>1</th>\n",
       "      <td>Temperature</td>\n",
       "      <td>Sean Paul</td>\n",
       "    </tr>\n",
       "    <tr>\n",
       "      <th>2</th>\n",
       "      <td>Promiscuous</td>\n",
       "      <td>Nelly Furtado Featuring Timbaland</td>\n",
       "    </tr>\n",
       "    <tr>\n",
       "      <th>3</th>\n",
       "      <td>You're Beautiful</td>\n",
       "      <td>James Blunt</td>\n",
       "    </tr>\n",
       "    <tr>\n",
       "      <th>4</th>\n",
       "      <td>Hips Don't Lie</td>\n",
       "      <td>Shakira Featuring Wyclef Jean</td>\n",
       "    </tr>\n",
       "    <tr>\n",
       "      <th>5</th>\n",
       "      <td>Unwritten</td>\n",
       "      <td>Natasha Bedingfield</td>\n",
       "    </tr>\n",
       "    <tr>\n",
       "      <th>6</th>\n",
       "      <td>Crazy</td>\n",
       "      <td>Gnarls Barkley</td>\n",
       "    </tr>\n",
       "    <tr>\n",
       "      <th>7</th>\n",
       "      <td>Ridin'</td>\n",
       "      <td>Chamillionaire Featuring Krayzie Bone</td>\n",
       "    </tr>\n",
       "    <tr>\n",
       "      <th>8</th>\n",
       "      <td>SexyBack</td>\n",
       "      <td>Justin Timberlake</td>\n",
       "    </tr>\n",
       "    <tr>\n",
       "      <th>9</th>\n",
       "      <td>Check On It</td>\n",
       "      <td>Beyonce Featuring Slim Thug</td>\n",
       "    </tr>\n",
       "    <tr>\n",
       "      <th>10</th>\n",
       "      <td>Be Without You</td>\n",
       "      <td>Mary J. Blige</td>\n",
       "    </tr>\n",
       "    <tr>\n",
       "      <th>11</th>\n",
       "      <td>Grillz</td>\n",
       "      <td>Nelly Featuring Paul Wall, Ali &amp; Gipp</td>\n",
       "    </tr>\n",
       "    <tr>\n",
       "      <th>12</th>\n",
       "      <td>Over My Head (Cable Car)</td>\n",
       "      <td>The Fray</td>\n",
       "    </tr>\n",
       "    <tr>\n",
       "      <th>13</th>\n",
       "      <td>Me &amp; U</td>\n",
       "      <td>Cassie</td>\n",
       "    </tr>\n",
       "    <tr>\n",
       "      <th>14</th>\n",
       "      <td>Buttons</td>\n",
       "      <td>The Pussycat Dolls Featuring Snoop Dogg</td>\n",
       "    </tr>\n",
       "    <tr>\n",
       "      <th>15</th>\n",
       "      <td>Run It!</td>\n",
       "      <td>Chris Brown</td>\n",
       "    </tr>\n",
       "    <tr>\n",
       "      <th>16</th>\n",
       "      <td>So Sick</td>\n",
       "      <td>Ne-Yo</td>\n",
       "    </tr>\n",
       "    <tr>\n",
       "      <th>17</th>\n",
       "      <td>It's Goin' Down</td>\n",
       "      <td>Yung Joc</td>\n",
       "    </tr>\n",
       "    <tr>\n",
       "      <th>18</th>\n",
       "      <td>SOS</td>\n",
       "      <td>Rihanna</td>\n",
       "    </tr>\n",
       "    <tr>\n",
       "      <th>19</th>\n",
       "      <td>I Write Sins Not Tragedies</td>\n",
       "      <td>Panic! At The Disco</td>\n",
       "    </tr>\n",
       "  </tbody>\n",
       "</table>\n",
       "</div>"
      ],
      "text/plain": [
       "                     song_name                                   artist\n",
       "0                      Bad Day                            Daniel Powter\n",
       "1                  Temperature                                Sean Paul\n",
       "2                  Promiscuous        Nelly Furtado Featuring Timbaland\n",
       "3             You're Beautiful                              James Blunt\n",
       "4               Hips Don't Lie            Shakira Featuring Wyclef Jean\n",
       "5                    Unwritten                      Natasha Bedingfield\n",
       "6                        Crazy                           Gnarls Barkley\n",
       "7                       Ridin'    Chamillionaire Featuring Krayzie Bone\n",
       "8                     SexyBack                        Justin Timberlake\n",
       "9                  Check On It              Beyonce Featuring Slim Thug\n",
       "10              Be Without You                            Mary J. Blige\n",
       "11                      Grillz    Nelly Featuring Paul Wall, Ali & Gipp\n",
       "12    Over My Head (Cable Car)                                 The Fray\n",
       "13                      Me & U                                   Cassie\n",
       "14                     Buttons  The Pussycat Dolls Featuring Snoop Dogg\n",
       "15                     Run It!                              Chris Brown\n",
       "16                     So Sick                                    Ne-Yo\n",
       "17             It's Goin' Down                                 Yung Joc\n",
       "18                         SOS                                  Rihanna\n",
       "19  I Write Sins Not Tragedies                      Panic! At The Disco"
      ]
     },
     "execution_count": 292,
     "metadata": {},
     "output_type": "execute_result"
    }
   ],
   "source": [
    "#----- hot topic dataframe 2006-2020----------#\n",
    "\n",
    "df = pd.DataFrame({'song_name': song_name, 'artist': song_artist})\n",
    "df.head(20)"
   ]
  },
  {
   "cell_type": "code",
   "execution_count": 257,
   "id": "f2342218",
   "metadata": {},
   "outputs": [],
   "source": [
    "#---------Making the dataframe content lowercase-----------#\n",
    "\n",
    "df_current[\"song_name\"] = df_current[\"song_name\"].apply(lambda x: x.lower())\n",
    "df_current[\"artist\"] = df_current[\"artist\"].apply(lambda x: x.lower())"
   ]
  },
  {
   "cell_type": "code",
   "execution_count": 258,
   "id": "c4a2a875",
   "metadata": {},
   "outputs": [],
   "source": [
    "#--------maching sequence of input with hot songs------------#\n",
    "\n",
    "from difflib import SequenceMatcher \n",
    "\n",
    "similarity = []\n",
    "def similar(a):\n",
    "    for i in range (0,len(newest_song)):\n",
    "        similarity.append(SequenceMatcher(None, a, newest_song[i]).ratio())\n",
    "        most_similar = similarity.index(max(similarity))\n",
    "    return newest_song[most_similar]           "
   ]
  },
  {
   "cell_type": "code",
   "execution_count": 259,
   "id": "16e7f63e",
   "metadata": {},
   "outputs": [],
   "source": [
    "#--------Taking input ------------#\n",
    "\n",
    "def user_song():\n",
    "    input_song = input('Enter Your Favorite Song: ')\n",
    "    \n",
    "    similarity = []\n",
    "    if input_song.lower() in df_current.song_name.values:\n",
    "        print('The recommended song for you is: ',random.choice(df_current['song_name']),'\\n')\n",
    "            \n",
    "    elif similar(input_song.lower()) in df_current.song_name.values:\n",
    "        print('Do you mean: ', similar(input_song.lower()))\n",
    "        user_song()\n",
    "    \n",
    "    else:\n",
    "        print('Sorry, Pick another song\\n')\n",
    "        user_song()"
   ]
  },
  {
   "cell_type": "code",
   "execution_count": null,
   "id": "8b8df982",
   "metadata": {},
   "outputs": [],
   "source": [
    "user_song()"
   ]
  },
  {
   "cell_type": "code",
   "execution_count": 12,
   "id": "5cac60b3",
   "metadata": {},
   "outputs": [
    {
     "data": {
      "text/plain": [
       "['toplists',\n",
       " 'at_home',\n",
       " 'pop',\n",
       " 'equal',\n",
       " 'mood',\n",
       " 'decades',\n",
       " 'hiphop',\n",
       " 'in_the_car',\n",
       " 'frequency',\n",
       " 'gaming',\n",
       " 'wellness',\n",
       " 'workout',\n",
       " 'chill',\n",
       " 'focus',\n",
       " 'sleep',\n",
       " 'party',\n",
       " 'indie_alt',\n",
       " 'metal',\n",
       " 'rock',\n",
       " 'edm_dance']"
      ]
     },
     "execution_count": 12,
     "metadata": {},
     "output_type": "execute_result"
    }
   ],
   "source": [
    "#----------extracting playlists from spotify API---------#\n",
    "\n",
    "\n",
    "cats = [cat['id'] for cat in sp.categories()['categories']['items']]\n",
    "cats"
   ]
  },
  {
   "cell_type": "code",
   "execution_count": 13,
   "id": "b61b714b",
   "metadata": {
    "scrolled": true
   },
   "outputs": [
    {
     "ename": "IndexError",
     "evalue": "list index out of range",
     "output_type": "error",
     "traceback": [
      "\u001b[1;31m---------------------------------------------------------------------------\u001b[0m",
      "\u001b[1;31mIndexError\u001b[0m                                Traceback (most recent call last)",
      "\u001b[1;32m<ipython-input-13-dbef38ca0b1b>\u001b[0m in \u001b[0;36m<module>\u001b[1;34m\u001b[0m\n\u001b[0;32m      5\u001b[0m \u001b[1;33m\u001b[0m\u001b[0m\n\u001b[0;32m      6\u001b[0m \u001b[1;32mfor\u001b[0m \u001b[0mi\u001b[0m \u001b[1;32min\u001b[0m \u001b[0mrange\u001b[0m\u001b[1;33m(\u001b[0m\u001b[1;36m1\u001b[0m\u001b[1;33m,\u001b[0m\u001b[0mlen\u001b[0m\u001b[1;33m(\u001b[0m\u001b[0mcats\u001b[0m\u001b[1;33m)\u001b[0m\u001b[1;33m)\u001b[0m\u001b[1;33m:\u001b[0m\u001b[1;33m\u001b[0m\u001b[1;33m\u001b[0m\u001b[0m\n\u001b[1;32m----> 7\u001b[1;33m     \u001b[0mplaylist_ids\u001b[0m\u001b[1;33m.\u001b[0m\u001b[0mappend\u001b[0m\u001b[1;33m(\u001b[0m\u001b[0msp\u001b[0m\u001b[1;33m.\u001b[0m\u001b[0mcategory_playlists\u001b[0m\u001b[1;33m(\u001b[0m\u001b[0mcats\u001b[0m\u001b[1;33m[\u001b[0m\u001b[0mi\u001b[0m\u001b[1;33m]\u001b[0m\u001b[1;33m)\u001b[0m\u001b[1;33m[\u001b[0m\u001b[1;34m'playlists'\u001b[0m\u001b[1;33m]\u001b[0m\u001b[1;33m[\u001b[0m\u001b[1;34m'items'\u001b[0m\u001b[1;33m]\u001b[0m\u001b[1;33m[\u001b[0m\u001b[1;36m0\u001b[0m\u001b[1;33m]\u001b[0m\u001b[1;33m[\u001b[0m\u001b[1;34m'id'\u001b[0m\u001b[1;33m]\u001b[0m\u001b[1;33m)\u001b[0m\u001b[1;33m\u001b[0m\u001b[1;33m\u001b[0m\u001b[0m\n\u001b[0m\u001b[0;32m      8\u001b[0m \u001b[1;33m\u001b[0m\u001b[0m\n\u001b[0;32m      9\u001b[0m     \u001b[0mwait_time\u001b[0m \u001b[1;33m=\u001b[0m \u001b[0mrandom\u001b[0m\u001b[1;33m.\u001b[0m\u001b[0mrandint\u001b[0m\u001b[1;33m(\u001b[0m\u001b[1;36m1\u001b[0m\u001b[1;33m,\u001b[0m\u001b[1;36m2\u001b[0m\u001b[1;33m)\u001b[0m\u001b[1;33m\u001b[0m\u001b[1;33m\u001b[0m\u001b[0m\n",
      "\u001b[1;31mIndexError\u001b[0m: list index out of range"
     ]
    }
   ],
   "source": [
    "#-----------determining the id of the playlists --------#\n",
    "\n",
    "playlist_ids = []\n",
    "cats = [cat['id'] for cat in sp.categories()['categories']['items']]\n",
    "\n",
    "for i in range(1,len(cats)):\n",
    "    playlist_ids.append(sp.category_playlists(cats[i])['playlists']['items'][0]['id'])\n",
    "    \n",
    "    wait_time = random.randint(1,2)\n",
    "    sleep(wait_time)"
   ]
  },
  {
   "cell_type": "code",
   "execution_count": 542,
   "id": "15fb7196",
   "metadata": {},
   "outputs": [
    {
     "data": {
      "text/plain": [
       "['37i9dQZF1DWZIEvmu6sbiG',\n",
       " '37i9dQZF1DXcBWIGoYBM5M',\n",
       " '37i9dQZF1DWU8quswnFt3c',\n",
       " '37i9dQZF1DX3rxVfibe1L0',\n",
       " '37i9dQZF1DX4UtSsGT1Sbe',\n",
       " '37i9dQZF1DX0XUsuxWHRQd',\n",
       " '37i9dQZF1DX0BxHamIEkKV',\n",
       " '37i9dQZF1DWVgsJtp58d1t',\n",
       " '37i9dQZF1DWTyiBJ6yEqeu',\n",
       " '37i9dQZF1DX9uKNf5jGX6m',\n",
       " '37i9dQZF1DX76Wlfdnj7AP',\n",
       " '37i9dQZF1DXc0aozDLZsk7',\n",
       " '37i9dQZF1DXbA4Uw2yEsP9',\n",
       " '37i9dQZF1DXdbkmlag2h7b',\n",
       " '37i9dQZF1DXaXB8fQg7xif',\n",
       " '37i9dQZF1DX6PSDDh80gxI',\n",
       " '37i9dQZF1DWTcqUzwhNmKv',\n",
       " '37i9dQZF1DWViUlcvfltyZ',\n",
       " '37i9dQZF1DX4dyzvuaRJ0n']"
      ]
     },
     "execution_count": 542,
     "metadata": {},
     "output_type": "execute_result"
    }
   ],
   "source": [
    "playlist_ids"
   ]
  },
  {
   "cell_type": "code",
   "execution_count": 543,
   "id": "d5aca071",
   "metadata": {},
   "outputs": [],
   "source": [
    "def get_playlist_tracks(username ,playlist_id):\n",
    "    results = sp.user_playlist_tracks(username,playlist_id)\n",
    "    tracks = results['items']\n",
    "    while results['next']:\n",
    "        results = sp.next(results)\n",
    "        tracks.extend(results['items'])\n",
    "    return tracks"
   ]
  },
  {
   "cell_type": "code",
   "execution_count": 545,
   "id": "42e0dd32",
   "metadata": {},
   "outputs": [
    {
     "ename": "TypeError",
     "evalue": "'NoneType' object is not subscriptable",
     "output_type": "error",
     "traceback": [
      "\u001b[1;31m---------------------------------------------------------------------------\u001b[0m",
      "\u001b[1;31mTypeError\u001b[0m                                 Traceback (most recent call last)",
      "\u001b[1;32m<ipython-input-545-aa07c0f697f6>\u001b[0m in \u001b[0;36m<module>\u001b[1;34m\u001b[0m\n\u001b[0;32m      9\u001b[0m \u001b[1;33m\u001b[0m\u001b[0m\n\u001b[0;32m     10\u001b[0m     \u001b[1;32mfor\u001b[0m \u001b[0mj\u001b[0m \u001b[1;32min\u001b[0m \u001b[0mrange\u001b[0m\u001b[1;33m(\u001b[0m\u001b[1;36m0\u001b[0m\u001b[1;33m,\u001b[0m\u001b[0mlen\u001b[0m\u001b[1;33m(\u001b[0m\u001b[0mtracks\u001b[0m\u001b[1;33m)\u001b[0m\u001b[1;33m)\u001b[0m\u001b[1;33m:\u001b[0m\u001b[1;33m\u001b[0m\u001b[1;33m\u001b[0m\u001b[0m\n\u001b[1;32m---> 11\u001b[1;33m         \u001b[0mtrack_names\u001b[0m\u001b[1;33m.\u001b[0m\u001b[0mappend\u001b[0m\u001b[1;33m(\u001b[0m\u001b[0mtracks\u001b[0m\u001b[1;33m[\u001b[0m\u001b[0mj\u001b[0m\u001b[1;33m]\u001b[0m\u001b[1;33m[\u001b[0m\u001b[1;34m'track'\u001b[0m\u001b[1;33m]\u001b[0m\u001b[1;33m[\u001b[0m\u001b[1;34m'name'\u001b[0m\u001b[1;33m]\u001b[0m\u001b[1;33m)\u001b[0m\u001b[1;33m\u001b[0m\u001b[1;33m\u001b[0m\u001b[0m\n\u001b[0m\u001b[0;32m     12\u001b[0m         \u001b[0mtrack_uri\u001b[0m\u001b[1;33m.\u001b[0m\u001b[0mappend\u001b[0m\u001b[1;33m(\u001b[0m\u001b[0mtracks\u001b[0m\u001b[1;33m[\u001b[0m\u001b[0mj\u001b[0m\u001b[1;33m]\u001b[0m\u001b[1;33m[\u001b[0m\u001b[1;34m'track'\u001b[0m\u001b[1;33m]\u001b[0m\u001b[1;33m[\u001b[0m\u001b[1;34m'uri'\u001b[0m\u001b[1;33m]\u001b[0m\u001b[1;33m)\u001b[0m\u001b[1;33m\u001b[0m\u001b[1;33m\u001b[0m\u001b[0m\n\u001b[0;32m     13\u001b[0m \u001b[1;33m\u001b[0m\u001b[0m\n",
      "\u001b[1;31mTypeError\u001b[0m: 'NoneType' object is not subscriptable"
     ]
    }
   ],
   "source": [
    "#-----------determining the tracks'name, artists'name and uri for all the tracks in the playlists --------#\n",
    "\n",
    "track_names = []                      \n",
    "track_artist = []\n",
    "track_uri = []                           \n",
    "\n",
    "for i in range(0,len(playlist_ids)):\n",
    "    tracks = get_playlist_tracks('breezz', playlist_ids[i])\n",
    "    \n",
    "    for j in range(0,len(tracks)):\n",
    "        track_names.append(tracks[j]['track']['name'])\n",
    "        track_uri.append(tracks[j]['track']['uri'])\n",
    "        \n",
    "        artist = tracks[j]['track']['artists']\n",
    "        artists = []\n",
    "        \n",
    "        for k in range(0, len(artist)):\n",
    "            artists.append(tracks[j]['track']['artists'][k]['name']) \n",
    "        \n",
    "        track_artist.append(\" & \".join(artists)) \n",
    "            \n",
    "        wait_time = random.randint(1,3)\n",
    "        sleep(wait_time)            "
   ]
  },
  {
   "cell_type": "code",
   "execution_count": 530,
   "id": "e779c82b",
   "metadata": {},
   "outputs": [
    {
     "ename": "NameError",
     "evalue": "name 'list_of_audio_feature_dict' is not defined",
     "output_type": "error",
     "traceback": [
      "\u001b[1;31m---------------------------------------------------------------------------\u001b[0m",
      "\u001b[1;31mNameError\u001b[0m                                 Traceback (most recent call last)",
      "\u001b[1;32m<ipython-input-530-6df825b3c901>\u001b[0m in \u001b[0;36m<module>\u001b[1;34m\u001b[0m\n\u001b[0;32m      4\u001b[0m \u001b[1;32mfor\u001b[0m \u001b[0mi\u001b[0m \u001b[1;32min\u001b[0m \u001b[0mrange\u001b[0m\u001b[1;33m(\u001b[0m\u001b[1;36m0\u001b[0m\u001b[1;33m,\u001b[0m\u001b[0mlen\u001b[0m\u001b[1;33m(\u001b[0m\u001b[0mtrack_uri\u001b[0m\u001b[1;33m)\u001b[0m\u001b[1;33m)\u001b[0m\u001b[1;33m:\u001b[0m\u001b[1;33m\u001b[0m\u001b[1;33m\u001b[0m\u001b[0m\n\u001b[0;32m      5\u001b[0m     \u001b[0maudio_feature_dict\u001b[0m \u001b[1;33m=\u001b[0m \u001b[0msp\u001b[0m\u001b[1;33m.\u001b[0m\u001b[0maudio_features\u001b[0m\u001b[1;33m(\u001b[0m\u001b[0mtrack_uri\u001b[0m\u001b[1;33m[\u001b[0m\u001b[0mi\u001b[0m\u001b[1;33m]\u001b[0m\u001b[1;33m)\u001b[0m\u001b[1;33m[\u001b[0m\u001b[1;36m0\u001b[0m\u001b[1;33m]\u001b[0m\u001b[1;33m\u001b[0m\u001b[1;33m\u001b[0m\u001b[0m\n\u001b[1;32m----> 6\u001b[1;33m     \u001b[0mlist_of_audio_feature_dict\u001b[0m\u001b[1;33m.\u001b[0m\u001b[0mappend\u001b[0m\u001b[1;33m(\u001b[0m\u001b[0maudio_feature_dict\u001b[0m\u001b[1;33m)\u001b[0m\u001b[1;33m\u001b[0m\u001b[1;33m\u001b[0m\u001b[0m\n\u001b[0m\u001b[0;32m      7\u001b[0m \u001b[1;33m\u001b[0m\u001b[0m\n\u001b[0;32m      8\u001b[0m     \u001b[0mwait_time\u001b[0m \u001b[1;33m=\u001b[0m \u001b[0mrandom\u001b[0m\u001b[1;33m.\u001b[0m\u001b[0mrandint\u001b[0m\u001b[1;33m(\u001b[0m\u001b[1;36m1\u001b[0m\u001b[1;33m,\u001b[0m\u001b[1;36m3\u001b[0m\u001b[1;33m)\u001b[0m\u001b[1;33m\u001b[0m\u001b[1;33m\u001b[0m\u001b[0m\n",
      "\u001b[1;31mNameError\u001b[0m: name 'list_of_audio_feature_dict' is not defined"
     ]
    }
   ],
   "source": [
    "#--------audio features---------#\n",
    "list_of_audio_feature_dict = []\n",
    "\n",
    "for i in range(0,len(track_uri)):\n",
    "    audio_feature_dict = sp.audio_features(track_uri[i])[0]\n",
    "    list_of_audio_feature_dict.append(audio_feature_dict)\n",
    "    \n",
    "    wait_time = random.randint(1,3)\n",
    "    sleep(wait_time) \n"
   ]
  },
  {
   "cell_type": "code",
   "execution_count": 528,
   "id": "360e5b5c",
   "metadata": {},
   "outputs": [],
   "source": [
    "df = pd.DataFrame(list_dic)"
   ]
  },
  {
   "cell_type": "code",
   "execution_count": 529,
   "id": "f682e9a2",
   "metadata": {},
   "outputs": [
    {
     "data": {
      "text/html": [
       "<div>\n",
       "<style scoped>\n",
       "    .dataframe tbody tr th:only-of-type {\n",
       "        vertical-align: middle;\n",
       "    }\n",
       "\n",
       "    .dataframe tbody tr th {\n",
       "        vertical-align: top;\n",
       "    }\n",
       "\n",
       "    .dataframe thead th {\n",
       "        text-align: right;\n",
       "    }\n",
       "</style>\n",
       "<table border=\"1\" class=\"dataframe\">\n",
       "  <thead>\n",
       "    <tr style=\"text-align: right;\">\n",
       "      <th></th>\n",
       "      <th>danceability</th>\n",
       "      <th>energy</th>\n",
       "      <th>key</th>\n",
       "      <th>loudness</th>\n",
       "      <th>mode</th>\n",
       "      <th>speechiness</th>\n",
       "      <th>acousticness</th>\n",
       "      <th>instrumentalness</th>\n",
       "      <th>liveness</th>\n",
       "      <th>valence</th>\n",
       "      <th>tempo</th>\n",
       "      <th>type</th>\n",
       "      <th>id</th>\n",
       "      <th>uri</th>\n",
       "      <th>track_href</th>\n",
       "      <th>analysis_url</th>\n",
       "      <th>duration_ms</th>\n",
       "      <th>time_signature</th>\n",
       "    </tr>\n",
       "  </thead>\n",
       "  <tbody>\n",
       "    <tr>\n",
       "      <th>0</th>\n",
       "      <td>0.713</td>\n",
       "      <td>0.676</td>\n",
       "      <td>10</td>\n",
       "      <td>-5.483</td>\n",
       "      <td>1</td>\n",
       "      <td>0.0270</td>\n",
       "      <td>0.0377</td>\n",
       "      <td>0.000000</td>\n",
       "      <td>0.154</td>\n",
       "      <td>0.721</td>\n",
       "      <td>99.048</td>\n",
       "      <td>audio_features</td>\n",
       "      <td>6fRxMU4LWwyaSSowV441IU</td>\n",
       "      <td>spotify:track:6fRxMU4LWwyaSSowV441IU</td>\n",
       "      <td>https://api.spotify.com/v1/tracks/6fRxMU4LWwya...</td>\n",
       "      <td>https://api.spotify.com/v1/audio-analysis/6fRx...</td>\n",
       "      <td>227395</td>\n",
       "      <td>4</td>\n",
       "    </tr>\n",
       "    <tr>\n",
       "      <th>1</th>\n",
       "      <td>0.595</td>\n",
       "      <td>0.759</td>\n",
       "      <td>11</td>\n",
       "      <td>-4.245</td>\n",
       "      <td>0</td>\n",
       "      <td>0.0423</td>\n",
       "      <td>0.1410</td>\n",
       "      <td>0.000000</td>\n",
       "      <td>0.172</td>\n",
       "      <td>0.515</td>\n",
       "      <td>80.953</td>\n",
       "      <td>audio_features</td>\n",
       "      <td>5zqObw7wjBgL9TDiAymxPn</td>\n",
       "      <td>spotify:track:5zqObw7wjBgL9TDiAymxPn</td>\n",
       "      <td>https://api.spotify.com/v1/tracks/5zqObw7wjBgL...</td>\n",
       "      <td>https://api.spotify.com/v1/audio-analysis/5zqO...</td>\n",
       "      <td>163733</td>\n",
       "      <td>4</td>\n",
       "    </tr>\n",
       "    <tr>\n",
       "      <th>2</th>\n",
       "      <td>0.333</td>\n",
       "      <td>0.637</td>\n",
       "      <td>1</td>\n",
       "      <td>-4.904</td>\n",
       "      <td>0</td>\n",
       "      <td>0.0581</td>\n",
       "      <td>0.1310</td>\n",
       "      <td>0.000018</td>\n",
       "      <td>0.149</td>\n",
       "      <td>0.132</td>\n",
       "      <td>139.898</td>\n",
       "      <td>audio_features</td>\n",
       "      <td>5KCbr5ndeby4y4ggthdiAb</td>\n",
       "      <td>spotify:track:5KCbr5ndeby4y4ggthdiAb</td>\n",
       "      <td>https://api.spotify.com/v1/tracks/5KCbr5ndeby4...</td>\n",
       "      <td>https://api.spotify.com/v1/audio-analysis/5KCb...</td>\n",
       "      <td>172693</td>\n",
       "      <td>4</td>\n",
       "    </tr>\n",
       "  </tbody>\n",
       "</table>\n",
       "</div>"
      ],
      "text/plain": [
       "   danceability  energy  key  loudness  mode  speechiness  acousticness  \\\n",
       "0         0.713   0.676   10    -5.483     1       0.0270        0.0377   \n",
       "1         0.595   0.759   11    -4.245     0       0.0423        0.1410   \n",
       "2         0.333   0.637    1    -4.904     0       0.0581        0.1310   \n",
       "\n",
       "   instrumentalness  liveness  valence    tempo            type  \\\n",
       "0          0.000000     0.154    0.721   99.048  audio_features   \n",
       "1          0.000000     0.172    0.515   80.953  audio_features   \n",
       "2          0.000018     0.149    0.132  139.898  audio_features   \n",
       "\n",
       "                       id                                   uri  \\\n",
       "0  6fRxMU4LWwyaSSowV441IU  spotify:track:6fRxMU4LWwyaSSowV441IU   \n",
       "1  5zqObw7wjBgL9TDiAymxPn  spotify:track:5zqObw7wjBgL9TDiAymxPn   \n",
       "2  5KCbr5ndeby4y4ggthdiAb  spotify:track:5KCbr5ndeby4y4ggthdiAb   \n",
       "\n",
       "                                          track_href  \\\n",
       "0  https://api.spotify.com/v1/tracks/6fRxMU4LWwya...   \n",
       "1  https://api.spotify.com/v1/tracks/5zqObw7wjBgL...   \n",
       "2  https://api.spotify.com/v1/tracks/5KCbr5ndeby4...   \n",
       "\n",
       "                                        analysis_url  duration_ms  \\\n",
       "0  https://api.spotify.com/v1/audio-analysis/6fRx...       227395   \n",
       "1  https://api.spotify.com/v1/audio-analysis/5zqO...       163733   \n",
       "2  https://api.spotify.com/v1/audio-analysis/5KCb...       172693   \n",
       "\n",
       "   time_signature  \n",
       "0               4  \n",
       "1               4  \n",
       "2               4  "
      ]
     },
     "execution_count": 529,
     "metadata": {},
     "output_type": "execute_result"
    }
   ],
   "source": []
  },
  {
   "cell_type": "code",
   "execution_count": 517,
   "id": "b723e883",
   "metadata": {},
   "outputs": [
    {
     "data": {
      "text/html": [
       "<div>\n",
       "<style scoped>\n",
       "    .dataframe tbody tr th:only-of-type {\n",
       "        vertical-align: middle;\n",
       "    }\n",
       "\n",
       "    .dataframe tbody tr th {\n",
       "        vertical-align: top;\n",
       "    }\n",
       "\n",
       "    .dataframe thead th {\n",
       "        text-align: right;\n",
       "    }\n",
       "</style>\n",
       "<table border=\"1\" class=\"dataframe\">\n",
       "  <thead>\n",
       "    <tr style=\"text-align: right;\">\n",
       "      <th></th>\n",
       "    </tr>\n",
       "  </thead>\n",
       "  <tbody>\n",
       "  </tbody>\n",
       "</table>\n",
       "</div>"
      ],
      "text/plain": [
       "Empty DataFrame\n",
       "Columns: []\n",
       "Index: []"
      ]
     },
     "execution_count": 517,
     "metadata": {},
     "output_type": "execute_result"
    }
   ],
   "source": []
  },
  {
   "cell_type": "code",
   "execution_count": null,
   "id": "82dde104",
   "metadata": {},
   "outputs": [],
   "source": []
  }
 ],
 "metadata": {
  "kernelspec": {
   "display_name": "Python 3",
   "language": "python",
   "name": "python3"
  },
  "language_info": {
   "codemirror_mode": {
    "name": "ipython",
    "version": 3
   },
   "file_extension": ".py",
   "mimetype": "text/x-python",
   "name": "python",
   "nbconvert_exporter": "python",
   "pygments_lexer": "ipython3",
   "version": "3.8.8"
  }
 },
 "nbformat": 4,
 "nbformat_minor": 5
}
