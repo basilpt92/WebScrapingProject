{
 "cells": [
  {
   "cell_type": "markdown",
   "id": "8a6911e9",
   "metadata": {},
   "source": [
    "# WebScraping"
   ]
  },
  {
   "cell_type": "code",
   "execution_count": 22,
   "id": "a4ce6181",
   "metadata": {},
   "outputs": [],
   "source": [
    "from bs4 import BeautifulSoup\n",
    "import requests\n",
    "import json\n",
    "\n",
    "import spotipy\n",
    "from spotipy.oauth2 import SpotifyClientCredentials\n",
    "import config\n",
    "\n",
    "import pprint\n",
    "\n",
    "import random \n",
    "from time import sleep\n",
    "\n",
    "import pandas as pd"
   ]
  },
  {
   "cell_type": "code",
   "execution_count": 23,
   "id": "3081f85f",
   "metadata": {},
   "outputs": [],
   "source": [
    "Client_ID = config.client_id\n",
    "Client_Secret = config.client_secret\n",
    "\n",
    "sp = spotipy.Spotify(auth_manager = SpotifyClientCredentials(client_id = Client_ID, client_secret = Client_Secret))"
   ]
  },
  {
   "cell_type": "markdown",
   "id": "5cdd521b",
   "metadata": {},
   "source": [
    "# Extracting Hot Songs (HTML Parsing)  \n",
    "  \n",
    "### Scraping the Billbord Website (2021-2006)"
   ]
  },
  {
   "cell_type": "code",
   "execution_count": 2,
   "id": "965fb9e0",
   "metadata": {},
   "outputs": [],
   "source": [
    "#------scrapping 2021 data-------#\n",
    "\n",
    "url = \"https://www.billboard.com/charts/hot-100\"\n",
    "response = requests.get(url)\n",
    "newest_soup = BeautifulSoup(response.content, 'html.parser')"
   ]
  },
  {
   "cell_type": "code",
   "execution_count": 3,
   "id": "983f3fb9",
   "metadata": {},
   "outputs": [
    {
     "data": {
      "text/plain": [
       "200"
      ]
     },
     "execution_count": 3,
     "metadata": {},
     "output_type": "execute_result"
    }
   ],
   "source": [
    "response.status_code"
   ]
  },
  {
   "cell_type": "code",
   "execution_count": 6,
   "id": "1f457040",
   "metadata": {},
   "outputs": [],
   "source": [
    "#--------2021 song names--------#\n",
    "\n",
    "newest_song = newest_soup.select('span.chart-element__information__song.text--truncate.color--primary')\n",
    "newest_song = [t.text for t in newest_song]\n",
    "\n",
    "\n",
    "#--------2021 artist names--------#\n",
    "\n",
    "newest_artist = newest_soup.select('span.chart-element__information__artist.text--truncate.color--secondary')\n",
    "newest_artist = [t.text for t in newest_artist]"
   ]
  },
  {
   "cell_type": "code",
   "execution_count": 7,
   "id": "9caa61cc",
   "metadata": {},
   "outputs": [],
   "source": [
    "#------scrapping 2006-2020 data-------#\n",
    "\n",
    "str = 'https://www.billboard.com/charts/year-end/{}/hot-100-songs'\n",
    "years = [ 2006, 2007 ,2008, 2009, 2010,2011, 2012, 2013, 2014, 2015, 2016, 2017, 2018 ,2019, 2020]\n",
    "\n",
    "song_older_soups = []\n",
    "artist_older_soups = []\n",
    "\n",
    "for year in years:\n",
    "    url = str.format(year)\n",
    "    response = requests.get(url)\n",
    "    #print(response.status_code)\n",
    "    \n",
    "    soup = BeautifulSoup(response.content)\n",
    "    song_older_soups.append(soup.find_all('div', class_ = 'ye-chart-item__title'))\n",
    "    artist_older_soups.append(soup.find_all('div', class_ = 'ye-chart-item__artist'))\n",
    "    \n",
    "    \n",
    "    wait_time = random.randint(1,4)\n",
    "    sleep(wait_time)"
   ]
  },
  {
   "cell_type": "code",
   "execution_count": 8,
   "id": "c4c02833",
   "metadata": {},
   "outputs": [],
   "source": [
    "#------song names & artist names 2006-2020------#\n",
    "\n",
    "for i in range(0,len(years)):\n",
    "    song_older_soups[i] = [t.text.replace('\\n','') for t in song_older_soups[i]]\n",
    "    artist_older_soups[i] = [t.text.replace('\\n','') for t in artist_older_soups[i]]    "
   ]
  },
  {
   "cell_type": "code",
   "execution_count": 9,
   "id": "6aba5aa9",
   "metadata": {},
   "outputs": [],
   "source": [
    "#----------concatinate the 2006-2020 years data together & with 2021----------#\n",
    "\n",
    "song_name = []\n",
    "song_artist = []\n",
    "\n",
    "for i in range(0,len(song_older_soups)):\n",
    "    song_name += song_older_soups[i]\n",
    "    song_artist += artist_older_soups[i]\n",
    "    \n",
    "\n",
    "song_name += newest_song\n",
    "song_artist += newest_song"
   ]
  },
  {
   "cell_type": "code",
   "execution_count": 18,
   "id": "146c9335",
   "metadata": {},
   "outputs": [
    {
     "data": {
      "text/html": [
       "<div>\n",
       "<style scoped>\n",
       "    .dataframe tbody tr th:only-of-type {\n",
       "        vertical-align: middle;\n",
       "    }\n",
       "\n",
       "    .dataframe tbody tr th {\n",
       "        vertical-align: top;\n",
       "    }\n",
       "\n",
       "    .dataframe thead th {\n",
       "        text-align: right;\n",
       "    }\n",
       "</style>\n",
       "<table border=\"1\" class=\"dataframe\">\n",
       "  <thead>\n",
       "    <tr style=\"text-align: right;\">\n",
       "      <th></th>\n",
       "      <th>song</th>\n",
       "      <th>artist</th>\n",
       "    </tr>\n",
       "  </thead>\n",
       "  <tbody>\n",
       "    <tr>\n",
       "      <th>0</th>\n",
       "      <td>Bad Day</td>\n",
       "      <td>Daniel Powter</td>\n",
       "    </tr>\n",
       "    <tr>\n",
       "      <th>1</th>\n",
       "      <td>Temperature</td>\n",
       "      <td>Sean Paul</td>\n",
       "    </tr>\n",
       "    <tr>\n",
       "      <th>2</th>\n",
       "      <td>Promiscuous</td>\n",
       "      <td>Nelly Furtado Featuring Timbaland</td>\n",
       "    </tr>\n",
       "    <tr>\n",
       "      <th>3</th>\n",
       "      <td>You're Beautiful</td>\n",
       "      <td>James Blunt</td>\n",
       "    </tr>\n",
       "    <tr>\n",
       "      <th>4</th>\n",
       "      <td>Hips Don't Lie</td>\n",
       "      <td>Shakira Featuring Wyclef Jean</td>\n",
       "    </tr>\n",
       "  </tbody>\n",
       "</table>\n",
       "</div>"
      ],
      "text/plain": [
       "               song                             artist\n",
       "0           Bad Day                      Daniel Powter\n",
       "1       Temperature                          Sean Paul\n",
       "2       Promiscuous  Nelly Furtado Featuring Timbaland\n",
       "3  You're Beautiful                        James Blunt\n",
       "4    Hips Don't Lie      Shakira Featuring Wyclef Jean"
      ]
     },
     "execution_count": 18,
     "metadata": {},
     "output_type": "execute_result"
    }
   ],
   "source": [
    "#----- hot topic dataframe 2006-2021----------#\n",
    "\n",
    "df = pd.DataFrame({'song': song_name, 'artist': song_artist})\n",
    "df.head(5)"
   ]
  },
  {
   "cell_type": "code",
   "execution_count": 17,
   "id": "9d31d3a9",
   "metadata": {},
   "outputs": [
    {
     "data": {
      "text/plain": [
       "(1598, 2)"
      ]
     },
     "execution_count": 17,
     "metadata": {},
     "output_type": "execute_result"
    }
   ],
   "source": [
    "df.shape"
   ]
  },
  {
   "cell_type": "code",
   "execution_count": 20,
   "id": "51825639",
   "metadata": {},
   "outputs": [],
   "source": [
    "#---------Making the dataframe content lowercase-----------#\n",
    "\n",
    "df[\"song\"] = df[\"song\"].apply(lambda x: x.lower())\n",
    "df[\"artist\"] = df[\"artist\"].apply(lambda x: x.lower())"
   ]
  },
  {
   "cell_type": "code",
   "execution_count": 33,
   "id": "46316faa",
   "metadata": {},
   "outputs": [],
   "source": [
    "#------------save the result in a csv file ---------#\n",
    "\n",
    "df.to_csv('scrapped_hot_songs.csv', index = False)"
   ]
  },
  {
   "cell_type": "markdown",
   "id": "4b33b217",
   "metadata": {},
   "source": [
    "  \n",
    "    \n",
    "# Extracting Songs and Audio Features (Spotify API )\n",
    "  \n",
    "### Scraping various playlists using the API of Spotify and their corresponding audio features for further clustering  "
   ]
  },
  {
   "cell_type": "code",
   "execution_count": 30,
   "id": "3af78dd0",
   "metadata": {},
   "outputs": [
    {
     "data": {
      "text/plain": [
       "['toplists',\n",
       " 'at_home',\n",
       " 'pop',\n",
       " 'equal',\n",
       " 'mood',\n",
       " 'decades',\n",
       " 'hiphop',\n",
       " 'in_the_car',\n",
       " 'frequency',\n",
       " 'gaming',\n",
       " 'wellness',\n",
       " 'workout',\n",
       " 'chill',\n",
       " 'focus',\n",
       " 'sleep',\n",
       " 'party',\n",
       " 'indie_alt',\n",
       " 'metal',\n",
       " 'rock',\n",
       " 'edm_dance']"
      ]
     },
     "execution_count": 30,
     "metadata": {},
     "output_type": "execute_result"
    }
   ],
   "source": [
    "#----------extracting playlists from spotify API---------#\n",
    "\n",
    "cats = [cat['id'] for cat in sp.categories()['categories']['items']]\n",
    "cats"
   ]
  },
  {
   "cell_type": "code",
   "execution_count": 26,
   "id": "43fe2f95",
   "metadata": {},
   "outputs": [],
   "source": [
    "#cats.remove('radar')"
   ]
  },
  {
   "cell_type": "code",
   "execution_count": 31,
   "id": "912d9205",
   "metadata": {},
   "outputs": [],
   "source": [
    "#-----------determining the id of each playlists --------#\n",
    "\n",
    "playlist_ids = []\n",
    "\n",
    "for i in range(0,len(cats)):\n",
    "    playlist_ids.append(sp.category_playlists(cats[i])['playlists']['items'][0]['id'])\n",
    "    \n",
    "    wait_time = random.randint(1,3)\n",
    "    sleep(wait_time)"
   ]
  },
  {
   "cell_type": "code",
   "execution_count": 32,
   "id": "37220be1",
   "metadata": {},
   "outputs": [
    {
     "data": {
      "text/plain": [
       "['37i9dQZF1DWY4lFlS4Pnso',\n",
       " '37i9dQZF1DWTLSN7iG21yC',\n",
       " '37i9dQZF1DWZDMxPJhrYOE',\n",
       " '37i9dQZF1DWU8quswnFt3c',\n",
       " '37i9dQZF1DX3rxVfibe1L0',\n",
       " '37i9dQZF1DX4UtSsGT1Sbe',\n",
       " '37i9dQZF1DX0XUsuxWHRQd',\n",
       " '37i9dQZF1DX0BxHamIEkKV',\n",
       " '37i9dQZF1DWVgsJtp58d1t',\n",
       " '37i9dQZF1DWTyiBJ6yEqeu',\n",
       " '37i9dQZF1DX9uKNf5jGX6m',\n",
       " '37i9dQZF1DX76Wlfdnj7AP',\n",
       " '37i9dQZF1DX4WYpdgoIcn6',\n",
       " '37i9dQZF1DX4sWSpwq3LiO',\n",
       " '37i9dQZF1DXdbkmlag2h7b',\n",
       " '37i9dQZF1DXaXB8fQg7xif',\n",
       " '37i9dQZF1DXdTCdwCKzXwo',\n",
       " '37i9dQZF1DWTcqUzwhNmKv',\n",
       " '37i9dQZF1DWXRqgorJj26U',\n",
       " '37i9dQZF1DX4dyzvuaRJ0n']"
      ]
     },
     "execution_count": 32,
     "metadata": {},
     "output_type": "execute_result"
    }
   ],
   "source": [
    "playlist_ids"
   ]
  },
  {
   "cell_type": "code",
   "execution_count": null,
   "id": "39533f14",
   "metadata": {},
   "outputs": [],
   "source": [
    "#-----------getting the tracks inside each playlist --------#\n",
    "\n",
    "def get_playlist_tracks(username ,playlist_id):\n",
    "    results = sp.user_playlist_tracks(username,playlist_id)\n",
    "    tracks = results['items']\n",
    "    while results['next']:\n",
    "        results = sp.next(results)\n",
    "        tracks.extend(results['items'])\n",
    "    return tracks"
   ]
  },
  {
   "cell_type": "code",
   "execution_count": null,
   "id": "1416cd5f",
   "metadata": {},
   "outputs": [],
   "source": [
    "#-----------determining the tracks'name, artists'name and uri for all the tracks in the playlists --------#\n",
    "\n",
    "track_names = []                      \n",
    "track_artist = []\n",
    "track_uri = []                           \n",
    "\n",
    "for i in range(0, len(playlist_ids)):\n",
    "    tracks = get_playlist_tracks('breezz', playlist_ids[i])\n",
    "    \n",
    "    for j in range(0,len(tracks)):\n",
    "        track_names.append(tracks[j]['track']['name'])\n",
    "        track_uri.append(tracks[j]['track']['uri'])\n",
    "        \n",
    "        artist = tracks[j]['track']['artists']\n",
    "        artists = []\n",
    "        \n",
    "        for k in range(0, len(artist)):\n",
    "            artists.append(tracks[j]['track']['artists'][k]['name']) \n",
    "        \n",
    "        track_artist.append(\" & \".join(artists)) \n",
    "            \n",
    "        wait_time = random.randint(1,5)\n",
    "        sleep(wait_time)"
   ]
  },
  {
   "cell_type": "code",
   "execution_count": null,
   "id": "088d91ef",
   "metadata": {},
   "outputs": [],
   "source": [
    "#tracks = get_playlist_tracks('breezz', playlist_ids[0])\n",
    "#len(tracks)\n",
    "#track_names"
   ]
  },
  {
   "cell_type": "code",
   "execution_count": null,
   "id": "feb26006",
   "metadata": {},
   "outputs": [],
   "source": [
    "#--------getting audio features based on the provided uri lists---------#\n",
    "\n",
    "list_of_audio_feature_dict = []\n",
    "\n",
    "for i in range(0,len(track_uri)):\n",
    "    audio_feature_dict = sp.audio_features(track_uri[i])[0]\n",
    "    list_of_audio_feature_dict.append(audio_feature_dict)\n",
    "    \n",
    "    wait_time = random.randint(1,3)\n",
    "    sleep(wait_time) \n"
   ]
  },
  {
   "cell_type": "code",
   "execution_count": null,
   "id": "d0335874",
   "metadata": {},
   "outputs": [],
   "source": [
    "#len(list_of_audio_feature_dict)"
   ]
  },
  {
   "cell_type": "code",
   "execution_count": null,
   "id": "fc14b973",
   "metadata": {},
   "outputs": [],
   "source": [
    "#---------Making a dataframe form the audio features + song +artist -----------#\n",
    "\n",
    "df_sp = pd.DataFrame(list_of_audio_feature_dict)\n",
    "df_sp['artist'] = track_artist\n",
    "df_sp['song_name'] = track_names"
   ]
  },
  {
   "cell_type": "code",
   "execution_count": null,
   "id": "0208b563",
   "metadata": {},
   "outputs": [],
   "source": [
    "#------------save the result in a csv file ---------#\n",
    "\n",
    "df_sp.to_csv('audio_features_album10.csv', index = False)"
   ]
  }
 ],
 "metadata": {
  "kernelspec": {
   "display_name": "Python 3",
   "language": "python",
   "name": "python3"
  },
  "language_info": {
   "codemirror_mode": {
    "name": "ipython",
    "version": 3
   },
   "file_extension": ".py",
   "mimetype": "text/x-python",
   "name": "python",
   "nbconvert_exporter": "python",
   "pygments_lexer": "ipython3",
   "version": "3.8.8"
  }
 },
 "nbformat": 4,
 "nbformat_minor": 5
}
