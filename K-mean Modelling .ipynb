{
 "cells": [
  {
   "cell_type": "code",
   "execution_count": 91,
   "id": "887d214c",
   "metadata": {},
   "outputs": [],
   "source": [
    "from sklearn import datasets\n",
    "from sklearn.preprocessing import StandardScaler\n",
    "from sklearn.cluster import KMeans\n",
    "from sklearn.metrics import silhouette_score\n",
    "import pandas as pd\n",
    "\n",
    "import numpy as np\n",
    "import matplotlib.pyplot as plt"
   ]
  },
  {
   "cell_type": "code",
   "execution_count": 29,
   "id": "e67d871b",
   "metadata": {},
   "outputs": [],
   "source": [
    "#--------------scrapped songs from spotify with their audio features-------------#\n",
    "\n",
    "audio1_df = pd.read_csv('audio_features_album.csv')\n",
    "audio2_df = pd.read_csv('audio_features_album2.csv')\n",
    "audio3_df = pd.read_csv('audio_features_album3.csv')\n",
    "audio4_df = pd.read_csv('audio_features_album4.csv')\n",
    "audio5_df = pd.read_csv('audio_features_album5.csv')\n",
    "audio6_df = pd.read_csv('audio_features_album6.csv')\n",
    "audio7_df = pd.read_csv('audio_features_album7.csv')\n",
    "audio8_df = pd.read_csv('audio_features_album8.csv')\n",
    "audio9_df = pd.read_csv('audio_features_album9.csv')"
   ]
  },
  {
   "cell_type": "code",
   "execution_count": 60,
   "id": "93429898",
   "metadata": {},
   "outputs": [
    {
     "data": {
      "text/html": [
       "<div>\n",
       "<style scoped>\n",
       "    .dataframe tbody tr th:only-of-type {\n",
       "        vertical-align: middle;\n",
       "    }\n",
       "\n",
       "    .dataframe tbody tr th {\n",
       "        vertical-align: top;\n",
       "    }\n",
       "\n",
       "    .dataframe thead th {\n",
       "        text-align: right;\n",
       "    }\n",
       "</style>\n",
       "<table border=\"1\" class=\"dataframe\">\n",
       "  <thead>\n",
       "    <tr style=\"text-align: right;\">\n",
       "      <th></th>\n",
       "      <th>danceability</th>\n",
       "      <th>energy</th>\n",
       "      <th>key</th>\n",
       "      <th>loudness</th>\n",
       "      <th>mode</th>\n",
       "      <th>speechiness</th>\n",
       "      <th>acousticness</th>\n",
       "      <th>instrumentalness</th>\n",
       "      <th>liveness</th>\n",
       "      <th>valence</th>\n",
       "      <th>tempo</th>\n",
       "      <th>type</th>\n",
       "      <th>id</th>\n",
       "      <th>uri</th>\n",
       "      <th>track_href</th>\n",
       "      <th>analysis_url</th>\n",
       "      <th>duration_ms</th>\n",
       "      <th>time_signature</th>\n",
       "      <th>artist</th>\n",
       "      <th>song_name</th>\n",
       "    </tr>\n",
       "  </thead>\n",
       "  <tbody>\n",
       "    <tr>\n",
       "      <th>2051</th>\n",
       "      <td>0.877</td>\n",
       "      <td>0.854</td>\n",
       "      <td>1</td>\n",
       "      <td>-4.523</td>\n",
       "      <td>1</td>\n",
       "      <td>0.147</td>\n",
       "      <td>0.0544</td>\n",
       "      <td>0.000055</td>\n",
       "      <td>0.144</td>\n",
       "      <td>0.54</td>\n",
       "      <td>114.472</td>\n",
       "      <td>audio_features</td>\n",
       "      <td>0sKlV58cODrjxGFOyf9IXY</td>\n",
       "      <td>spotify:track:0sKlV58cODrjxGFOyf9IXY</td>\n",
       "      <td>https://api.spotify.com/v1/tracks/0sKlV58cODrj...</td>\n",
       "      <td>https://api.spotify.com/v1/audio-analysis/0sKl...</td>\n",
       "      <td>298120</td>\n",
       "      <td>4</td>\n",
       "      <td>Michael Jackson</td>\n",
       "      <td>The Way You Make Me Feel - 2012 Remaster</td>\n",
       "    </tr>\n",
       "  </tbody>\n",
       "</table>\n",
       "</div>"
      ],
      "text/plain": [
       "      danceability  energy  key  loudness  mode  speechiness  acousticness  \\\n",
       "2051         0.877   0.854    1    -4.523     1        0.147        0.0544   \n",
       "\n",
       "      instrumentalness  liveness  valence    tempo            type  \\\n",
       "2051          0.000055     0.144     0.54  114.472  audio_features   \n",
       "\n",
       "                          id                                   uri  \\\n",
       "2051  0sKlV58cODrjxGFOyf9IXY  spotify:track:0sKlV58cODrjxGFOyf9IXY   \n",
       "\n",
       "                                             track_href  \\\n",
       "2051  https://api.spotify.com/v1/tracks/0sKlV58cODrj...   \n",
       "\n",
       "                                           analysis_url  duration_ms  \\\n",
       "2051  https://api.spotify.com/v1/audio-analysis/0sKl...       298120   \n",
       "\n",
       "      time_signature           artist  \\\n",
       "2051               4  Michael Jackson   \n",
       "\n",
       "                                     song_name  \n",
       "2051  The Way You Make Me Feel - 2012 Remaster  "
      ]
     },
     "execution_count": 60,
     "metadata": {},
     "output_type": "execute_result"
    }
   ],
   "source": [
    "#--------concatination of the all audio files----------#\n",
    "\n",
    "df = pd.concat([audio1_df,audio2_df,audio3_df,audio4_df,audio5_df,audio6_df,audio7_df,audio8_df,audio9_df],ignore_index = True)\n",
    "df.tail(1) "
   ]
  },
  {
   "cell_type": "code",
   "execution_count": 70,
   "id": "2afb357e",
   "metadata": {},
   "outputs": [],
   "source": [
    "#-----------removing the duplicates------#  \n",
    "\n",
    "df = df.drop_duplicates().reset_index()"
   ]
  },
  {
   "cell_type": "code",
   "execution_count": 61,
   "id": "51f479e5",
   "metadata": {},
   "outputs": [
    {
     "data": {
      "text/html": [
       "<div>\n",
       "<style scoped>\n",
       "    .dataframe tbody tr th:only-of-type {\n",
       "        vertical-align: middle;\n",
       "    }\n",
       "\n",
       "    .dataframe tbody tr th {\n",
       "        vertical-align: top;\n",
       "    }\n",
       "\n",
       "    .dataframe thead th {\n",
       "        text-align: right;\n",
       "    }\n",
       "</style>\n",
       "<table border=\"1\" class=\"dataframe\">\n",
       "  <thead>\n",
       "    <tr style=\"text-align: right;\">\n",
       "      <th></th>\n",
       "      <th>danceability</th>\n",
       "      <th>energy</th>\n",
       "      <th>key</th>\n",
       "      <th>loudness</th>\n",
       "      <th>mode</th>\n",
       "      <th>speechiness</th>\n",
       "      <th>acousticness</th>\n",
       "      <th>instrumentalness</th>\n",
       "      <th>liveness</th>\n",
       "      <th>valence</th>\n",
       "      <th>tempo</th>\n",
       "      <th>type</th>\n",
       "      <th>id</th>\n",
       "      <th>uri</th>\n",
       "      <th>track_href</th>\n",
       "      <th>analysis_url</th>\n",
       "      <th>duration_ms</th>\n",
       "      <th>time_signature</th>\n",
       "      <th>artist</th>\n",
       "      <th>song_name</th>\n",
       "    </tr>\n",
       "  </thead>\n",
       "  <tbody>\n",
       "    <tr>\n",
       "      <th>2051</th>\n",
       "      <td>0.877</td>\n",
       "      <td>0.854</td>\n",
       "      <td>1</td>\n",
       "      <td>-4.523</td>\n",
       "      <td>1</td>\n",
       "      <td>0.147</td>\n",
       "      <td>0.0544</td>\n",
       "      <td>0.000055</td>\n",
       "      <td>0.144</td>\n",
       "      <td>0.54</td>\n",
       "      <td>114.472</td>\n",
       "      <td>audio_features</td>\n",
       "      <td>0sKlV58cODrjxGFOyf9IXY</td>\n",
       "      <td>spotify:track:0sKlV58cODrjxGFOyf9IXY</td>\n",
       "      <td>https://api.spotify.com/v1/tracks/0sKlV58cODrj...</td>\n",
       "      <td>https://api.spotify.com/v1/audio-analysis/0sKl...</td>\n",
       "      <td>298120</td>\n",
       "      <td>4</td>\n",
       "      <td>Michael Jackson</td>\n",
       "      <td>The Way You Make Me Feel - 2012 Remaster</td>\n",
       "    </tr>\n",
       "  </tbody>\n",
       "</table>\n",
       "</div>"
      ],
      "text/plain": [
       "      danceability  energy  key  loudness  mode  speechiness  acousticness  \\\n",
       "2051         0.877   0.854    1    -4.523     1        0.147        0.0544   \n",
       "\n",
       "      instrumentalness  liveness  valence    tempo            type  \\\n",
       "2051          0.000055     0.144     0.54  114.472  audio_features   \n",
       "\n",
       "                          id                                   uri  \\\n",
       "2051  0sKlV58cODrjxGFOyf9IXY  spotify:track:0sKlV58cODrjxGFOyf9IXY   \n",
       "\n",
       "                                             track_href  \\\n",
       "2051  https://api.spotify.com/v1/tracks/0sKlV58cODrj...   \n",
       "\n",
       "                                           analysis_url  duration_ms  \\\n",
       "2051  https://api.spotify.com/v1/audio-analysis/0sKl...       298120   \n",
       "\n",
       "      time_signature           artist  \\\n",
       "2051               4  Michael Jackson   \n",
       "\n",
       "                                     song_name  \n",
       "2051  The Way You Make Me Feel - 2012 Remaster  "
      ]
     },
     "execution_count": 61,
     "metadata": {},
     "output_type": "execute_result"
    }
   ],
   "source": [
    "df.tail(1)"
   ]
  },
  {
   "cell_type": "code",
   "execution_count": 54,
   "id": "f199547f",
   "metadata": {},
   "outputs": [],
   "source": [
    "#---------------droping columns prior to modelling-------------#\n",
    "\n",
    "x1 = df.drop(['index','type', 'id', 'uri', 'track_href', 'analysis_url', 'artist', 'song_name'], axis = 1)"
   ]
  },
  {
   "cell_type": "code",
   "execution_count": 109,
   "id": "a563ca7a",
   "metadata": {},
   "outputs": [],
   "source": [
    "x = df.drop(['mode','time_signature', 'duration_ms','index','type', 'id', 'uri', 'track_href', 'analysis_url', 'artist', 'song_name'], axis = 1)"
   ]
  },
  {
   "cell_type": "code",
   "execution_count": 110,
   "id": "b5120191",
   "metadata": {},
   "outputs": [],
   "source": [
    "#---------------standardization of the features (z-score)-------------#\n",
    "\n",
    "scaler = StandardScaler()\n",
    "x_scaled = scaler.fit_transform(x)"
   ]
  },
  {
   "cell_type": "code",
   "execution_count": 106,
   "id": "306c086f",
   "metadata": {},
   "outputs": [
    {
     "data": {
      "text/html": [
       "<div>\n",
       "<style scoped>\n",
       "    .dataframe tbody tr th:only-of-type {\n",
       "        vertical-align: middle;\n",
       "    }\n",
       "\n",
       "    .dataframe tbody tr th {\n",
       "        vertical-align: top;\n",
       "    }\n",
       "\n",
       "    .dataframe thead th {\n",
       "        text-align: right;\n",
       "    }\n",
       "</style>\n",
       "<table border=\"1\" class=\"dataframe\">\n",
       "  <thead>\n",
       "    <tr style=\"text-align: right;\">\n",
       "      <th></th>\n",
       "      <th>danceability</th>\n",
       "      <th>energy</th>\n",
       "      <th>key</th>\n",
       "      <th>loudness</th>\n",
       "      <th>mode</th>\n",
       "      <th>speechiness</th>\n",
       "      <th>acousticness</th>\n",
       "      <th>instrumentalness</th>\n",
       "      <th>liveness</th>\n",
       "      <th>valence</th>\n",
       "      <th>tempo</th>\n",
       "    </tr>\n",
       "  </thead>\n",
       "  <tbody>\n",
       "    <tr>\n",
       "      <th>0</th>\n",
       "      <td>0.658</td>\n",
       "      <td>0.634</td>\n",
       "      <td>1</td>\n",
       "      <td>-5.797</td>\n",
       "      <td>0</td>\n",
       "      <td>0.0413</td>\n",
       "      <td>0.0106</td>\n",
       "      <td>0.000000</td>\n",
       "      <td>0.132</td>\n",
       "      <td>0.290</td>\n",
       "      <td>139.980</td>\n",
       "    </tr>\n",
       "    <tr>\n",
       "      <th>1</th>\n",
       "      <td>0.333</td>\n",
       "      <td>0.637</td>\n",
       "      <td>1</td>\n",
       "      <td>-4.904</td>\n",
       "      <td>0</td>\n",
       "      <td>0.0581</td>\n",
       "      <td>0.1310</td>\n",
       "      <td>0.000018</td>\n",
       "      <td>0.149</td>\n",
       "      <td>0.132</td>\n",
       "      <td>139.898</td>\n",
       "    </tr>\n",
       "    <tr>\n",
       "      <th>2</th>\n",
       "      <td>0.713</td>\n",
       "      <td>0.676</td>\n",
       "      <td>10</td>\n",
       "      <td>-5.483</td>\n",
       "      <td>1</td>\n",
       "      <td>0.0270</td>\n",
       "      <td>0.0377</td>\n",
       "      <td>0.000000</td>\n",
       "      <td>0.154</td>\n",
       "      <td>0.721</td>\n",
       "      <td>99.048</td>\n",
       "    </tr>\n",
       "    <tr>\n",
       "      <th>3</th>\n",
       "      <td>0.748</td>\n",
       "      <td>0.551</td>\n",
       "      <td>11</td>\n",
       "      <td>-6.120</td>\n",
       "      <td>1</td>\n",
       "      <td>0.0349</td>\n",
       "      <td>0.2350</td>\n",
       "      <td>0.000000</td>\n",
       "      <td>0.119</td>\n",
       "      <td>0.660</td>\n",
       "      <td>103.953</td>\n",
       "    </tr>\n",
       "    <tr>\n",
       "      <th>4</th>\n",
       "      <td>0.595</td>\n",
       "      <td>0.759</td>\n",
       "      <td>11</td>\n",
       "      <td>-4.245</td>\n",
       "      <td>0</td>\n",
       "      <td>0.0423</td>\n",
       "      <td>0.1410</td>\n",
       "      <td>0.000000</td>\n",
       "      <td>0.172</td>\n",
       "      <td>0.515</td>\n",
       "      <td>80.953</td>\n",
       "    </tr>\n",
       "  </tbody>\n",
       "</table>\n",
       "</div>"
      ],
      "text/plain": [
       "   danceability  energy  key  loudness  mode  speechiness  acousticness  \\\n",
       "0         0.658   0.634    1    -5.797     0       0.0413        0.0106   \n",
       "1         0.333   0.637    1    -4.904     0       0.0581        0.1310   \n",
       "2         0.713   0.676   10    -5.483     1       0.0270        0.0377   \n",
       "3         0.748   0.551   11    -6.120     1       0.0349        0.2350   \n",
       "4         0.595   0.759   11    -4.245     0       0.0423        0.1410   \n",
       "\n",
       "   instrumentalness  liveness  valence    tempo  \n",
       "0          0.000000     0.132    0.290  139.980  \n",
       "1          0.000018     0.149    0.132  139.898  \n",
       "2          0.000000     0.154    0.721   99.048  \n",
       "3          0.000000     0.119    0.660  103.953  \n",
       "4          0.000000     0.172    0.515   80.953  "
      ]
     },
     "execution_count": 106,
     "metadata": {},
     "output_type": "execute_result"
    }
   ],
   "source": [
    "#----Before Scaling-----#\n",
    "\n",
    "x.head()"
   ]
  },
  {
   "cell_type": "code",
   "execution_count": 107,
   "id": "d40f9001",
   "metadata": {},
   "outputs": [
    {
     "data": {
      "text/html": [
       "<div>\n",
       "<style scoped>\n",
       "    .dataframe tbody tr th:only-of-type {\n",
       "        vertical-align: middle;\n",
       "    }\n",
       "\n",
       "    .dataframe tbody tr th {\n",
       "        vertical-align: top;\n",
       "    }\n",
       "\n",
       "    .dataframe thead th {\n",
       "        text-align: right;\n",
       "    }\n",
       "</style>\n",
       "<table border=\"1\" class=\"dataframe\">\n",
       "  <thead>\n",
       "    <tr style=\"text-align: right;\">\n",
       "      <th></th>\n",
       "      <th>danceability</th>\n",
       "      <th>energy</th>\n",
       "      <th>key</th>\n",
       "      <th>loudness</th>\n",
       "      <th>mode</th>\n",
       "      <th>speechiness</th>\n",
       "      <th>acousticness</th>\n",
       "      <th>instrumentalness</th>\n",
       "      <th>liveness</th>\n",
       "      <th>valence</th>\n",
       "      <th>tempo</th>\n",
       "    </tr>\n",
       "  </thead>\n",
       "  <tbody>\n",
       "    <tr>\n",
       "      <th>0</th>\n",
       "      <td>0.607923</td>\n",
       "      <td>0.499544</td>\n",
       "      <td>-1.103639</td>\n",
       "      <td>0.804364</td>\n",
       "      <td>-1.396676</td>\n",
       "      <td>-0.411186</td>\n",
       "      <td>-1.067508</td>\n",
       "      <td>-0.810434</td>\n",
       "      <td>-0.152548</td>\n",
       "      <td>-0.415202</td>\n",
       "      <td>0.869689</td>\n",
       "    </tr>\n",
       "    <tr>\n",
       "      <th>1</th>\n",
       "      <td>-0.974886</td>\n",
       "      <td>0.508562</td>\n",
       "      <td>-1.103639</td>\n",
       "      <td>0.893629</td>\n",
       "      <td>-1.396676</td>\n",
       "      <td>-0.179240</td>\n",
       "      <td>-0.777437</td>\n",
       "      <td>-0.810392</td>\n",
       "      <td>-0.000396</td>\n",
       "      <td>-1.013377</td>\n",
       "      <td>0.866932</td>\n",
       "    </tr>\n",
       "    <tr>\n",
       "      <th>2</th>\n",
       "      <td>0.875783</td>\n",
       "      <td>0.625801</td>\n",
       "      <td>1.450410</td>\n",
       "      <td>0.835752</td>\n",
       "      <td>0.715986</td>\n",
       "      <td>-0.608616</td>\n",
       "      <td>-1.002218</td>\n",
       "      <td>-0.810434</td>\n",
       "      <td>0.044354</td>\n",
       "      <td>1.216529</td>\n",
       "      <td>-0.506498</td>\n",
       "    </tr>\n",
       "    <tr>\n",
       "      <th>3</th>\n",
       "      <td>1.046240</td>\n",
       "      <td>0.250036</td>\n",
       "      <td>1.734194</td>\n",
       "      <td>0.772077</td>\n",
       "      <td>0.715986</td>\n",
       "      <td>-0.499546</td>\n",
       "      <td>-0.526877</td>\n",
       "      <td>-0.810434</td>\n",
       "      <td>-0.268899</td>\n",
       "      <td>0.985588</td>\n",
       "      <td>-0.341586</td>\n",
       "    </tr>\n",
       "    <tr>\n",
       "      <th>4</th>\n",
       "      <td>0.301102</td>\n",
       "      <td>0.875308</td>\n",
       "      <td>1.734194</td>\n",
       "      <td>0.959502</td>\n",
       "      <td>-1.396676</td>\n",
       "      <td>-0.397380</td>\n",
       "      <td>-0.753344</td>\n",
       "      <td>-0.810434</td>\n",
       "      <td>0.205456</td>\n",
       "      <td>0.436630</td>\n",
       "      <td>-1.114876</td>\n",
       "    </tr>\n",
       "  </tbody>\n",
       "</table>\n",
       "</div>"
      ],
      "text/plain": [
       "   danceability    energy       key  loudness      mode  speechiness  \\\n",
       "0      0.607923  0.499544 -1.103639  0.804364 -1.396676    -0.411186   \n",
       "1     -0.974886  0.508562 -1.103639  0.893629 -1.396676    -0.179240   \n",
       "2      0.875783  0.625801  1.450410  0.835752  0.715986    -0.608616   \n",
       "3      1.046240  0.250036  1.734194  0.772077  0.715986    -0.499546   \n",
       "4      0.301102  0.875308  1.734194  0.959502 -1.396676    -0.397380   \n",
       "\n",
       "   acousticness  instrumentalness  liveness   valence     tempo  \n",
       "0     -1.067508         -0.810434 -0.152548 -0.415202  0.869689  \n",
       "1     -0.777437         -0.810392 -0.000396 -1.013377  0.866932  \n",
       "2     -1.002218         -0.810434  0.044354  1.216529 -0.506498  \n",
       "3     -0.526877         -0.810434 -0.268899  0.985588 -0.341586  \n",
       "4     -0.753344         -0.810434  0.205456  0.436630 -1.114876  "
      ]
     },
     "execution_count": 107,
     "metadata": {},
     "output_type": "execute_result"
    }
   ],
   "source": [
    "#----After Scaling-----#\n",
    "\n",
    "x_scaled_df = pd.DataFrame(x_scaled, columns = x.columns)\n",
    "x_scaled_df.head() "
   ]
  },
  {
   "cell_type": "code",
   "execution_count": 108,
   "id": "2f411569",
   "metadata": {},
   "outputs": [
    {
     "data": {
      "image/png": "[encoded data removed]",
      "text/plain": [
       "<Figure size 936x1296 with 12 Axes>"
      ]
     },
     "metadata": {
      "needs_background": "light"
     },
     "output_type": "display_data"
    }
   ],
   "source": [
    "fig, ax = plt.subplots(4,3, figsize = (13,18))\n",
    "\n",
    "ax[0,0].set_title('danceability')\n",
    "ax[0,1].set_title('energy')\n",
    "ax[0,2].set_title('key')\n",
    "ax[1,0].set_title('loudness')\n",
    "ax[1,1].set_title('mode')\n",
    "ax[1,2].set_title('speechiness')\n",
    "ax[2,0].set_title('acousticness')\n",
    "ax[2,1].set_title('instrumentalness')\n",
    "ax[2,2].set_title('liveness')\n",
    "ax[3,0].set_title('valence')\n",
    "ax[3,1].set_title('tempo')\n",
    "\n",
    "\n",
    "ax[0,0].hist(x_scaled_df['danceability'], bins = 100)           #sns.distplot(dataframe)\n",
    "ax[0,1].hist(x_scaled_df['energy'], bins = 100)\n",
    "ax[0,2].hist(x_scaled_df['key'], bins = 100)\n",
    "ax[1,0].hist(x_scaled_df['loudness'], bins =100)\n",
    "ax[1,1].hist(x_scaled_df['mode'], bins =100)\n",
    "ax[1,2].hist(x_scaled_df['speechiness'], bins =100)\n",
    "ax[2,0].hist(x_scaled_df['acousticness'], bins =100)\n",
    "ax[2,1].hist(x_scaled_df['instrumentalness'], bins =100)\n",
    "ax[2,2].hist(x_scaled_df['liveness'], bins =100)\n",
    "ax[3,0].hist(x_scaled_df['valence'], bins =100)\n",
    "ax[3,1].hist(x_scaled_df['tempo'], bins =100)\n",
    "\n",
    "\n",
    "plt.show()"
   ]
  },
  {
   "cell_type": "code",
   "execution_count": 97,
   "id": "f773ec52",
   "metadata": {},
   "outputs": [],
   "source": []
  },
  {
   "cell_type": "code",
   "execution_count": 111,
   "id": "5a1cc644",
   "metadata": {},
   "outputs": [
    {
     "data": {
      "text/plain": [
       "KMeans(random_state=15)"
      ]
     },
     "execution_count": 111,
     "metadata": {},
     "output_type": "execute_result"
    }
   ],
   "source": [
    "#--------------K Means Clustering------------#\n",
    "\n",
    "kmeans = KMeans(n_clusters = 8, random_state = 15)\n",
    "kmeans.fit(x_scaled_df)"
   ]
  },
  {
   "cell_type": "code",
   "execution_count": 112,
   "id": "e847cd7f",
   "metadata": {},
   "outputs": [
    {
     "data": {
      "text/plain": [
       "array([1, 1, 3, ..., 7, 1, 7])"
      ]
     },
     "execution_count": 112,
     "metadata": {},
     "output_type": "execute_result"
    }
   ],
   "source": [
    "kmeans.labels_"
   ]
  },
  {
   "cell_type": "code",
   "execution_count": 114,
   "id": "21c2987a",
   "metadata": {},
   "outputs": [
    {
     "data": {
      "text/plain": [
       "6403.467794290443"
      ]
     },
     "execution_count": 114,
     "metadata": {},
     "output_type": "execute_result"
    }
   ],
   "source": [
    "kmeans.inertia_"
   ]
  },
  {
   "cell_type": "code",
   "execution_count": 115,
   "id": "c2337a6b",
   "metadata": {},
   "outputs": [
    {
     "data": {
      "text/plain": [
       "0    276\n",
       "1    298\n",
       "2    130\n",
       "3    262\n",
       "4    148\n",
       "5    115\n",
       "6    160\n",
       "7    287\n",
       "dtype: int64"
      ]
     },
     "execution_count": 115,
     "metadata": {},
     "output_type": "execute_result"
    }
   ],
   "source": [
    "#--------------Model prediction results on the training data------------#\n",
    "\n",
    "clusters = kmeans.predict(x_scaled_df)\n",
    "pd.Series(clusters).value_counts().sort_index()"
   ]
  },
  {
   "cell_type": "code",
   "execution_count": 116,
   "id": "abc5b696",
   "metadata": {},
   "outputs": [
    {
     "data": {
      "text/html": [
       "<div>\n",
       "<style scoped>\n",
       "    .dataframe tbody tr th:only-of-type {\n",
       "        vertical-align: middle;\n",
       "    }\n",
       "\n",
       "    .dataframe tbody tr th {\n",
       "        vertical-align: top;\n",
       "    }\n",
       "\n",
       "    .dataframe thead th {\n",
       "        text-align: right;\n",
       "    }\n",
       "</style>\n",
       "<table border=\"1\" class=\"dataframe\">\n",
       "  <thead>\n",
       "    <tr style=\"text-align: right;\">\n",
       "      <th></th>\n",
       "      <th>danceability</th>\n",
       "      <th>energy</th>\n",
       "      <th>key</th>\n",
       "      <th>loudness</th>\n",
       "      <th>speechiness</th>\n",
       "      <th>acousticness</th>\n",
       "      <th>instrumentalness</th>\n",
       "      <th>liveness</th>\n",
       "      <th>valence</th>\n",
       "      <th>tempo</th>\n",
       "      <th>cluster</th>\n",
       "    </tr>\n",
       "  </thead>\n",
       "  <tbody>\n",
       "    <tr>\n",
       "      <th>0</th>\n",
       "      <td>0.658</td>\n",
       "      <td>0.634</td>\n",
       "      <td>1</td>\n",
       "      <td>-5.797</td>\n",
       "      <td>0.0413</td>\n",
       "      <td>0.0106</td>\n",
       "      <td>0.000000</td>\n",
       "      <td>0.132</td>\n",
       "      <td>0.290</td>\n",
       "      <td>139.980</td>\n",
       "      <td>1</td>\n",
       "    </tr>\n",
       "    <tr>\n",
       "      <th>1</th>\n",
       "      <td>0.333</td>\n",
       "      <td>0.637</td>\n",
       "      <td>1</td>\n",
       "      <td>-4.904</td>\n",
       "      <td>0.0581</td>\n",
       "      <td>0.1310</td>\n",
       "      <td>0.000018</td>\n",
       "      <td>0.149</td>\n",
       "      <td>0.132</td>\n",
       "      <td>139.898</td>\n",
       "      <td>1</td>\n",
       "    </tr>\n",
       "    <tr>\n",
       "      <th>2</th>\n",
       "      <td>0.713</td>\n",
       "      <td>0.676</td>\n",
       "      <td>10</td>\n",
       "      <td>-5.483</td>\n",
       "      <td>0.0270</td>\n",
       "      <td>0.0377</td>\n",
       "      <td>0.000000</td>\n",
       "      <td>0.154</td>\n",
       "      <td>0.721</td>\n",
       "      <td>99.048</td>\n",
       "      <td>3</td>\n",
       "    </tr>\n",
       "    <tr>\n",
       "      <th>3</th>\n",
       "      <td>0.748</td>\n",
       "      <td>0.551</td>\n",
       "      <td>11</td>\n",
       "      <td>-6.120</td>\n",
       "      <td>0.0349</td>\n",
       "      <td>0.2350</td>\n",
       "      <td>0.000000</td>\n",
       "      <td>0.119</td>\n",
       "      <td>0.660</td>\n",
       "      <td>103.953</td>\n",
       "      <td>3</td>\n",
       "    </tr>\n",
       "    <tr>\n",
       "      <th>4</th>\n",
       "      <td>0.595</td>\n",
       "      <td>0.759</td>\n",
       "      <td>11</td>\n",
       "      <td>-4.245</td>\n",
       "      <td>0.0423</td>\n",
       "      <td>0.1410</td>\n",
       "      <td>0.000000</td>\n",
       "      <td>0.172</td>\n",
       "      <td>0.515</td>\n",
       "      <td>80.953</td>\n",
       "      <td>1</td>\n",
       "    </tr>\n",
       "  </tbody>\n",
       "</table>\n",
       "</div>"
      ],
      "text/plain": [
       "   danceability  energy  key  loudness  speechiness  acousticness  \\\n",
       "0         0.658   0.634    1    -5.797       0.0413        0.0106   \n",
       "1         0.333   0.637    1    -4.904       0.0581        0.1310   \n",
       "2         0.713   0.676   10    -5.483       0.0270        0.0377   \n",
       "3         0.748   0.551   11    -6.120       0.0349        0.2350   \n",
       "4         0.595   0.759   11    -4.245       0.0423        0.1410   \n",
       "\n",
       "   instrumentalness  liveness  valence    tempo  cluster  \n",
       "0          0.000000     0.132    0.290  139.980        1  \n",
       "1          0.000018     0.149    0.132  139.898        1  \n",
       "2          0.000000     0.154    0.721   99.048        3  \n",
       "3          0.000000     0.119    0.660  103.953        3  \n",
       "4          0.000000     0.172    0.515   80.953        1  "
      ]
     },
     "execution_count": 116,
     "metadata": {},
     "output_type": "execute_result"
    }
   ],
   "source": [
    "x['cluster'] = clusters\n",
    "x.head()"
   ]
  },
  {
   "cell_type": "code",
   "execution_count": 117,
   "id": "50b2506a",
   "metadata": {},
   "outputs": [
    {
     "name": "stdout",
     "output_type": "stream",
     "text": [
      "6403.6275707521945\n"
     ]
    }
   ],
   "source": [
    "kmeans2 = KMeans(n_clusters=8,\n",
    "                init=\"k-means++\",\n",
    "                n_init=50,  # try with 1, 4, 8, 20, 30, 100...\n",
    "                max_iter=10,\n",
    "                tol=0,\n",
    "                algorithm=\"elkan\",\n",
    "                random_state=1234)\n",
    "kmeans2.fit(x_scaled_df)\n",
    "print(kmeans2.inertia_)"
   ]
  },
  {
   "cell_type": "code",
   "execution_count": 84,
   "id": "78a45dd3",
   "metadata": {},
   "outputs": [
    {
     "name": "stdout",
     "output_type": "stream",
     "text": [
      "Training a K-Means model with 2 neighbours! \n",
      "\n",
      "Training a K-Means model with 3 neighbours! \n",
      "\n",
      "Training a K-Means model with 4 neighbours! \n",
      "\n",
      "Training a K-Means model with 5 neighbours! \n",
      "\n",
      "Training a K-Means model with 6 neighbours! \n",
      "\n",
      "Training a K-Means model with 7 neighbours! \n",
      "\n",
      "Training a K-Means model with 8 neighbours! \n",
      "\n",
      "Training a K-Means model with 9 neighbours! \n",
      "\n",
      "Training a K-Means model with 10 neighbours! \n",
      "\n",
      "Training a K-Means model with 11 neighbours! \n",
      "\n",
      "Training a K-Means model with 12 neighbours! \n",
      "\n",
      "Training a K-Means model with 13 neighbours! \n",
      "\n",
      "Training a K-Means model with 14 neighbours! \n",
      "\n",
      "Training a K-Means model with 15 neighbours! \n",
      "\n",
      "Training a K-Means model with 16 neighbours! \n",
      "\n",
      "Training a K-Means model with 17 neighbours! \n",
      "\n",
      "Training a K-Means model with 18 neighbours! \n",
      "\n",
      "Training a K-Means model with 19 neighbours! \n",
      "\n",
      "Training a K-Means model with 20 neighbours! \n",
      "\n"
     ]
    },
    {
     "data": {
      "text/plain": [
       "Text(0.5, 1.0, 'Elbow Method showing the optimal k')"
      ]
     },
     "execution_count": 84,
     "metadata": {},
     "output_type": "execute_result"
    },
    {
     "data": {
      "image/png": "[encoded data removed]",
      "text/plain": [
       "<Figure size 1152x576 with 1 Axes>"
      ]
     },
     "metadata": {
      "needs_background": "light"
     },
     "output_type": "display_data"
    }
   ],
   "source": [
    "K = range(2, 21)\n",
    "inertia = []\n",
    "\n",
    "for k in K:\n",
    "    print(\"Training a K-Means model with {} neighbours! \".format(k))\n",
    "    print()\n",
    "    kmeans = KMeans(n_clusters=k,\n",
    "                    random_state=1234)\n",
    "    kmeans.fit(x_scaled_df)\n",
    "    inertia.append(kmeans.inertia_)\n",
    "\n",
    "import numpy as np\n",
    "import matplotlib.pyplot as plt\n",
    "%matplotlib inline\n",
    "\n",
    "plt.figure(figsize=(16,8))\n",
    "plt.plot(K, inertia, 'bx-')\n",
    "plt.xlabel('k')\n",
    "plt.ylabel('inertia')\n",
    "plt.xticks(np.arange(min(K), max(K)+1, 1.0))\n",
    "plt.title('Elbow Method showing the optimal k')"
   ]
  },
  {
   "cell_type": "code",
   "execution_count": 90,
   "id": "1cc79d42",
   "metadata": {},
   "outputs": [
    {
     "data": {
      "text/plain": [
       "Text(0.5, 1.0, 'Silhouette Method showing the optimal k')"
      ]
     },
     "execution_count": 90,
     "metadata": {},
     "output_type": "execute_result"
    },
    {
     "data": {
      "image/png": "[encoded data removed]",
      "text/plain": [
       "<Figure size 1152x576 with 1 Axes>"
      ]
     },
     "metadata": {
      "needs_background": "light"
     },
     "output_type": "display_data"
    }
   ],
   "source": [
    "from sklearn.cluster import KMeans\n",
    "from sklearn.metrics import silhouette_score\n",
    "import pickle\n",
    "\n",
    "\n",
    "K = range(2, 20)\n",
    "silhouette = []\n",
    "\n",
    "for k in K:\n",
    "    kmeans = KMeans(n_clusters=k,\n",
    "                    random_state=1234)\n",
    "    kmeans.fit(x_scaled_df)\n",
    "    #filename = \"Model/kmeans_\" + str(k) + \".pickle\"\n",
    "    #with open(filename, \"wb\") as f:\n",
    "        #pickle.dump(kmeans,f)\n",
    "    silhouette.append(silhouette_score(x_scaled_df, kmeans.predict(x_scaled_df)))\n",
    "\n",
    "\n",
    "plt.figure(figsize=(16,8))\n",
    "plt.plot(K, silhouette, 'bx-')\n",
    "plt.xlabel('k')\n",
    "plt.ylabel('silhouette score')\n",
    "plt.xticks(np.arange(min(K), max(K)+1, 1.0))\n",
    "plt.title('Silhouette Method showing the optimal k')"
   ]
  },
  {
   "cell_type": "code",
   "execution_count": null,
   "id": "3634b84e",
   "metadata": {},
   "outputs": [],
   "source": [
    "\n",
    "import pickle\n",
    "\n",
    "#scaler = StandardScaler()\n",
    "#model = KMeans()\n",
    "\n",
    "with open(\"Model/scaler.pickle\", \"wb\") as f:\n",
    "    pickle.dump(scaler,f)\n",
    "\n",
    "with open(\"Model/kmeans_4.pickle\", \"wb\") as f:\n",
    "    pickle.dump(kmeans,f)"
   ]
  },
  {
   "cell_type": "code",
   "execution_count": null,
   "id": "9bd5310b",
   "metadata": {},
   "outputs": [],
   "source": [
    "def load(filename = \"filename.pickle\"): \n",
    "    try: \n",
    "        with open(filename, \"rb\") as f: \n",
    "            return pickle.load(f) \n",
    "    except FileNotFoundError: \n",
    "        print(\"File not found!\")\n",
    "\n"
   ]
  },
  {
   "cell_type": "code",
   "execution_count": null,
   "id": "370cbb61",
   "metadata": {},
   "outputs": [],
   "source": [
    "scaler2 = load(\"Model/scaler.pickle\")\n",
    "scaler2"
   ]
  }
 ],
 "metadata": {
  "kernelspec": {
   "display_name": "Python 3",
   "language": "python",
   "name": "python3"
  },
  "language_info": {
   "codemirror_mode": {
    "name": "ipython",
    "version": 3
   },
   "file_extension": ".py",
   "mimetype": "text/x-python",
   "name": "python",
   "nbconvert_exporter": "python",
   "pygments_lexer": "ipython3",
   "version": "3.8.8"
  }
 },
 "nbformat": 4,
 "nbformat_minor": 5
}
