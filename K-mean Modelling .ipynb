{
 "cells": [
  {
   "cell_type": "code",
   "execution_count": 269,
   "id": "887d214c",
   "metadata": {},
   "outputs": [],
   "source": [
    "from sklearn import datasets\n",
    "from sklearn.preprocessing import StandardScaler\n",
    "from sklearn.cluster import KMeans\n",
    "from sklearn.metrics import silhouette_score\n",
    "\n",
    "import pandas as pd\n",
    "import numpy as np\n",
    "import matplotlib.pyplot as plt\n",
    "import seaborn as sns\n",
    "import pickle"
   ]
  },
  {
   "cell_type": "code",
   "execution_count": 29,
   "id": "485ac0e2",
   "metadata": {},
   "outputs": [],
   "source": [
    "#--------------scrapped songs from spotify with their audio features-------------#\n",
    "\n",
    "audio1_df = pd.read_csv('audio_features_album.csv')\n",
    "audio2_df = pd.read_csv('audio_features_album2.csv')\n",
    "audio3_df = pd.read_csv('audio_features_album3.csv')\n",
    "audio4_df = pd.read_csv('audio_features_album4.csv')\n",
    "audio5_df = pd.read_csv('audio_features_album5.csv')\n",
    "audio6_df = pd.read_csv('audio_features_album6.csv')\n",
    "audio7_df = pd.read_csv('audio_features_album7.csv')\n",
    "audio8_df = pd.read_csv('audio_features_album8.csv')\n",
    "audio9_df = pd.read_csv('audio_features_album9.csv')"
   ]
  },
  {
   "cell_type": "code",
   "execution_count": 251,
   "id": "31a20a3b",
   "metadata": {},
   "outputs": [
    {
     "data": {
      "text/html": [
       "<div>\n",
       "<style scoped>\n",
       "    .dataframe tbody tr th:only-of-type {\n",
       "        vertical-align: middle;\n",
       "    }\n",
       "\n",
       "    .dataframe tbody tr th {\n",
       "        vertical-align: top;\n",
       "    }\n",
       "\n",
       "    .dataframe thead th {\n",
       "        text-align: right;\n",
       "    }\n",
       "</style>\n",
       "<table border=\"1\" class=\"dataframe\">\n",
       "  <thead>\n",
       "    <tr style=\"text-align: right;\">\n",
       "      <th></th>\n",
       "      <th>danceability</th>\n",
       "      <th>energy</th>\n",
       "      <th>key</th>\n",
       "      <th>loudness</th>\n",
       "      <th>mode</th>\n",
       "      <th>speechiness</th>\n",
       "      <th>acousticness</th>\n",
       "      <th>instrumentalness</th>\n",
       "      <th>liveness</th>\n",
       "      <th>valence</th>\n",
       "      <th>tempo</th>\n",
       "      <th>type</th>\n",
       "      <th>id</th>\n",
       "      <th>uri</th>\n",
       "      <th>track_href</th>\n",
       "      <th>analysis_url</th>\n",
       "      <th>duration_ms</th>\n",
       "      <th>time_signature</th>\n",
       "      <th>artist</th>\n",
       "      <th>song_name</th>\n",
       "    </tr>\n",
       "  </thead>\n",
       "  <tbody>\n",
       "    <tr>\n",
       "      <th>2051</th>\n",
       "      <td>0.877</td>\n",
       "      <td>0.854</td>\n",
       "      <td>1</td>\n",
       "      <td>-4.523</td>\n",
       "      <td>1</td>\n",
       "      <td>0.147</td>\n",
       "      <td>0.0544</td>\n",
       "      <td>0.000055</td>\n",
       "      <td>0.144</td>\n",
       "      <td>0.54</td>\n",
       "      <td>114.472</td>\n",
       "      <td>audio_features</td>\n",
       "      <td>0sKlV58cODrjxGFOyf9IXY</td>\n",
       "      <td>spotify:track:0sKlV58cODrjxGFOyf9IXY</td>\n",
       "      <td>https://api.spotify.com/v1/tracks/0sKlV58cODrj...</td>\n",
       "      <td>https://api.spotify.com/v1/audio-analysis/0sKl...</td>\n",
       "      <td>298120</td>\n",
       "      <td>4</td>\n",
       "      <td>Michael Jackson</td>\n",
       "      <td>The Way You Make Me Feel - 2012 Remaster</td>\n",
       "    </tr>\n",
       "  </tbody>\n",
       "</table>\n",
       "</div>"
      ],
      "text/plain": [
       "      danceability  energy  key  loudness  mode  speechiness  acousticness  \\\n",
       "2051         0.877   0.854    1    -4.523     1        0.147        0.0544   \n",
       "\n",
       "      instrumentalness  liveness  valence    tempo            type  \\\n",
       "2051          0.000055     0.144     0.54  114.472  audio_features   \n",
       "\n",
       "                          id                                   uri  \\\n",
       "2051  0sKlV58cODrjxGFOyf9IXY  spotify:track:0sKlV58cODrjxGFOyf9IXY   \n",
       "\n",
       "                                             track_href  \\\n",
       "2051  https://api.spotify.com/v1/tracks/0sKlV58cODrj...   \n",
       "\n",
       "                                           analysis_url  duration_ms  \\\n",
       "2051  https://api.spotify.com/v1/audio-analysis/0sKl...       298120   \n",
       "\n",
       "      time_signature           artist  \\\n",
       "2051               4  Michael Jackson   \n",
       "\n",
       "                                     song_name  \n",
       "2051  The Way You Make Me Feel - 2012 Remaster  "
      ]
     },
     "execution_count": 251,
     "metadata": {},
     "output_type": "execute_result"
    }
   ],
   "source": [
    "#--------concatination of the all audio files----------#\n",
    "\n",
    "df = pd.concat([audio1_df,audio2_df,audio3_df,audio4_df,audio5_df,audio6_df,audio7_df,audio8_df,audio9_df],ignore_index = True)\n",
    "df.tail(1) "
   ]
  },
  {
   "cell_type": "code",
   "execution_count": 252,
   "id": "b0b20d1c",
   "metadata": {},
   "outputs": [],
   "source": [
    "#-----------removing the duplicates------#  \n",
    "\n",
    "df = df.drop_duplicates().reset_index()"
   ]
  },
  {
   "cell_type": "code",
   "execution_count": 253,
   "id": "5005b222",
   "metadata": {},
   "outputs": [
    {
     "data": {
      "text/html": [
       "<div>\n",
       "<style scoped>\n",
       "    .dataframe tbody tr th:only-of-type {\n",
       "        vertical-align: middle;\n",
       "    }\n",
       "\n",
       "    .dataframe tbody tr th {\n",
       "        vertical-align: top;\n",
       "    }\n",
       "\n",
       "    .dataframe thead th {\n",
       "        text-align: right;\n",
       "    }\n",
       "</style>\n",
       "<table border=\"1\" class=\"dataframe\">\n",
       "  <thead>\n",
       "    <tr style=\"text-align: right;\">\n",
       "      <th></th>\n",
       "      <th>index</th>\n",
       "      <th>danceability</th>\n",
       "      <th>energy</th>\n",
       "      <th>key</th>\n",
       "      <th>loudness</th>\n",
       "      <th>mode</th>\n",
       "      <th>speechiness</th>\n",
       "      <th>acousticness</th>\n",
       "      <th>instrumentalness</th>\n",
       "      <th>liveness</th>\n",
       "      <th>...</th>\n",
       "      <th>tempo</th>\n",
       "      <th>type</th>\n",
       "      <th>id</th>\n",
       "      <th>uri</th>\n",
       "      <th>track_href</th>\n",
       "      <th>analysis_url</th>\n",
       "      <th>duration_ms</th>\n",
       "      <th>time_signature</th>\n",
       "      <th>artist</th>\n",
       "      <th>song_name</th>\n",
       "    </tr>\n",
       "  </thead>\n",
       "  <tbody>\n",
       "    <tr>\n",
       "      <th>1675</th>\n",
       "      <td>2051</td>\n",
       "      <td>0.877</td>\n",
       "      <td>0.854</td>\n",
       "      <td>1</td>\n",
       "      <td>-4.523</td>\n",
       "      <td>1</td>\n",
       "      <td>0.147</td>\n",
       "      <td>0.0544</td>\n",
       "      <td>0.000055</td>\n",
       "      <td>0.144</td>\n",
       "      <td>...</td>\n",
       "      <td>114.472</td>\n",
       "      <td>audio_features</td>\n",
       "      <td>0sKlV58cODrjxGFOyf9IXY</td>\n",
       "      <td>spotify:track:0sKlV58cODrjxGFOyf9IXY</td>\n",
       "      <td>https://api.spotify.com/v1/tracks/0sKlV58cODrj...</td>\n",
       "      <td>https://api.spotify.com/v1/audio-analysis/0sKl...</td>\n",
       "      <td>298120</td>\n",
       "      <td>4</td>\n",
       "      <td>Michael Jackson</td>\n",
       "      <td>The Way You Make Me Feel - 2012 Remaster</td>\n",
       "    </tr>\n",
       "  </tbody>\n",
       "</table>\n",
       "<p>1 rows × 21 columns</p>\n",
       "</div>"
      ],
      "text/plain": [
       "      index  danceability  energy  key  loudness  mode  speechiness  \\\n",
       "1675   2051         0.877   0.854    1    -4.523     1        0.147   \n",
       "\n",
       "      acousticness  instrumentalness  liveness  ...    tempo            type  \\\n",
       "1675        0.0544          0.000055     0.144  ...  114.472  audio_features   \n",
       "\n",
       "                          id                                   uri  \\\n",
       "1675  0sKlV58cODrjxGFOyf9IXY  spotify:track:0sKlV58cODrjxGFOyf9IXY   \n",
       "\n",
       "                                             track_href  \\\n",
       "1675  https://api.spotify.com/v1/tracks/0sKlV58cODrj...   \n",
       "\n",
       "                                           analysis_url duration_ms  \\\n",
       "1675  https://api.spotify.com/v1/audio-analysis/0sKl...      298120   \n",
       "\n",
       "      time_signature           artist  \\\n",
       "1675               4  Michael Jackson   \n",
       "\n",
       "                                     song_name  \n",
       "1675  The Way You Make Me Feel - 2012 Remaster  \n",
       "\n",
       "[1 rows x 21 columns]"
      ]
     },
     "execution_count": 253,
     "metadata": {},
     "output_type": "execute_result"
    }
   ],
   "source": [
    "df.tail(1)"
   ]
  },
  {
   "cell_type": "code",
   "execution_count": 254,
   "id": "6d6678a0",
   "metadata": {},
   "outputs": [],
   "source": [
    "#---------------droping columns prior to modelling-------------#\n",
    "\n",
    "x = df.drop(['time_signature','index','type', 'id', 'uri', 'track_href', 'analysis_url', 'artist', 'song_name'], axis = 1)"
   ]
  },
  {
   "cell_type": "code",
   "execution_count": 255,
   "id": "18a2305e",
   "metadata": {},
   "outputs": [],
   "source": [
    "#---------------standardization of the features (z-score)-------------#\n",
    "\n",
    "scaler = StandardScaler()\n",
    "x_scaled = scaler.fit_transform(x)"
   ]
  },
  {
   "cell_type": "code",
   "execution_count": 256,
   "id": "bc07026f",
   "metadata": {},
   "outputs": [
    {
     "data": {
      "text/html": [
       "<div>\n",
       "<style scoped>\n",
       "    .dataframe tbody tr th:only-of-type {\n",
       "        vertical-align: middle;\n",
       "    }\n",
       "\n",
       "    .dataframe tbody tr th {\n",
       "        vertical-align: top;\n",
       "    }\n",
       "\n",
       "    .dataframe thead th {\n",
       "        text-align: right;\n",
       "    }\n",
       "</style>\n",
       "<table border=\"1\" class=\"dataframe\">\n",
       "  <thead>\n",
       "    <tr style=\"text-align: right;\">\n",
       "      <th></th>\n",
       "      <th>danceability</th>\n",
       "      <th>energy</th>\n",
       "      <th>key</th>\n",
       "      <th>loudness</th>\n",
       "      <th>mode</th>\n",
       "      <th>speechiness</th>\n",
       "      <th>acousticness</th>\n",
       "      <th>instrumentalness</th>\n",
       "      <th>liveness</th>\n",
       "      <th>valence</th>\n",
       "      <th>tempo</th>\n",
       "      <th>duration_ms</th>\n",
       "    </tr>\n",
       "  </thead>\n",
       "  <tbody>\n",
       "    <tr>\n",
       "      <th>0</th>\n",
       "      <td>0.658</td>\n",
       "      <td>0.634</td>\n",
       "      <td>1</td>\n",
       "      <td>-5.797</td>\n",
       "      <td>0</td>\n",
       "      <td>0.0413</td>\n",
       "      <td>0.0106</td>\n",
       "      <td>0.000000</td>\n",
       "      <td>0.132</td>\n",
       "      <td>0.290</td>\n",
       "      <td>139.980</td>\n",
       "      <td>170813</td>\n",
       "    </tr>\n",
       "    <tr>\n",
       "      <th>1</th>\n",
       "      <td>0.333</td>\n",
       "      <td>0.637</td>\n",
       "      <td>1</td>\n",
       "      <td>-4.904</td>\n",
       "      <td>0</td>\n",
       "      <td>0.0581</td>\n",
       "      <td>0.1310</td>\n",
       "      <td>0.000018</td>\n",
       "      <td>0.149</td>\n",
       "      <td>0.132</td>\n",
       "      <td>139.898</td>\n",
       "      <td>172693</td>\n",
       "    </tr>\n",
       "    <tr>\n",
       "      <th>2</th>\n",
       "      <td>0.713</td>\n",
       "      <td>0.676</td>\n",
       "      <td>10</td>\n",
       "      <td>-5.483</td>\n",
       "      <td>1</td>\n",
       "      <td>0.0270</td>\n",
       "      <td>0.0377</td>\n",
       "      <td>0.000000</td>\n",
       "      <td>0.154</td>\n",
       "      <td>0.721</td>\n",
       "      <td>99.048</td>\n",
       "      <td>227395</td>\n",
       "    </tr>\n",
       "    <tr>\n",
       "      <th>3</th>\n",
       "      <td>0.748</td>\n",
       "      <td>0.551</td>\n",
       "      <td>11</td>\n",
       "      <td>-6.120</td>\n",
       "      <td>1</td>\n",
       "      <td>0.0349</td>\n",
       "      <td>0.2350</td>\n",
       "      <td>0.000000</td>\n",
       "      <td>0.119</td>\n",
       "      <td>0.660</td>\n",
       "      <td>103.953</td>\n",
       "      <td>144533</td>\n",
       "    </tr>\n",
       "    <tr>\n",
       "      <th>4</th>\n",
       "      <td>0.595</td>\n",
       "      <td>0.759</td>\n",
       "      <td>11</td>\n",
       "      <td>-4.245</td>\n",
       "      <td>0</td>\n",
       "      <td>0.0423</td>\n",
       "      <td>0.1410</td>\n",
       "      <td>0.000000</td>\n",
       "      <td>0.172</td>\n",
       "      <td>0.515</td>\n",
       "      <td>80.953</td>\n",
       "      <td>163733</td>\n",
       "    </tr>\n",
       "  </tbody>\n",
       "</table>\n",
       "</div>"
      ],
      "text/plain": [
       "   danceability  energy  key  loudness  mode  speechiness  acousticness  \\\n",
       "0         0.658   0.634    1    -5.797     0       0.0413        0.0106   \n",
       "1         0.333   0.637    1    -4.904     0       0.0581        0.1310   \n",
       "2         0.713   0.676   10    -5.483     1       0.0270        0.0377   \n",
       "3         0.748   0.551   11    -6.120     1       0.0349        0.2350   \n",
       "4         0.595   0.759   11    -4.245     0       0.0423        0.1410   \n",
       "\n",
       "   instrumentalness  liveness  valence    tempo  duration_ms  \n",
       "0          0.000000     0.132    0.290  139.980       170813  \n",
       "1          0.000018     0.149    0.132  139.898       172693  \n",
       "2          0.000000     0.154    0.721   99.048       227395  \n",
       "3          0.000000     0.119    0.660  103.953       144533  \n",
       "4          0.000000     0.172    0.515   80.953       163733  "
      ]
     },
     "execution_count": 256,
     "metadata": {},
     "output_type": "execute_result"
    }
   ],
   "source": [
    "#----Before Scaling-----#\n",
    "\n",
    "x.head()"
   ]
  },
  {
   "cell_type": "code",
   "execution_count": 257,
   "id": "02274b57",
   "metadata": {},
   "outputs": [
    {
     "data": {
      "text/html": [
       "<div>\n",
       "<style scoped>\n",
       "    .dataframe tbody tr th:only-of-type {\n",
       "        vertical-align: middle;\n",
       "    }\n",
       "\n",
       "    .dataframe tbody tr th {\n",
       "        vertical-align: top;\n",
       "    }\n",
       "\n",
       "    .dataframe thead th {\n",
       "        text-align: right;\n",
       "    }\n",
       "</style>\n",
       "<table border=\"1\" class=\"dataframe\">\n",
       "  <thead>\n",
       "    <tr style=\"text-align: right;\">\n",
       "      <th></th>\n",
       "      <th>danceability</th>\n",
       "      <th>energy</th>\n",
       "      <th>key</th>\n",
       "      <th>loudness</th>\n",
       "      <th>mode</th>\n",
       "      <th>speechiness</th>\n",
       "      <th>acousticness</th>\n",
       "      <th>instrumentalness</th>\n",
       "      <th>liveness</th>\n",
       "      <th>valence</th>\n",
       "      <th>tempo</th>\n",
       "      <th>duration_ms</th>\n",
       "    </tr>\n",
       "  </thead>\n",
       "  <tbody>\n",
       "    <tr>\n",
       "      <th>0</th>\n",
       "      <td>0.607923</td>\n",
       "      <td>0.499544</td>\n",
       "      <td>-1.103639</td>\n",
       "      <td>0.804364</td>\n",
       "      <td>-1.396676</td>\n",
       "      <td>-0.411186</td>\n",
       "      <td>-1.067508</td>\n",
       "      <td>-0.810434</td>\n",
       "      <td>-0.152548</td>\n",
       "      <td>-0.415202</td>\n",
       "      <td>0.869689</td>\n",
       "      <td>-0.441422</td>\n",
       "    </tr>\n",
       "    <tr>\n",
       "      <th>1</th>\n",
       "      <td>-0.974886</td>\n",
       "      <td>0.508562</td>\n",
       "      <td>-1.103639</td>\n",
       "      <td>0.893629</td>\n",
       "      <td>-1.396676</td>\n",
       "      <td>-0.179240</td>\n",
       "      <td>-0.777437</td>\n",
       "      <td>-0.810392</td>\n",
       "      <td>-0.000396</td>\n",
       "      <td>-1.013377</td>\n",
       "      <td>0.866932</td>\n",
       "      <td>-0.409787</td>\n",
       "    </tr>\n",
       "    <tr>\n",
       "      <th>2</th>\n",
       "      <td>0.875783</td>\n",
       "      <td>0.625801</td>\n",
       "      <td>1.450410</td>\n",
       "      <td>0.835752</td>\n",
       "      <td>0.715986</td>\n",
       "      <td>-0.608616</td>\n",
       "      <td>-1.002218</td>\n",
       "      <td>-0.810434</td>\n",
       "      <td>0.044354</td>\n",
       "      <td>1.216529</td>\n",
       "      <td>-0.506498</td>\n",
       "      <td>0.510701</td>\n",
       "    </tr>\n",
       "    <tr>\n",
       "      <th>3</th>\n",
       "      <td>1.046240</td>\n",
       "      <td>0.250036</td>\n",
       "      <td>1.734194</td>\n",
       "      <td>0.772077</td>\n",
       "      <td>0.715986</td>\n",
       "      <td>-0.499546</td>\n",
       "      <td>-0.526877</td>\n",
       "      <td>-0.810434</td>\n",
       "      <td>-0.268899</td>\n",
       "      <td>0.985588</td>\n",
       "      <td>-0.341586</td>\n",
       "      <td>-0.883644</td>\n",
       "    </tr>\n",
       "    <tr>\n",
       "      <th>4</th>\n",
       "      <td>0.301102</td>\n",
       "      <td>0.875308</td>\n",
       "      <td>1.734194</td>\n",
       "      <td>0.959502</td>\n",
       "      <td>-1.396676</td>\n",
       "      <td>-0.397380</td>\n",
       "      <td>-0.753344</td>\n",
       "      <td>-0.810434</td>\n",
       "      <td>0.205456</td>\n",
       "      <td>0.436630</td>\n",
       "      <td>-1.114876</td>\n",
       "      <td>-0.560559</td>\n",
       "    </tr>\n",
       "  </tbody>\n",
       "</table>\n",
       "</div>"
      ],
      "text/plain": [
       "   danceability    energy       key  loudness      mode  speechiness  \\\n",
       "0      0.607923  0.499544 -1.103639  0.804364 -1.396676    -0.411186   \n",
       "1     -0.974886  0.508562 -1.103639  0.893629 -1.396676    -0.179240   \n",
       "2      0.875783  0.625801  1.450410  0.835752  0.715986    -0.608616   \n",
       "3      1.046240  0.250036  1.734194  0.772077  0.715986    -0.499546   \n",
       "4      0.301102  0.875308  1.734194  0.959502 -1.396676    -0.397380   \n",
       "\n",
       "   acousticness  instrumentalness  liveness   valence     tempo  duration_ms  \n",
       "0     -1.067508         -0.810434 -0.152548 -0.415202  0.869689    -0.441422  \n",
       "1     -0.777437         -0.810392 -0.000396 -1.013377  0.866932    -0.409787  \n",
       "2     -1.002218         -0.810434  0.044354  1.216529 -0.506498     0.510701  \n",
       "3     -0.526877         -0.810434 -0.268899  0.985588 -0.341586    -0.883644  \n",
       "4     -0.753344         -0.810434  0.205456  0.436630 -1.114876    -0.560559  "
      ]
     },
     "execution_count": 257,
     "metadata": {},
     "output_type": "execute_result"
    }
   ],
   "source": [
    "#----After Scaling-----#\n",
    "\n",
    "x_scaled_df = pd.DataFrame(x_scaled, columns = x.columns)\n",
    "x_scaled_df.head() "
   ]
  },
  {
   "cell_type": "code",
   "execution_count": 258,
   "id": "de6a9724",
   "metadata": {},
   "outputs": [
    {
     "data": {
      "text/plain": [
       "1676"
      ]
     },
     "execution_count": 258,
     "metadata": {},
     "output_type": "execute_result"
    }
   ],
   "source": [
    "len(x_scaled_df)"
   ]
  },
  {
   "cell_type": "code",
   "execution_count": 247,
   "id": "5d71996c",
   "metadata": {},
   "outputs": [
    {
     "data": {
      "text/plain": [
       "<AxesSubplot:>"
      ]
     },
     "execution_count": 247,
     "metadata": {},
     "output_type": "execute_result"
    },
    {
     "data": {
      "image/png": "[encoded data removed]",
      "text/plain": [
       "<Figure size 864x720 with 2 Axes>"
      ]
     },
     "metadata": {
      "needs_background": "light"
     },
     "output_type": "display_data"
    }
   ],
   "source": [
    "#-------------correlation--------------#\n",
    "\n",
    "fig, ax = plt.subplots(figsize = (12,10))\n",
    "sns.heatmap(round(x_scaled_df.corr(),2), annot = True, cmap=\"seismic\", center = 0)\n"
   ]
  },
  {
   "cell_type": "markdown",
   "id": "d735fd25",
   "metadata": {},
   "source": [
    "Choice of features based on the correlation: \n",
    " \n",
    "**danceability, key, speechiness, accousticness, tempo, duration_ms**  \n",
    " \n",
    "Not taken into account:\n",
    "   'energy':  high correlation (> 90%) with acousticness and loudness.\n",
    "   'loudness': high correlation (88%) with acousticness\n",
    "   'mode'\n",
    "   'instrumentalness': high correlation (88%) with acousticness and (69%) with danceability .\n",
    "   \n",
    " "
   ]
  },
  {
   "cell_type": "code",
   "execution_count": 249,
   "id": "525b1eac",
   "metadata": {},
   "outputs": [
    {
     "data": {
      "image/png": "[encoded data removed]",
      "text/plain": [
       "<Figure size 936x1296 with 12 Axes>"
      ]
     },
     "metadata": {
      "needs_background": "light"
     },
     "output_type": "display_data"
    }
   ],
   "source": [
    "fig, ax = plt.subplots(4,3, figsize = (13,18))\n",
    "\n",
    "ax[0,0].set_title('danceability')\n",
    "ax[0,1].set_title('energy')\n",
    "ax[0,2].set_title('key')\n",
    "ax[1,0].set_title('loudness')\n",
    "ax[1,1].set_title('mode')\n",
    "ax[1,2].set_title('speechiness')\n",
    "ax[2,0].set_title('acousticness')\n",
    "ax[2,1].set_title('instrumentalness')\n",
    "ax[2,2].set_title('liveness')\n",
    "ax[3,0].set_title('valence')\n",
    "ax[3,1].set_title('tempo')\n",
    "ax[3,2].set_title('duration')\n",
    "\n",
    "\n",
    "ax[0,0].hist(x_scaled_df['danceability'], bins = 100)           #sns.distplot(dataframe)\n",
    "ax[0,1].hist(x_scaled_df['energy'], bins = 100)\n",
    "ax[0,2].hist(x_scaled_df['key'], bins = 100)\n",
    "ax[1,0].hist(x_scaled_df['loudness'], bins =100)\n",
    "ax[1,1].hist(x_scaled_df['mode'], bins =100)\n",
    "ax[1,2].hist(x_scaled_df['speechiness'], bins =100)\n",
    "ax[2,0].hist(x_scaled_df['acousticness'], bins =100)\n",
    "ax[2,1].hist(x_scaled_df['instrumentalness'], bins =100)\n",
    "ax[2,2].hist(x_scaled_df['liveness'], bins =100)\n",
    "ax[3,0].hist(x_scaled_df['valence'], bins =100)\n",
    "ax[3,1].hist(x_scaled_df['tempo'], bins =100)\n",
    "ax[3,2].hist(df['duration_ms'], bins =100)\n",
    "\n",
    "\n",
    "plt.show()"
   ]
  },
  {
   "cell_type": "code",
   "execution_count": 259,
   "id": "22cd69a0",
   "metadata": {},
   "outputs": [
    {
     "data": {
      "text/html": [
       "<div>\n",
       "<style scoped>\n",
       "    .dataframe tbody tr th:only-of-type {\n",
       "        vertical-align: middle;\n",
       "    }\n",
       "\n",
       "    .dataframe tbody tr th {\n",
       "        vertical-align: top;\n",
       "    }\n",
       "\n",
       "    .dataframe thead th {\n",
       "        text-align: right;\n",
       "    }\n",
       "</style>\n",
       "<table border=\"1\" class=\"dataframe\">\n",
       "  <thead>\n",
       "    <tr style=\"text-align: right;\">\n",
       "      <th></th>\n",
       "      <th>danceability</th>\n",
       "      <th>key</th>\n",
       "      <th>speechiness</th>\n",
       "      <th>acousticness</th>\n",
       "      <th>valence</th>\n",
       "      <th>tempo</th>\n",
       "      <th>duration_ms</th>\n",
       "    </tr>\n",
       "  </thead>\n",
       "  <tbody>\n",
       "    <tr>\n",
       "      <th>0</th>\n",
       "      <td>0.607923</td>\n",
       "      <td>-1.103639</td>\n",
       "      <td>-0.411186</td>\n",
       "      <td>-1.067508</td>\n",
       "      <td>-0.415202</td>\n",
       "      <td>0.869689</td>\n",
       "      <td>-0.441422</td>\n",
       "    </tr>\n",
       "    <tr>\n",
       "      <th>1</th>\n",
       "      <td>-0.974886</td>\n",
       "      <td>-1.103639</td>\n",
       "      <td>-0.179240</td>\n",
       "      <td>-0.777437</td>\n",
       "      <td>-1.013377</td>\n",
       "      <td>0.866932</td>\n",
       "      <td>-0.409787</td>\n",
       "    </tr>\n",
       "    <tr>\n",
       "      <th>2</th>\n",
       "      <td>0.875783</td>\n",
       "      <td>1.450410</td>\n",
       "      <td>-0.608616</td>\n",
       "      <td>-1.002218</td>\n",
       "      <td>1.216529</td>\n",
       "      <td>-0.506498</td>\n",
       "      <td>0.510701</td>\n",
       "    </tr>\n",
       "    <tr>\n",
       "      <th>3</th>\n",
       "      <td>1.046240</td>\n",
       "      <td>1.734194</td>\n",
       "      <td>-0.499546</td>\n",
       "      <td>-0.526877</td>\n",
       "      <td>0.985588</td>\n",
       "      <td>-0.341586</td>\n",
       "      <td>-0.883644</td>\n",
       "    </tr>\n",
       "    <tr>\n",
       "      <th>4</th>\n",
       "      <td>0.301102</td>\n",
       "      <td>1.734194</td>\n",
       "      <td>-0.397380</td>\n",
       "      <td>-0.753344</td>\n",
       "      <td>0.436630</td>\n",
       "      <td>-1.114876</td>\n",
       "      <td>-0.560559</td>\n",
       "    </tr>\n",
       "    <tr>\n",
       "      <th>...</th>\n",
       "      <td>...</td>\n",
       "      <td>...</td>\n",
       "      <td>...</td>\n",
       "      <td>...</td>\n",
       "      <td>...</td>\n",
       "      <td>...</td>\n",
       "      <td>...</td>\n",
       "    </tr>\n",
       "    <tr>\n",
       "      <th>1671</th>\n",
       "      <td>1.713455</td>\n",
       "      <td>-1.103639</td>\n",
       "      <td>-0.257936</td>\n",
       "      <td>-0.743707</td>\n",
       "      <td>1.916924</td>\n",
       "      <td>0.252806</td>\n",
       "      <td>1.713382</td>\n",
       "    </tr>\n",
       "    <tr>\n",
       "      <th>1672</th>\n",
       "      <td>1.294619</td>\n",
       "      <td>-0.819856</td>\n",
       "      <td>-0.144725</td>\n",
       "      <td>-0.983908</td>\n",
       "      <td>0.447988</td>\n",
       "      <td>0.880751</td>\n",
       "      <td>0.767688</td>\n",
       "    </tr>\n",
       "    <tr>\n",
       "      <th>1673</th>\n",
       "      <td>0.028371</td>\n",
       "      <td>-1.387423</td>\n",
       "      <td>-0.329729</td>\n",
       "      <td>-0.269089</td>\n",
       "      <td>0.800078</td>\n",
       "      <td>-0.057620</td>\n",
       "      <td>1.401959</td>\n",
       "    </tr>\n",
       "    <tr>\n",
       "      <th>1674</th>\n",
       "      <td>-0.736247</td>\n",
       "      <td>1.166627</td>\n",
       "      <td>-0.612758</td>\n",
       "      <td>-0.981017</td>\n",
       "      <td>-0.244836</td>\n",
       "      <td>0.872345</td>\n",
       "      <td>0.779349</td>\n",
       "    </tr>\n",
       "    <tr>\n",
       "      <th>1675</th>\n",
       "      <td>1.674493</td>\n",
       "      <td>-1.103639</td>\n",
       "      <td>1.048139</td>\n",
       "      <td>-0.961984</td>\n",
       "      <td>0.531278</td>\n",
       "      <td>0.012077</td>\n",
       "      <td>1.700812</td>\n",
       "    </tr>\n",
       "  </tbody>\n",
       "</table>\n",
       "<p>1676 rows × 7 columns</p>\n",
       "</div>"
      ],
      "text/plain": [
       "      danceability       key  speechiness  acousticness   valence     tempo  \\\n",
       "0         0.607923 -1.103639    -0.411186     -1.067508 -0.415202  0.869689   \n",
       "1        -0.974886 -1.103639    -0.179240     -0.777437 -1.013377  0.866932   \n",
       "2         0.875783  1.450410    -0.608616     -1.002218  1.216529 -0.506498   \n",
       "3         1.046240  1.734194    -0.499546     -0.526877  0.985588 -0.341586   \n",
       "4         0.301102  1.734194    -0.397380     -0.753344  0.436630 -1.114876   \n",
       "...            ...       ...          ...           ...       ...       ...   \n",
       "1671      1.713455 -1.103639    -0.257936     -0.743707  1.916924  0.252806   \n",
       "1672      1.294619 -0.819856    -0.144725     -0.983908  0.447988  0.880751   \n",
       "1673      0.028371 -1.387423    -0.329729     -0.269089  0.800078 -0.057620   \n",
       "1674     -0.736247  1.166627    -0.612758     -0.981017 -0.244836  0.872345   \n",
       "1675      1.674493 -1.103639     1.048139     -0.961984  0.531278  0.012077   \n",
       "\n",
       "      duration_ms  \n",
       "0       -0.441422  \n",
       "1       -0.409787  \n",
       "2        0.510701  \n",
       "3       -0.883644  \n",
       "4       -0.560559  \n",
       "...           ...  \n",
       "1671     1.713382  \n",
       "1672     0.767688  \n",
       "1673     1.401959  \n",
       "1674     0.779349  \n",
       "1675     1.700812  \n",
       "\n",
       "[1676 rows x 7 columns]"
      ]
     },
     "execution_count": 259,
     "metadata": {},
     "output_type": "execute_result"
    }
   ],
   "source": [
    "x_scaled_df = x_scaled_df.drop(['mode', 'loudness', 'energy', 'instrumentalness', 'liveness'], axis = 1)\n",
    "x_scaled_df"
   ]
  },
  {
   "cell_type": "code",
   "execution_count": 230,
   "id": "fccf8189",
   "metadata": {},
   "outputs": [],
   "source": [
    "#-----------treating the outliers-----------#\n",
    "\n",
    "#IQR = x_scaled_df['speechiness'].quantile(0.75) - x_scaled_df['speechiness'].quantile(0.25)          #----outliers threshhold calculation based on IQR----#                                                             \n",
    "#outlier_threshhold = IQR*1.5 + x_scaled_df['speechiness'].quantile(0.75)        \n",
    "#x_scaled_df = x_scaled_df[x_scaled_df['speechiness'] <= outlier_threshhold]\n",
    "\n",
    "#x = x[x['speechiness'] <= outlier_threshhold]"
   ]
  },
  {
   "cell_type": "code",
   "execution_count": 260,
   "id": "14528bc9",
   "metadata": {},
   "outputs": [
    {
     "data": {
      "text/plain": [
       "1676"
      ]
     },
     "execution_count": 260,
     "metadata": {},
     "output_type": "execute_result"
    }
   ],
   "source": [
    "len(x_scaled_df)"
   ]
  },
  {
   "cell_type": "code",
   "execution_count": 261,
   "id": "1e113f3f",
   "metadata": {},
   "outputs": [
    {
     "data": {
      "text/plain": [
       "KMeans(random_state=15)"
      ]
     },
     "execution_count": 261,
     "metadata": {},
     "output_type": "execute_result"
    }
   ],
   "source": [
    "#--------------K Means Clustering------------#\n",
    "\n",
    "kmeans = KMeans(n_clusters = 8, random_state = 15)\n",
    "kmeans.fit(x_scaled_df)"
   ]
  },
  {
   "cell_type": "code",
   "execution_count": 262,
   "id": "cf087d8a",
   "metadata": {},
   "outputs": [
    {
     "data": {
      "text/plain": [
       "array([6, 6, 2, ..., 1, 2, 1])"
      ]
     },
     "execution_count": 262,
     "metadata": {},
     "output_type": "execute_result"
    }
   ],
   "source": [
    "kmeans.labels_"
   ]
  },
  {
   "cell_type": "code",
   "execution_count": 263,
   "id": "6db24632",
   "metadata": {},
   "outputs": [
    {
     "data": {
      "text/plain": [
       "1676"
      ]
     },
     "execution_count": 263,
     "metadata": {},
     "output_type": "execute_result"
    }
   ],
   "source": [
    "len(kmeans.labels_)"
   ]
  },
  {
   "cell_type": "code",
   "execution_count": 264,
   "id": "40389ece",
   "metadata": {},
   "outputs": [
    {
     "data": {
      "text/plain": [
       "4358.123427729633"
      ]
     },
     "execution_count": 264,
     "metadata": {},
     "output_type": "execute_result"
    }
   ],
   "source": [
    "kmeans.inertia_"
   ]
  },
  {
   "cell_type": "code",
   "execution_count": 265,
   "id": "41d09cf4",
   "metadata": {},
   "outputs": [
    {
     "data": {
      "text/plain": [
       "0    248\n",
       "1    233\n",
       "2    326\n",
       "3    127\n",
       "4    162\n",
       "5    107\n",
       "6    246\n",
       "7    227\n",
       "dtype: int64"
      ]
     },
     "execution_count": 265,
     "metadata": {},
     "output_type": "execute_result"
    }
   ],
   "source": [
    "#--------------Model prediction results on the training data------------#\n",
    "\n",
    "clusters = kmeans.predict(x_scaled_df)\n",
    "pd.Series(clusters).value_counts().sort_index()"
   ]
  },
  {
   "cell_type": "code",
   "execution_count": 270,
   "id": "928f7048",
   "metadata": {},
   "outputs": [
    {
     "data": {
      "text/html": [
       "<div>\n",
       "<style scoped>\n",
       "    .dataframe tbody tr th:only-of-type {\n",
       "        vertical-align: middle;\n",
       "    }\n",
       "\n",
       "    .dataframe tbody tr th {\n",
       "        vertical-align: top;\n",
       "    }\n",
       "\n",
       "    .dataframe thead th {\n",
       "        text-align: right;\n",
       "    }\n",
       "</style>\n",
       "<table border=\"1\" class=\"dataframe\">\n",
       "  <thead>\n",
       "    <tr style=\"text-align: right;\">\n",
       "      <th></th>\n",
       "      <th>index</th>\n",
       "      <th>danceability</th>\n",
       "      <th>energy</th>\n",
       "      <th>key</th>\n",
       "      <th>loudness</th>\n",
       "      <th>mode</th>\n",
       "      <th>speechiness</th>\n",
       "      <th>acousticness</th>\n",
       "      <th>instrumentalness</th>\n",
       "      <th>liveness</th>\n",
       "      <th>...</th>\n",
       "      <th>type</th>\n",
       "      <th>id</th>\n",
       "      <th>uri</th>\n",
       "      <th>track_href</th>\n",
       "      <th>analysis_url</th>\n",
       "      <th>duration_ms</th>\n",
       "      <th>time_signature</th>\n",
       "      <th>artist</th>\n",
       "      <th>song_name</th>\n",
       "      <th>cluster</th>\n",
       "    </tr>\n",
       "  </thead>\n",
       "  <tbody>\n",
       "    <tr>\n",
       "      <th>0</th>\n",
       "      <td>0</td>\n",
       "      <td>0.658</td>\n",
       "      <td>0.634</td>\n",
       "      <td>1</td>\n",
       "      <td>-5.797</td>\n",
       "      <td>0</td>\n",
       "      <td>0.0413</td>\n",
       "      <td>0.0106</td>\n",
       "      <td>0.000000</td>\n",
       "      <td>0.132</td>\n",
       "      <td>...</td>\n",
       "      <td>audio_features</td>\n",
       "      <td>4u4NyuceXP7Uzh7XFJKCr1</td>\n",
       "      <td>spotify:track:4u4NyuceXP7Uzh7XFJKCr1</td>\n",
       "      <td>https://api.spotify.com/v1/tracks/4u4NyuceXP7U...</td>\n",
       "      <td>https://api.spotify.com/v1/audio-analysis/4u4N...</td>\n",
       "      <td>170813</td>\n",
       "      <td>4</td>\n",
       "      <td>Justin Bieber</td>\n",
       "      <td>Hold On</td>\n",
       "      <td>6</td>\n",
       "    </tr>\n",
       "    <tr>\n",
       "      <th>1</th>\n",
       "      <td>1</td>\n",
       "      <td>0.333</td>\n",
       "      <td>0.637</td>\n",
       "      <td>1</td>\n",
       "      <td>-4.904</td>\n",
       "      <td>0</td>\n",
       "      <td>0.0581</td>\n",
       "      <td>0.1310</td>\n",
       "      <td>0.000018</td>\n",
       "      <td>0.149</td>\n",
       "      <td>...</td>\n",
       "      <td>audio_features</td>\n",
       "      <td>5KCbr5ndeby4y4ggthdiAb</td>\n",
       "      <td>spotify:track:5KCbr5ndeby4y4ggthdiAb</td>\n",
       "      <td>https://api.spotify.com/v1/tracks/5KCbr5ndeby4...</td>\n",
       "      <td>https://api.spotify.com/v1/audio-analysis/5KCb...</td>\n",
       "      <td>172693</td>\n",
       "      <td>4</td>\n",
       "      <td>Shawn Mendes</td>\n",
       "      <td>Wonder</td>\n",
       "      <td>6</td>\n",
       "    </tr>\n",
       "    <tr>\n",
       "      <th>2</th>\n",
       "      <td>2</td>\n",
       "      <td>0.713</td>\n",
       "      <td>0.676</td>\n",
       "      <td>10</td>\n",
       "      <td>-5.483</td>\n",
       "      <td>1</td>\n",
       "      <td>0.0270</td>\n",
       "      <td>0.0377</td>\n",
       "      <td>0.000000</td>\n",
       "      <td>0.154</td>\n",
       "      <td>...</td>\n",
       "      <td>audio_features</td>\n",
       "      <td>6fRxMU4LWwyaSSowV441IU</td>\n",
       "      <td>spotify:track:6fRxMU4LWwyaSSowV441IU</td>\n",
       "      <td>https://api.spotify.com/v1/tracks/6fRxMU4LWwya...</td>\n",
       "      <td>https://api.spotify.com/v1/audio-analysis/6fRx...</td>\n",
       "      <td>227395</td>\n",
       "      <td>4</td>\n",
       "      <td>Maroon 5 &amp; Megan Thee Stallion</td>\n",
       "      <td>Beautiful Mistakes (feat. Megan Thee Stallion)</td>\n",
       "      <td>2</td>\n",
       "    </tr>\n",
       "    <tr>\n",
       "      <th>3</th>\n",
       "      <td>3</td>\n",
       "      <td>0.748</td>\n",
       "      <td>0.551</td>\n",
       "      <td>11</td>\n",
       "      <td>-6.120</td>\n",
       "      <td>1</td>\n",
       "      <td>0.0349</td>\n",
       "      <td>0.2350</td>\n",
       "      <td>0.000000</td>\n",
       "      <td>0.119</td>\n",
       "      <td>...</td>\n",
       "      <td>audio_features</td>\n",
       "      <td>472vIK1ldetTxRxG3ovaiY</td>\n",
       "      <td>spotify:track:472vIK1ldetTxRxG3ovaiY</td>\n",
       "      <td>https://api.spotify.com/v1/tracks/472vIK1ldetT...</td>\n",
       "      <td>https://api.spotify.com/v1/audio-analysis/472v...</td>\n",
       "      <td>144533</td>\n",
       "      <td>4</td>\n",
       "      <td>Dan + Shay</td>\n",
       "      <td>Glad You Exist</td>\n",
       "      <td>2</td>\n",
       "    </tr>\n",
       "    <tr>\n",
       "      <th>4</th>\n",
       "      <td>4</td>\n",
       "      <td>0.595</td>\n",
       "      <td>0.759</td>\n",
       "      <td>11</td>\n",
       "      <td>-4.245</td>\n",
       "      <td>0</td>\n",
       "      <td>0.0423</td>\n",
       "      <td>0.1410</td>\n",
       "      <td>0.000000</td>\n",
       "      <td>0.172</td>\n",
       "      <td>...</td>\n",
       "      <td>audio_features</td>\n",
       "      <td>5zqObw7wjBgL9TDiAymxPn</td>\n",
       "      <td>spotify:track:5zqObw7wjBgL9TDiAymxPn</td>\n",
       "      <td>https://api.spotify.com/v1/tracks/5zqObw7wjBgL...</td>\n",
       "      <td>https://api.spotify.com/v1/audio-analysis/5zqO...</td>\n",
       "      <td>163733</td>\n",
       "      <td>4</td>\n",
       "      <td>Anne-Marie &amp; Niall Horan</td>\n",
       "      <td>Our Song</td>\n",
       "      <td>2</td>\n",
       "    </tr>\n",
       "  </tbody>\n",
       "</table>\n",
       "<p>5 rows × 22 columns</p>\n",
       "</div>"
      ],
      "text/plain": [
       "   index  danceability  energy  key  loudness  mode  speechiness  \\\n",
       "0      0         0.658   0.634    1    -5.797     0       0.0413   \n",
       "1      1         0.333   0.637    1    -4.904     0       0.0581   \n",
       "2      2         0.713   0.676   10    -5.483     1       0.0270   \n",
       "3      3         0.748   0.551   11    -6.120     1       0.0349   \n",
       "4      4         0.595   0.759   11    -4.245     0       0.0423   \n",
       "\n",
       "   acousticness  instrumentalness  liveness  ...            type  \\\n",
       "0        0.0106          0.000000     0.132  ...  audio_features   \n",
       "1        0.1310          0.000018     0.149  ...  audio_features   \n",
       "2        0.0377          0.000000     0.154  ...  audio_features   \n",
       "3        0.2350          0.000000     0.119  ...  audio_features   \n",
       "4        0.1410          0.000000     0.172  ...  audio_features   \n",
       "\n",
       "                       id                                   uri  \\\n",
       "0  4u4NyuceXP7Uzh7XFJKCr1  spotify:track:4u4NyuceXP7Uzh7XFJKCr1   \n",
       "1  5KCbr5ndeby4y4ggthdiAb  spotify:track:5KCbr5ndeby4y4ggthdiAb   \n",
       "2  6fRxMU4LWwyaSSowV441IU  spotify:track:6fRxMU4LWwyaSSowV441IU   \n",
       "3  472vIK1ldetTxRxG3ovaiY  spotify:track:472vIK1ldetTxRxG3ovaiY   \n",
       "4  5zqObw7wjBgL9TDiAymxPn  spotify:track:5zqObw7wjBgL9TDiAymxPn   \n",
       "\n",
       "                                          track_href  \\\n",
       "0  https://api.spotify.com/v1/tracks/4u4NyuceXP7U...   \n",
       "1  https://api.spotify.com/v1/tracks/5KCbr5ndeby4...   \n",
       "2  https://api.spotify.com/v1/tracks/6fRxMU4LWwya...   \n",
       "3  https://api.spotify.com/v1/tracks/472vIK1ldetT...   \n",
       "4  https://api.spotify.com/v1/tracks/5zqObw7wjBgL...   \n",
       "\n",
       "                                        analysis_url duration_ms  \\\n",
       "0  https://api.spotify.com/v1/audio-analysis/4u4N...      170813   \n",
       "1  https://api.spotify.com/v1/audio-analysis/5KCb...      172693   \n",
       "2  https://api.spotify.com/v1/audio-analysis/6fRx...      227395   \n",
       "3  https://api.spotify.com/v1/audio-analysis/472v...      144533   \n",
       "4  https://api.spotify.com/v1/audio-analysis/5zqO...      163733   \n",
       "\n",
       "  time_signature                          artist  \\\n",
       "0              4                   Justin Bieber   \n",
       "1              4                    Shawn Mendes   \n",
       "2              4  Maroon 5 & Megan Thee Stallion   \n",
       "3              4                      Dan + Shay   \n",
       "4              4        Anne-Marie & Niall Horan   \n",
       "\n",
       "                                        song_name cluster  \n",
       "0                                         Hold On       6  \n",
       "1                                          Wonder       6  \n",
       "2  Beautiful Mistakes (feat. Megan Thee Stallion)       2  \n",
       "3                                  Glad You Exist       2  \n",
       "4                                        Our Song       2  \n",
       "\n",
       "[5 rows x 22 columns]"
      ]
     },
     "execution_count": 270,
     "metadata": {},
     "output_type": "execute_result"
    }
   ],
   "source": [
    "#---------addition of the cluster to the original imported dataframe---------#\n",
    "\n",
    "df['cluster'] = clusters\n",
    "df.head()"
   ]
  },
  {
   "cell_type": "code",
   "execution_count": 271,
   "id": "565cf5af",
   "metadata": {},
   "outputs": [],
   "source": [
    "#--------------saving the data frame including the cluster information to the csv file--------#\n",
    "\n",
    "df.to_csv('the_clustered_spotify_songs.csv', index = False)"
   ]
  },
  {
   "cell_type": "code",
   "execution_count": 267,
   "id": "d9b926ab",
   "metadata": {},
   "outputs": [
    {
     "name": "stdout",
     "output_type": "stream",
     "text": [
      "4358.573468652329\n"
     ]
    }
   ],
   "source": [
    "kmeans2 = KMeans(n_clusters=8,\n",
    "                init=\"k-means++\",\n",
    "                n_init=50,  # try with 1, 4, 8, 20, 30, 100...\n",
    "                max_iter=10,\n",
    "                tol=0,\n",
    "                algorithm=\"elkan\",\n",
    "                random_state=1234)\n",
    "kmeans2.fit(x_scaled_df)\n",
    "print(kmeans2.inertia_)"
   ]
  },
  {
   "cell_type": "code",
   "execution_count": 268,
   "id": "85968ccf",
   "metadata": {},
   "outputs": [
    {
     "data": {
      "text/plain": [
       "Text(0.5, 1.0, 'Elbow Method showing the optimal k')"
      ]
     },
     "execution_count": 268,
     "metadata": {},
     "output_type": "execute_result"
    },
    {
     "data": {
      "image/png": "[encoded data removed]",
      "text/plain": [
       "<Figure size 1152x576 with 1 Axes>"
      ]
     },
     "metadata": {
      "needs_background": "light"
     },
     "output_type": "display_data"
    }
   ],
   "source": [
    "K = range(2, 21)\n",
    "inertia = []\n",
    "\n",
    "for k in K:\n",
    "    #print(\"Training a K-Means model with {} neighbours! \".format(k))\n",
    "    #print()\n",
    "    kmeans = KMeans(n_clusters=k,\n",
    "                    random_state=1234)\n",
    "    kmeans.fit(x_scaled_df)\n",
    "    inertia.append(kmeans.inertia_)\n",
    "\n",
    "import numpy as np\n",
    "import matplotlib.pyplot as plt\n",
    "%matplotlib inline\n",
    "\n",
    "plt.figure(figsize=(16,8))\n",
    "plt.plot(K, inertia, 'bx-')\n",
    "plt.xlabel('k')\n",
    "plt.ylabel('inertia')\n",
    "plt.xticks(np.arange(min(K), max(K)+1, 1.0))\n",
    "plt.title('Elbow Method showing the optimal k')"
   ]
  },
  {
   "cell_type": "code",
   "execution_count": 240,
   "id": "e037a6f7",
   "metadata": {},
   "outputs": [
    {
     "data": {
      "text/plain": [
       "Text(0.5, 1.0, 'Silhouette Method showing the optimal k')"
      ]
     },
     "execution_count": 240,
     "metadata": {},
     "output_type": "execute_result"
    },
    {
     "data": {
      "image/png": "[encoded data removed]",
      "text/plain": [
       "<Figure size 1152x576 with 1 Axes>"
      ]
     },
     "metadata": {
      "needs_background": "light"
     },
     "output_type": "display_data"
    }
   ],
   "source": [
    "from sklearn.cluster import KMeans\n",
    "from sklearn.metrics import silhouette_score, silhouette_samples\n",
    "import pickle\n",
    "\n",
    "\n",
    "K = range(2, 20)\n",
    "silhouette = []\n",
    "\n",
    "for k in K:\n",
    "    kmeans = KMeans(n_clusters=k,\n",
    "                    random_state=1234)\n",
    "    kmeans.fit(x_scaled_df)\n",
    "    #filename = \"Model/kmeans_\" + str(k) + \".pickle\"\n",
    "    #with open(filename, \"wb\") as f:\n",
    "        #pickle.dump(kmeans,f)\n",
    "    silhouette.append(silhouette_score(x_scaled_df, kmeans.predict(x_scaled_df)))\n",
    "\n",
    "\n",
    "plt.figure(figsize=(16,8))\n",
    "plt.plot(K, silhouette, 'bx-')\n",
    "plt.xlabel('k')\n",
    "plt.ylabel('silhouette score')\n",
    "plt.xticks(np.arange(min(K), max(K)+1, 1.0))\n",
    "plt.title('Silhouette Method showing the optimal k')"
   ]
  },
  {
   "cell_type": "code",
   "execution_count": null,
   "id": "efdcfeaf",
   "metadata": {},
   "outputs": [],
   "source": [
    "#visualizer = SilhouetteVisualizer(model, colors='yellowbrick')"
   ]
  },
  {
   "cell_type": "code",
   "execution_count": null,
   "id": "d3cdf84c",
   "metadata": {},
   "outputs": [],
   "source": [
    "\n",
    "\n",
    "#scaler = StandardScaler()\n",
    "#model = KMeans()\n",
    "\n",
    "with open(\"Model/scaler.pickle\", \"wb\") as f:\n",
    "    pickle.dump(scaler,f)\n",
    "\n",
    "with open(\"Model/kmeans_4.pickle\", \"wb\") as f:\n",
    "    pickle.dump(kmeans,f)"
   ]
  },
  {
   "cell_type": "code",
   "execution_count": null,
   "id": "a6aaef7e",
   "metadata": {},
   "outputs": [],
   "source": [
    "def load(filename = \"filename.pickle\"): \n",
    "    try: \n",
    "        with open(filename, \"rb\") as f: \n",
    "            return pickle.load(f) \n",
    "    except FileNotFoundError: \n",
    "        print(\"File not found!\")\n",
    "\n"
   ]
  },
  {
   "cell_type": "code",
   "execution_count": null,
   "id": "88fe00e2",
   "metadata": {},
   "outputs": [],
   "source": [
    "scaler2 = load(\"Model/scaler.pickle\")\n",
    "scaler2"
   ]
  }
 ],
 "metadata": {
  "kernelspec": {
   "display_name": "Python 3",
   "language": "python",
   "name": "python3"
  },
  "language_info": {
   "codemirror_mode": {
    "name": "ipython",
    "version": 3
   },
   "file_extension": ".py",
   "mimetype": "text/x-python",
   "name": "python",
   "nbconvert_exporter": "python",
   "pygments_lexer": "ipython3",
   "version": "3.8.8"
  }
 },
 "nbformat": 4,
 "nbformat_minor": 5
}
