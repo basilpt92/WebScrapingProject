{
 "cells": [
  {
   "cell_type": "code",
   "execution_count": 148,
   "id": "5a4d5357",
   "metadata": {},
   "outputs": [],
   "source": [
    "from bs4 import BeautifulSoup\n",
    "import requests\n",
    "import json\n",
    "import spotipy \n",
    "\n",
    "import random \n",
    "from time import sleep\n",
    "\n",
    "import pandas as pd"
   ]
  },
  {
   "cell_type": "markdown",
   "id": "4a24f7e9",
   "metadata": {},
   "source": [
    "## Scraping the Billbord Website for 100 Hot songs"
   ]
  },
  {
   "cell_type": "code",
   "execution_count": 161,
   "id": "edfe6066",
   "metadata": {},
   "outputs": [],
   "source": [
    "#------scrapping 2021 data-------#\n",
    "\n",
    "url = \"https://www.billboard.com/charts/hot-100\"\n",
    "response = requests.get(url)\n",
    "newest_soup = BeautifulSoup(response.content, 'html.parser')"
   ]
  },
  {
   "cell_type": "code",
   "execution_count": 162,
   "id": "678c4f8a",
   "metadata": {},
   "outputs": [
    {
     "data": {
      "text/plain": [
       "200"
      ]
     },
     "execution_count": 162,
     "metadata": {},
     "output_type": "execute_result"
    }
   ],
   "source": [
    "response.status_code"
   ]
  },
  {
   "cell_type": "code",
   "execution_count": 164,
   "id": "c67d835b",
   "metadata": {},
   "outputs": [],
   "source": [
    "#--------2021 song names--------#\n",
    "\n",
    "newest_song = newest_soup.select('span.chart-element__information__song.text--truncate.color--primary')\n",
    "newest_song = [t.text for t in newest_song]\n",
    "\n",
    "\n",
    "#--------2021 artist names--------#\n",
    "\n",
    "newest_artist = newest_soup.select('span.chart-element__information__artist.text--truncate.color--secondary')\n",
    "newest_artist = [t.text for t in newest_artist]"
   ]
  },
  {
   "cell_type": "code",
   "execution_count": 166,
   "id": "2182f4c3",
   "metadata": {},
   "outputs": [],
   "source": [
    "#------scrapping 2019,2020 data-------#\n",
    "\n",
    "str = 'https://www.billboard.com/charts/year-end/{}/hot-100-songs'\n",
    "years = [ 2006, 2007 ,2008, 2009, 2010,2011, 2012, 2013, 2014, 2015, 2016, 2017, 2018 ,2019, 2020]\n",
    "\n",
    "song_pool_soups = []\n",
    "artist_pool_soups = []\n",
    "\n",
    "for year in years:\n",
    "    url = str.format(year)\n",
    "    response = requests.get(url)\n",
    "    #print(response.status_code)\n",
    "    \n",
    "    soup = BeautifulSoup(response.content)\n",
    "    song_pool_soups.append(soup.find_all('div', class_ = 'ye-chart-item__title'))\n",
    "    artist_pool_soups.append(soup.find_all('div', class_ = 'ye-chart-item__artist'))\n",
    "    \n",
    "    \n",
    "    wait_time = random.randint(1,4)\n",
    "    sleep(wait_time)"
   ]
  },
  {
   "cell_type": "code",
   "execution_count": 167,
   "id": "0761d81e",
   "metadata": {},
   "outputs": [],
   "source": [
    "#------songs & artists 2006-2020------#\n",
    "\n",
    "for i in range(0,len(years)):\n",
    "    song_pool_soups[i] = [t.text.replace('\\n','') for t in song_pool_soups[i]]\n",
    "    artist_pool_soups[i] = [t.text.replace('\\n','') for t in artist_pool_soups[i]]    "
   ]
  },
  {
   "cell_type": "code",
   "execution_count": null,
   "id": "c39333dc",
   "metadata": {},
   "outputs": [],
   "source": [
    "#release_year = soup.find('span', class_ ='dropdown__year-select-date').get_text()\n",
    "#song_release_year = [2006]*100 + [2007]*100 + [2008]*100 + [2009]*100 + [2010]*100 + [2011]*100 + [2012]*100 + [2013]*100 + [2014]*100 + [2015]*100 + [2016]*100 + [2017]*100 + [2018]*100 + [2019]*100 + [2020]*100 + [2021]*100"
   ]
  },
  {
   "cell_type": "code",
   "execution_count": 168,
   "id": "67590f07",
   "metadata": {},
   "outputs": [],
   "source": [
    "#----------concatinate the 2006-2020 years data together----------#\n",
    "\n",
    "song_name = []\n",
    "song_artist = []\n",
    "\n",
    "for i in range(0,len(older_song_soups)):\n",
    "        song_name += older_song_soups[i]\n",
    "        song_artist += older_artist_soups[i]"
   ]
  },
  {
   "cell_type": "code",
   "execution_count": 243,
   "id": "21201612",
   "metadata": {},
   "outputs": [
    {
     "data": {
      "text/html": [
       "<div>\n",
       "<style scoped>\n",
       "    .dataframe tbody tr th:only-of-type {\n",
       "        vertical-align: middle;\n",
       "    }\n",
       "\n",
       "    .dataframe tbody tr th {\n",
       "        vertical-align: top;\n",
       "    }\n",
       "\n",
       "    .dataframe thead th {\n",
       "        text-align: right;\n",
       "    }\n",
       "</style>\n",
       "<table border=\"1\" class=\"dataframe\">\n",
       "  <thead>\n",
       "    <tr style=\"text-align: right;\">\n",
       "      <th></th>\n",
       "      <th>song_name</th>\n",
       "      <th>artist</th>\n",
       "    </tr>\n",
       "  </thead>\n",
       "  <tbody>\n",
       "    <tr>\n",
       "      <th>0</th>\n",
       "      <td>Way 2 Sexy</td>\n",
       "      <td>Drake Featuring Future &amp; Young Thug</td>\n",
       "    </tr>\n",
       "    <tr>\n",
       "      <th>1</th>\n",
       "      <td>Girls Want Girls</td>\n",
       "      <td>Drake Featuring Lil Baby</td>\n",
       "    </tr>\n",
       "    <tr>\n",
       "      <th>2</th>\n",
       "      <td>Fair Trade</td>\n",
       "      <td>Drake Featuring Travis Scott</td>\n",
       "    </tr>\n",
       "    <tr>\n",
       "      <th>3</th>\n",
       "      <td>Champagne Poetry</td>\n",
       "      <td>Drake</td>\n",
       "    </tr>\n",
       "    <tr>\n",
       "      <th>4</th>\n",
       "      <td>Knife Talk</td>\n",
       "      <td>Drake Featuring 21 Savage &amp; Project Pat</td>\n",
       "    </tr>\n",
       "  </tbody>\n",
       "</table>\n",
       "</div>"
      ],
      "text/plain": [
       "          song_name                                   artist\n",
       "0        Way 2 Sexy      Drake Featuring Future & Young Thug\n",
       "1  Girls Want Girls                 Drake Featuring Lil Baby\n",
       "2        Fair Trade             Drake Featuring Travis Scott\n",
       "3  Champagne Poetry                                    Drake\n",
       "4        Knife Talk  Drake Featuring 21 Savage & Project Pat"
      ]
     },
     "execution_count": 243,
     "metadata": {},
     "output_type": "execute_result"
    }
   ],
   "source": [
    "#-----current hot topic dataframe 2021----------#\n",
    "\n",
    "df_current = pd.DataFrame({'song_name': newest_song, 'artist': newest_artist})\n",
    "df_current.head(5)"
   ]
  },
  {
   "cell_type": "code",
   "execution_count": 173,
   "id": "c24dddc9",
   "metadata": {},
   "outputs": [
    {
     "data": {
      "text/html": [
       "<div>\n",
       "<style scoped>\n",
       "    .dataframe tbody tr th:only-of-type {\n",
       "        vertical-align: middle;\n",
       "    }\n",
       "\n",
       "    .dataframe tbody tr th {\n",
       "        vertical-align: top;\n",
       "    }\n",
       "\n",
       "    .dataframe thead th {\n",
       "        text-align: right;\n",
       "    }\n",
       "</style>\n",
       "<table border=\"1\" class=\"dataframe\">\n",
       "  <thead>\n",
       "    <tr style=\"text-align: right;\">\n",
       "      <th></th>\n",
       "      <th>song_name</th>\n",
       "      <th>artist</th>\n",
       "    </tr>\n",
       "  </thead>\n",
       "  <tbody>\n",
       "    <tr>\n",
       "      <th>1493</th>\n",
       "      <td>More Than My Hometown</td>\n",
       "      <td>Morgan Wallen</td>\n",
       "    </tr>\n",
       "    <tr>\n",
       "      <th>1494</th>\n",
       "      <td>Lovin' On You</td>\n",
       "      <td>Luke Combs</td>\n",
       "    </tr>\n",
       "    <tr>\n",
       "      <th>1495</th>\n",
       "      <td>Said Sum</td>\n",
       "      <td>Moneybagg Yo</td>\n",
       "    </tr>\n",
       "    <tr>\n",
       "      <th>1496</th>\n",
       "      <td>Slide</td>\n",
       "      <td>H.E.R. Featuring YG</td>\n",
       "    </tr>\n",
       "    <tr>\n",
       "      <th>1497</th>\n",
       "      <td>Walk Em Down</td>\n",
       "      <td>NLE Choppa Featuring Roddy Ricch</td>\n",
       "    </tr>\n",
       "  </tbody>\n",
       "</table>\n",
       "</div>"
      ],
      "text/plain": [
       "                  song_name                            artist\n",
       "1493  More Than My Hometown                     Morgan Wallen\n",
       "1494          Lovin' On You                        Luke Combs\n",
       "1495               Said Sum                      Moneybagg Yo\n",
       "1496                  Slide               H.E.R. Featuring YG\n",
       "1497           Walk Em Down  NLE Choppa Featuring Roddy Ricch"
      ]
     },
     "execution_count": 173,
     "metadata": {},
     "output_type": "execute_result"
    }
   ],
   "source": [
    "#----- hot topic dataframe 2006-2020----------#\n",
    "\n",
    "df = pd.DataFrame({'song_name': song_name, 'artist': song_artist})\n",
    "df.tail(5)"
   ]
  },
  {
   "cell_type": "code",
   "execution_count": 244,
   "id": "f2342218",
   "metadata": {},
   "outputs": [],
   "source": [
    "#---------Making the dataframe content lowercase-----------#\n",
    "\n",
    "df_current[\"song_name\"] = df_current[\"song_name\"].apply(lambda x: x.lower())\n",
    "df_current[\"artist\"] = df_current[\"artist\"].apply(lambda x: x.lower())"
   ]
  },
  {
   "cell_type": "code",
   "execution_count": 245,
   "id": "c4a2a875",
   "metadata": {},
   "outputs": [],
   "source": [
    "#--------maching sequence of input with hot songs------------#\n",
    "\n",
    "from difflib import SequenceMatcher \n",
    "\n",
    "similarity = []\n",
    "def similar(a):\n",
    "    for i in range (0,len(newest_song)):\n",
    "        similarity.append(SequenceMatcher(None, a, newest_song[i]).ratio())\n",
    "        most_similar = similarity.index(max(similarity))\n",
    "    return newest_song[most_similar]           "
   ]
  },
  {
   "cell_type": "code",
   "execution_count": 246,
   "id": "a8f04c1d",
   "metadata": {},
   "outputs": [
    {
     "data": {
      "text/plain": [
       "'Fair Trade'"
      ]
     },
     "execution_count": 246,
     "metadata": {},
     "output_type": "execute_result"
    }
   ],
   "source": []
  },
  {
   "cell_type": "code",
   "execution_count": 220,
   "id": "16e7f63e",
   "metadata": {},
   "outputs": [],
   "source": [
    "#--------Taking input ------------#\n",
    "\n",
    "\n",
    "def user_song():\n",
    "    input_song = input('Enter Your Favorite Song: ')\n",
    "    \n",
    "    similarity = []\n",
    "    if input_song.lower() in df_current.song_name.values:\n",
    "        print('The recommended song for you is: ',random.choice(df_current['song_name']),'\\n')\n",
    "            \n",
    "    elif similar(input_song.lower()) in df_current.song_name.values:\n",
    "        print('Do you mean: ', similar(input_song.lower()))\n",
    "        user_song()\n",
    "    \n",
    "    else:\n",
    "        print('Sorry, Pick another song\\n')\n",
    "        user_song()"
   ]
  },
  {
   "cell_type": "code",
   "execution_count": 221,
   "id": "f0d82916",
   "metadata": {},
   "outputs": [
    {
     "name": "stdout",
     "output_type": "stream",
     "text": [
      "Enter Your Favorite Song: far trade\n",
      "Sorry, Pick another song\n",
      "\n",
      "Enter Your Favorite Song: fair trade\n",
      "The recommended song for you is:  wockesha \n",
      "\n"
     ]
    }
   ],
   "source": [
    "user_song()"
   ]
  },
  {
   "cell_type": "code",
   "execution_count": 222,
   "id": "5cac60b3",
   "metadata": {},
   "outputs": [],
   "source": [
    "import config\n",
    "import pprint\n",
    "\n",
    "Client_ID = config.client_id\n",
    "Client_Secret = config.client_secret"
   ]
  },
  {
   "cell_type": "code",
   "execution_count": 223,
   "id": "98d63608",
   "metadata": {},
   "outputs": [],
   "source": [
    "from spotipy.oauth2 import SpotifyClientCredentials\n",
    "\n",
    "sp = spotipy.Spotify(auth_manager = SpotifyClientCredentials(client_id = Client_ID, client_secret = Client_Secret))"
   ]
  },
  {
   "cell_type": "code",
   "execution_count": 228,
   "id": "e9c21f03",
   "metadata": {},
   "outputs": [
    {
     "data": {
      "text/plain": [
       "{'href': 'https://api.spotify.com/v1/search?query=comptine+d%27un+autre+%C3%A9t%C3%A9&type=track&offset=0&limit=1',\n",
       " 'items': [{'album': {'album_type': 'album',\n",
       "    'artists': [{'external_urls': {'spotify': 'https://open.spotify.com/artist/00sazWvoTLOqg5MFwC68Um'},\n",
       "      'href': 'https://api.spotify.com/v1/artists/00sazWvoTLOqg5MFwC68Um',\n",
       "      'id': '00sazWvoTLOqg5MFwC68Um',\n",
       "      'name': 'Yann Tiersen',\n",
       "      'type': 'artist',\n",
       "      'uri': 'spotify:artist:00sazWvoTLOqg5MFwC68Um'}],\n",
       "    'available_markets': ['US'],\n",
       "    'external_urls': {'spotify': 'https://open.spotify.com/album/7JG0QwvJRzPILHEW1xHEJj'},\n",
       "    'href': 'https://api.spotify.com/v1/albums/7JG0QwvJRzPILHEW1xHEJj',\n",
       "    'id': '7JG0QwvJRzPILHEW1xHEJj',\n",
       "    'images': [{'height': 640,\n",
       "      'url': 'https://i.scdn.co/image/ab67616d0000b27301e41b3cb7d14f569756801b',\n",
       "      'width': 640},\n",
       "     {'height': 300,\n",
       "      'url': 'https://i.scdn.co/image/ab67616d00001e0201e41b3cb7d14f569756801b',\n",
       "      'width': 300},\n",
       "     {'height': 64,\n",
       "      'url': 'https://i.scdn.co/image/ab67616d0000485101e41b3cb7d14f569756801b',\n",
       "      'width': 64}],\n",
       "    'name': 'Amélie (Original Soundtrack)',\n",
       "    'release_date': '2001-04-23',\n",
       "    'release_date_precision': 'day',\n",
       "    'total_tracks': 25,\n",
       "    'type': 'album',\n",
       "    'uri': 'spotify:album:7JG0QwvJRzPILHEW1xHEJj'},\n",
       "   'artists': [{'external_urls': {'spotify': 'https://open.spotify.com/artist/00sazWvoTLOqg5MFwC68Um'},\n",
       "     'href': 'https://api.spotify.com/v1/artists/00sazWvoTLOqg5MFwC68Um',\n",
       "     'id': '00sazWvoTLOqg5MFwC68Um',\n",
       "     'name': 'Yann Tiersen',\n",
       "     'type': 'artist',\n",
       "     'uri': 'spotify:artist:00sazWvoTLOqg5MFwC68Um'}],\n",
       "   'available_markets': ['US'],\n",
       "   'disc_number': 1,\n",
       "   'duration_ms': 140733,\n",
       "   'explicit': False,\n",
       "   'external_ids': {'isrc': 'FR91U0100002'},\n",
       "   'external_urls': {'spotify': 'https://open.spotify.com/track/4O2N861eOnF9q8EtpH8IJu'},\n",
       "   'href': 'https://api.spotify.com/v1/tracks/4O2N861eOnF9q8EtpH8IJu',\n",
       "   'id': '4O2N861eOnF9q8EtpH8IJu',\n",
       "   'is_local': False,\n",
       "   'name': \"Comptine d'un autre été, l'après-midi\",\n",
       "   'popularity': 54,\n",
       "   'preview_url': 'https://p.scdn.co/mp3-preview/b6f6af8e3b58fb0fee23108124a26a397f88a94b?cid=7de59fe4b1954ef89d370ee0f8321912',\n",
       "   'track_number': 4,\n",
       "   'type': 'track',\n",
       "   'uri': 'spotify:track:4O2N861eOnF9q8EtpH8IJu'}],\n",
       " 'limit': 1,\n",
       " 'next': 'https://api.spotify.com/v1/search?query=comptine+d%27un+autre+%C3%A9t%C3%A9&type=track&offset=1&limit=1',\n",
       " 'offset': 0,\n",
       " 'previous': None,\n",
       " 'total': 3515}"
      ]
     },
     "execution_count": 228,
     "metadata": {},
     "output_type": "execute_result"
    }
   ],
   "source": [
    "song = sp.search(q=\"comptine d'un autre été\", limit=1) \n"
   ]
  },
  {
   "cell_type": "code",
   "execution_count": 229,
   "id": "b178543a",
   "metadata": {},
   "outputs": [
    {
     "data": {
      "text/plain": [
       "[{'album': {'album_type': 'album',\n",
       "   'artists': [{'external_urls': {'spotify': 'https://open.spotify.com/artist/00sazWvoTLOqg5MFwC68Um'},\n",
       "     'href': 'https://api.spotify.com/v1/artists/00sazWvoTLOqg5MFwC68Um',\n",
       "     'id': '00sazWvoTLOqg5MFwC68Um',\n",
       "     'name': 'Yann Tiersen',\n",
       "     'type': 'artist',\n",
       "     'uri': 'spotify:artist:00sazWvoTLOqg5MFwC68Um'}],\n",
       "   'available_markets': ['US'],\n",
       "   'external_urls': {'spotify': 'https://open.spotify.com/album/7JG0QwvJRzPILHEW1xHEJj'},\n",
       "   'href': 'https://api.spotify.com/v1/albums/7JG0QwvJRzPILHEW1xHEJj',\n",
       "   'id': '7JG0QwvJRzPILHEW1xHEJj',\n",
       "   'images': [{'height': 640,\n",
       "     'url': 'https://i.scdn.co/image/ab67616d0000b27301e41b3cb7d14f569756801b',\n",
       "     'width': 640},\n",
       "    {'height': 300,\n",
       "     'url': 'https://i.scdn.co/image/ab67616d00001e0201e41b3cb7d14f569756801b',\n",
       "     'width': 300},\n",
       "    {'height': 64,\n",
       "     'url': 'https://i.scdn.co/image/ab67616d0000485101e41b3cb7d14f569756801b',\n",
       "     'width': 64}],\n",
       "   'name': 'Amélie (Original Soundtrack)',\n",
       "   'release_date': '2001-04-23',\n",
       "   'release_date_precision': 'day',\n",
       "   'total_tracks': 25,\n",
       "   'type': 'album',\n",
       "   'uri': 'spotify:album:7JG0QwvJRzPILHEW1xHEJj'},\n",
       "  'artists': [{'external_urls': {'spotify': 'https://open.spotify.com/artist/00sazWvoTLOqg5MFwC68Um'},\n",
       "    'href': 'https://api.spotify.com/v1/artists/00sazWvoTLOqg5MFwC68Um',\n",
       "    'id': '00sazWvoTLOqg5MFwC68Um',\n",
       "    'name': 'Yann Tiersen',\n",
       "    'type': 'artist',\n",
       "    'uri': 'spotify:artist:00sazWvoTLOqg5MFwC68Um'}],\n",
       "  'available_markets': ['US'],\n",
       "  'disc_number': 1,\n",
       "  'duration_ms': 140733,\n",
       "  'explicit': False,\n",
       "  'external_ids': {'isrc': 'FR91U0100002'},\n",
       "  'external_urls': {'spotify': 'https://open.spotify.com/track/4O2N861eOnF9q8EtpH8IJu'},\n",
       "  'href': 'https://api.spotify.com/v1/tracks/4O2N861eOnF9q8EtpH8IJu',\n",
       "  'id': '4O2N861eOnF9q8EtpH8IJu',\n",
       "  'is_local': False,\n",
       "  'name': \"Comptine d'un autre été, l'après-midi\",\n",
       "  'popularity': 54,\n",
       "  'preview_url': 'https://p.scdn.co/mp3-preview/b6f6af8e3b58fb0fee23108124a26a397f88a94b?cid=7de59fe4b1954ef89d370ee0f8321912',\n",
       "  'track_number': 4,\n",
       "  'type': 'track',\n",
       "  'uri': 'spotify:track:4O2N861eOnF9q8EtpH8IJu'}]"
      ]
     },
     "execution_count": 229,
     "metadata": {},
     "output_type": "execute_result"
    }
   ],
   "source": [
    "song['tracks']['items'][0]"
   ]
  },
  {
   "cell_type": "code",
   "execution_count": 230,
   "id": "b723e883",
   "metadata": {},
   "outputs": [
    {
     "name": "stdout",
     "output_type": "stream",
     "text": [
      "{'danceability': 0.484, 'energy': 0.192, 'key': 2, 'loudness': -15.378, 'mode': 1, 'speechiness': 0.0465, 'acousticness': 0.991, 'instrumentalness': 0.908, 'liveness': 0.106, 'valence': 0.0559, 'tempo': 100.084, 'type': 'audio_features', 'id': '4O2N861eOnF9q8EtpH8IJu', 'uri': 'spotify:track:4O2N861eOnF9q8EtpH8IJu', 'track_href': 'https://api.spotify.com/v1/tracks/4O2N861eOnF9q8EtpH8IJu', 'analysis_url': 'https://api.spotify.com/v1/audio-analysis/4O2N861eOnF9q8EtpH8IJu', 'duration_ms': 140733, 'time_signature': 4}\n",
      "{'danceability': [0.484], 'energy': [0.192], 'key': [2], 'loudness': [-15.378], 'mode': [1], 'speechiness': [0.0465], 'acousticness': [0.991], 'instrumentalness': [0.908], 'liveness': [0.106], 'valence': [0.0559], 'tempo': [100.084], 'type': ['audio_features'], 'id': ['4O2N861eOnF9q8EtpH8IJu'], 'uri': ['spotify:track:4O2N861eOnF9q8EtpH8IJu'], 'track_href': ['https://api.spotify.com/v1/tracks/4O2N861eOnF9q8EtpH8IJu'], 'analysis_url': ['https://api.spotify.com/v1/audio-analysis/4O2N861eOnF9q8EtpH8IJu'], 'duration_ms': [140733], 'time_signature': [4]}\n"
     ]
    },
    {
     "data": {
      "text/html": [
       "<div>\n",
       "<style scoped>\n",
       "    .dataframe tbody tr th:only-of-type {\n",
       "        vertical-align: middle;\n",
       "    }\n",
       "\n",
       "    .dataframe tbody tr th {\n",
       "        vertical-align: top;\n",
       "    }\n",
       "\n",
       "    .dataframe thead th {\n",
       "        text-align: right;\n",
       "    }\n",
       "</style>\n",
       "<table border=\"1\" class=\"dataframe\">\n",
       "  <thead>\n",
       "    <tr style=\"text-align: right;\">\n",
       "      <th></th>\n",
       "      <th>danceability</th>\n",
       "      <th>energy</th>\n",
       "      <th>key</th>\n",
       "      <th>loudness</th>\n",
       "      <th>mode</th>\n",
       "      <th>speechiness</th>\n",
       "      <th>acousticness</th>\n",
       "      <th>instrumentalness</th>\n",
       "      <th>liveness</th>\n",
       "      <th>valence</th>\n",
       "      <th>tempo</th>\n",
       "      <th>type</th>\n",
       "      <th>id</th>\n",
       "      <th>uri</th>\n",
       "      <th>track_href</th>\n",
       "      <th>analysis_url</th>\n",
       "      <th>duration_ms</th>\n",
       "      <th>time_signature</th>\n",
       "    </tr>\n",
       "  </thead>\n",
       "  <tbody>\n",
       "    <tr>\n",
       "      <th>0</th>\n",
       "      <td>0.484</td>\n",
       "      <td>0.192</td>\n",
       "      <td>2</td>\n",
       "      <td>-15.378</td>\n",
       "      <td>1</td>\n",
       "      <td>0.0465</td>\n",
       "      <td>0.991</td>\n",
       "      <td>0.908</td>\n",
       "      <td>0.106</td>\n",
       "      <td>0.0559</td>\n",
       "      <td>100.084</td>\n",
       "      <td>audio_features</td>\n",
       "      <td>4O2N861eOnF9q8EtpH8IJu</td>\n",
       "      <td>spotify:track:4O2N861eOnF9q8EtpH8IJu</td>\n",
       "      <td>https://api.spotify.com/v1/tracks/4O2N861eOnF9...</td>\n",
       "      <td>https://api.spotify.com/v1/audio-analysis/4O2N...</td>\n",
       "      <td>140733</td>\n",
       "      <td>4</td>\n",
       "    </tr>\n",
       "  </tbody>\n",
       "</table>\n",
       "</div>"
      ],
      "text/plain": [
       "   danceability  energy  key  loudness  mode  speechiness  acousticness  \\\n",
       "0         0.484   0.192    2   -15.378     1       0.0465         0.991   \n",
       "\n",
       "   instrumentalness  liveness  valence    tempo            type  \\\n",
       "0             0.908     0.106   0.0559  100.084  audio_features   \n",
       "\n",
       "                       id                                   uri  \\\n",
       "0  4O2N861eOnF9q8EtpH8IJu  spotify:track:4O2N861eOnF9q8EtpH8IJu   \n",
       "\n",
       "                                          track_href  \\\n",
       "0  https://api.spotify.com/v1/tracks/4O2N861eOnF9...   \n",
       "\n",
       "                                        analysis_url  duration_ms  \\\n",
       "0  https://api.spotify.com/v1/audio-analysis/4O2N...       140733   \n",
       "\n",
       "   time_signature  \n",
       "0               4  "
      ]
     },
     "execution_count": 230,
     "metadata": {},
     "output_type": "execute_result"
    }
   ],
   "source": [
    "song = sp.search(q=\"comptine d'un autre été\", limit=1) \n",
    "\n",
    "#pprint.pprint(song['tracks']['items'][0]['uri'])\n",
    "\n",
    "song[\"tracks\"][\"items\"][0][\"uri\"]\n",
    "sp.audio_features(song[\"tracks\"][\"items\"][0][\"uri\"])[0]\n",
    "my_dict = sp.audio_features(song[\"tracks\"][\"items\"][0][\"uri\"])[0] # you can provide a list of uri's\n",
    "\n",
    "print(my_dict)\n",
    "my_dict_new = { key: [my_dict[key]] for key in list(my_dict.keys()) }\n",
    "#my_dict_new['name'] = [song[\"tracks\"][\"items\"][0]['name']]\n",
    "#print(my_dict_new)\n",
    "\n",
    "pd.DataFrame(my_dict_new)"
   ]
  },
  {
   "cell_type": "code",
   "execution_count": 231,
   "id": "cb48db0f",
   "metadata": {},
   "outputs": [],
   "source": [
    "song = sp.search(q=\"comptine d'un autre été\", limit=1) "
   ]
  },
  {
   "cell_type": "code",
   "execution_count": 235,
   "id": "4ba800dc",
   "metadata": {},
   "outputs": [
    {
     "data": {
      "text/plain": [
       "'spotify:track:4O2N861eOnF9q8EtpH8IJu'"
      ]
     },
     "execution_count": 235,
     "metadata": {},
     "output_type": "execute_result"
    }
   ],
   "source": [
    "song['tracks']['items'][0]['uri']"
   ]
  },
  {
   "cell_type": "code",
   "execution_count": 240,
   "id": "d9d72da3",
   "metadata": {},
   "outputs": [
    {
     "data": {
      "text/plain": [
       "{'danceability': 0.484,\n",
       " 'energy': 0.192,\n",
       " 'key': 2,\n",
       " 'loudness': -15.378,\n",
       " 'mode': 1,\n",
       " 'speechiness': 0.0465,\n",
       " 'acousticness': 0.991,\n",
       " 'instrumentalness': 0.908,\n",
       " 'liveness': 0.106,\n",
       " 'valence': 0.0559,\n",
       " 'tempo': 100.084,\n",
       " 'type': 'audio_features',\n",
       " 'id': '4O2N861eOnF9q8EtpH8IJu',\n",
       " 'uri': 'spotify:track:4O2N861eOnF9q8EtpH8IJu',\n",
       " 'track_href': 'https://api.spotify.com/v1/tracks/4O2N861eOnF9q8EtpH8IJu',\n",
       " 'analysis_url': 'https://api.spotify.com/v1/audio-analysis/4O2N861eOnF9q8EtpH8IJu',\n",
       " 'duration_ms': 140733,\n",
       " 'time_signature': 4}"
      ]
     },
     "execution_count": 240,
     "metadata": {},
     "output_type": "execute_result"
    }
   ],
   "source": [
    "sp.audio_features(song['tracks']['items'][0]['uri'])[0]"
   ]
  },
  {
   "cell_type": "code",
   "execution_count": null,
   "id": "168e9a33",
   "metadata": {},
   "outputs": [],
   "source": []
  },
  {
   "cell_type": "markdown",
   "id": "e2557032",
   "metadata": {},
   "source": []
  }
 ],
 "metadata": {
  "kernelspec": {
   "display_name": "Python 3",
   "language": "python",
   "name": "python3"
  },
  "language_info": {
   "codemirror_mode": {
    "name": "ipython",
    "version": 3
   },
   "file_extension": ".py",
   "mimetype": "text/x-python",
   "name": "python",
   "nbconvert_exporter": "python",
   "pygments_lexer": "ipython3",
   "version": "3.8.8"
  }
 },
 "nbformat": 4,
 "nbformat_minor": 5
}
