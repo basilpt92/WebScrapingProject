{
 "cells": [
  {
   "cell_type": "code",
   "execution_count": 85,
   "id": "5a4d5357",
   "metadata": {},
   "outputs": [],
   "source": [
    "from bs4 import BeautifulSoup\n",
    "import requests\n",
    "import json\n",
    "\n",
    "\n",
    "import spotipy\n",
    "from spotipy.oauth2 import SpotifyClientCredentials\n",
    "import config\n",
    "\n",
    "import pprint\n",
    "\n",
    "import random \n",
    "from time import sleep\n",
    "\n",
    "import pandas as pd"
   ]
  },
  {
   "cell_type": "code",
   "execution_count": 86,
   "id": "4da08b4a",
   "metadata": {},
   "outputs": [],
   "source": [
    "Client_ID = config.client_id\n",
    "Client_Secret = config.client_secret\n",
    "\n",
    "sp = spotipy.Spotify(auth_manager = SpotifyClientCredentials(client_id = Client_ID, client_secret = Client_Secret))"
   ]
  },
  {
   "cell_type": "markdown",
   "id": "4a24f7e9",
   "metadata": {},
   "source": [
    "# 100 Hot songs (Scraping the Billbord Website) \n",
    "### Scraping for 2021"
   ]
  },
  {
   "cell_type": "code",
   "execution_count": 248,
   "id": "edfe6066",
   "metadata": {},
   "outputs": [],
   "source": [
    "#------scrapping 2021 data-------#\n",
    "\n",
    "url = \"https://www.billboard.com/charts/hot-100\"\n",
    "response = requests.get(url)\n",
    "newest_soup = BeautifulSoup(response.content, 'html.parser')"
   ]
  },
  {
   "cell_type": "code",
   "execution_count": 249,
   "id": "678c4f8a",
   "metadata": {},
   "outputs": [
    {
     "data": {
      "text/plain": [
       "200"
      ]
     },
     "execution_count": 249,
     "metadata": {},
     "output_type": "execute_result"
    }
   ],
   "source": [
    "response.status_code"
   ]
  },
  {
   "cell_type": "code",
   "execution_count": 250,
   "id": "c67d835b",
   "metadata": {},
   "outputs": [],
   "source": [
    "#--------2021 song names--------#\n",
    "\n",
    "newest_song = newest_soup.select('span.chart-element__information__song.text--truncate.color--primary')\n",
    "newest_song = [t.text for t in newest_song]\n",
    "\n",
    "\n",
    "#--------2021 artist names--------#\n",
    "\n",
    "newest_artist = newest_soup.select('span.chart-element__information__artist.text--truncate.color--secondary')\n",
    "newest_artist = [t.text for t in newest_artist]"
   ]
  },
  {
   "cell_type": "code",
   "execution_count": 166,
   "id": "2182f4c3",
   "metadata": {},
   "outputs": [],
   "source": [
    "#------scrapping 2019,2020 data-------#\n",
    "\n",
    "str = 'https://www.billboard.com/charts/year-end/{}/hot-100-songs'\n",
    "years = [ 2006, 2007 ,2008, 2009, 2010,2011, 2012, 2013, 2014, 2015, 2016, 2017, 2018 ,2019, 2020]\n",
    "\n",
    "song_pool_soups = []\n",
    "artist_pool_soups = []\n",
    "\n",
    "for year in years:\n",
    "    url = str.format(year)\n",
    "    response = requests.get(url)\n",
    "    #print(response.status_code)\n",
    "    \n",
    "    soup = BeautifulSoup(response.content)\n",
    "    song_pool_soups.append(soup.find_all('div', class_ = 'ye-chart-item__title'))\n",
    "    artist_pool_soups.append(soup.find_all('div', class_ = 'ye-chart-item__artist'))\n",
    "    \n",
    "    \n",
    "    wait_time = random.randint(1,4)\n",
    "    sleep(wait_time)"
   ]
  },
  {
   "cell_type": "code",
   "execution_count": 167,
   "id": "0761d81e",
   "metadata": {},
   "outputs": [],
   "source": [
    "#------songs & artists 2006-2020------#\n",
    "\n",
    "for i in range(0,len(years)):\n",
    "    song_pool_soups[i] = [t.text.replace('\\n','') for t in song_pool_soups[i]]\n",
    "    artist_pool_soups[i] = [t.text.replace('\\n','') for t in artist_pool_soups[i]]    "
   ]
  },
  {
   "cell_type": "code",
   "execution_count": null,
   "id": "c39333dc",
   "metadata": {},
   "outputs": [],
   "source": [
    "#release_year = soup.find('span', class_ ='dropdown__year-select-date').get_text()\n",
    "#song_release_year = [2006]*100 + [2007]*100 + [2008]*100 + [2009]*100 + [2010]*100 + [2011]*100 + [2012]*100 + [2013]*100 + [2014]*100 + [2015]*100 + [2016]*100 + [2017]*100 + [2018]*100 + [2019]*100 + [2020]*100 + [2021]*100"
   ]
  },
  {
   "cell_type": "code",
   "execution_count": 168,
   "id": "67590f07",
   "metadata": {},
   "outputs": [],
   "source": [
    "#----------concatinate the 2006-2020 years data together----------#\n",
    "\n",
    "song_name = []\n",
    "song_artist = []\n",
    "\n",
    "for i in range(0,len(older_song_soups)):\n",
    "    song_name += older_song_soups[i]\n",
    "    song_artist += older_artist_soups[i]"
   ]
  },
  {
   "cell_type": "code",
   "execution_count": 256,
   "id": "21201612",
   "metadata": {},
   "outputs": [
    {
     "data": {
      "text/html": [
       "<div>\n",
       "<style scoped>\n",
       "    .dataframe tbody tr th:only-of-type {\n",
       "        vertical-align: middle;\n",
       "    }\n",
       "\n",
       "    .dataframe tbody tr th {\n",
       "        vertical-align: top;\n",
       "    }\n",
       "\n",
       "    .dataframe thead th {\n",
       "        text-align: right;\n",
       "    }\n",
       "</style>\n",
       "<table border=\"1\" class=\"dataframe\">\n",
       "  <thead>\n",
       "    <tr style=\"text-align: right;\">\n",
       "      <th></th>\n",
       "      <th>song_name</th>\n",
       "      <th>artist</th>\n",
       "    </tr>\n",
       "  </thead>\n",
       "  <tbody>\n",
       "    <tr>\n",
       "      <th>0</th>\n",
       "      <td>Way 2 Sexy</td>\n",
       "      <td>Drake Featuring Future &amp; Young Thug</td>\n",
       "    </tr>\n",
       "    <tr>\n",
       "      <th>1</th>\n",
       "      <td>Girls Want Girls</td>\n",
       "      <td>Drake Featuring Lil Baby</td>\n",
       "    </tr>\n",
       "    <tr>\n",
       "      <th>2</th>\n",
       "      <td>Fair Trade</td>\n",
       "      <td>Drake Featuring Travis Scott</td>\n",
       "    </tr>\n",
       "    <tr>\n",
       "      <th>3</th>\n",
       "      <td>Champagne Poetry</td>\n",
       "      <td>Drake</td>\n",
       "    </tr>\n",
       "    <tr>\n",
       "      <th>4</th>\n",
       "      <td>Knife Talk</td>\n",
       "      <td>Drake Featuring 21 Savage &amp; Project Pat</td>\n",
       "    </tr>\n",
       "  </tbody>\n",
       "</table>\n",
       "</div>"
      ],
      "text/plain": [
       "          song_name                                   artist\n",
       "0        Way 2 Sexy      Drake Featuring Future & Young Thug\n",
       "1  Girls Want Girls                 Drake Featuring Lil Baby\n",
       "2        Fair Trade             Drake Featuring Travis Scott\n",
       "3  Champagne Poetry                                    Drake\n",
       "4        Knife Talk  Drake Featuring 21 Savage & Project Pat"
      ]
     },
     "execution_count": 256,
     "metadata": {},
     "output_type": "execute_result"
    }
   ],
   "source": [
    "#-----current hot topic dataframe 2021----------#\n",
    "\n",
    "df_current = pd.DataFrame({'song_name': newest_song, 'artist': newest_artist})\n",
    "df_current.head(5)"
   ]
  },
  {
   "cell_type": "code",
   "execution_count": 292,
   "id": "c24dddc9",
   "metadata": {},
   "outputs": [
    {
     "data": {
      "text/html": [
       "<div>\n",
       "<style scoped>\n",
       "    .dataframe tbody tr th:only-of-type {\n",
       "        vertical-align: middle;\n",
       "    }\n",
       "\n",
       "    .dataframe tbody tr th {\n",
       "        vertical-align: top;\n",
       "    }\n",
       "\n",
       "    .dataframe thead th {\n",
       "        text-align: right;\n",
       "    }\n",
       "</style>\n",
       "<table border=\"1\" class=\"dataframe\">\n",
       "  <thead>\n",
       "    <tr style=\"text-align: right;\">\n",
       "      <th></th>\n",
       "      <th>song_name</th>\n",
       "      <th>artist</th>\n",
       "    </tr>\n",
       "  </thead>\n",
       "  <tbody>\n",
       "    <tr>\n",
       "      <th>0</th>\n",
       "      <td>Bad Day</td>\n",
       "      <td>Daniel Powter</td>\n",
       "    </tr>\n",
       "    <tr>\n",
       "      <th>1</th>\n",
       "      <td>Temperature</td>\n",
       "      <td>Sean Paul</td>\n",
       "    </tr>\n",
       "    <tr>\n",
       "      <th>2</th>\n",
       "      <td>Promiscuous</td>\n",
       "      <td>Nelly Furtado Featuring Timbaland</td>\n",
       "    </tr>\n",
       "    <tr>\n",
       "      <th>3</th>\n",
       "      <td>You're Beautiful</td>\n",
       "      <td>James Blunt</td>\n",
       "    </tr>\n",
       "    <tr>\n",
       "      <th>4</th>\n",
       "      <td>Hips Don't Lie</td>\n",
       "      <td>Shakira Featuring Wyclef Jean</td>\n",
       "    </tr>\n",
       "    <tr>\n",
       "      <th>5</th>\n",
       "      <td>Unwritten</td>\n",
       "      <td>Natasha Bedingfield</td>\n",
       "    </tr>\n",
       "    <tr>\n",
       "      <th>6</th>\n",
       "      <td>Crazy</td>\n",
       "      <td>Gnarls Barkley</td>\n",
       "    </tr>\n",
       "    <tr>\n",
       "      <th>7</th>\n",
       "      <td>Ridin'</td>\n",
       "      <td>Chamillionaire Featuring Krayzie Bone</td>\n",
       "    </tr>\n",
       "    <tr>\n",
       "      <th>8</th>\n",
       "      <td>SexyBack</td>\n",
       "      <td>Justin Timberlake</td>\n",
       "    </tr>\n",
       "    <tr>\n",
       "      <th>9</th>\n",
       "      <td>Check On It</td>\n",
       "      <td>Beyonce Featuring Slim Thug</td>\n",
       "    </tr>\n",
       "    <tr>\n",
       "      <th>10</th>\n",
       "      <td>Be Without You</td>\n",
       "      <td>Mary J. Blige</td>\n",
       "    </tr>\n",
       "    <tr>\n",
       "      <th>11</th>\n",
       "      <td>Grillz</td>\n",
       "      <td>Nelly Featuring Paul Wall, Ali &amp; Gipp</td>\n",
       "    </tr>\n",
       "    <tr>\n",
       "      <th>12</th>\n",
       "      <td>Over My Head (Cable Car)</td>\n",
       "      <td>The Fray</td>\n",
       "    </tr>\n",
       "    <tr>\n",
       "      <th>13</th>\n",
       "      <td>Me &amp; U</td>\n",
       "      <td>Cassie</td>\n",
       "    </tr>\n",
       "    <tr>\n",
       "      <th>14</th>\n",
       "      <td>Buttons</td>\n",
       "      <td>The Pussycat Dolls Featuring Snoop Dogg</td>\n",
       "    </tr>\n",
       "    <tr>\n",
       "      <th>15</th>\n",
       "      <td>Run It!</td>\n",
       "      <td>Chris Brown</td>\n",
       "    </tr>\n",
       "    <tr>\n",
       "      <th>16</th>\n",
       "      <td>So Sick</td>\n",
       "      <td>Ne-Yo</td>\n",
       "    </tr>\n",
       "    <tr>\n",
       "      <th>17</th>\n",
       "      <td>It's Goin' Down</td>\n",
       "      <td>Yung Joc</td>\n",
       "    </tr>\n",
       "    <tr>\n",
       "      <th>18</th>\n",
       "      <td>SOS</td>\n",
       "      <td>Rihanna</td>\n",
       "    </tr>\n",
       "    <tr>\n",
       "      <th>19</th>\n",
       "      <td>I Write Sins Not Tragedies</td>\n",
       "      <td>Panic! At The Disco</td>\n",
       "    </tr>\n",
       "  </tbody>\n",
       "</table>\n",
       "</div>"
      ],
      "text/plain": [
       "                     song_name                                   artist\n",
       "0                      Bad Day                            Daniel Powter\n",
       "1                  Temperature                                Sean Paul\n",
       "2                  Promiscuous        Nelly Furtado Featuring Timbaland\n",
       "3             You're Beautiful                              James Blunt\n",
       "4               Hips Don't Lie            Shakira Featuring Wyclef Jean\n",
       "5                    Unwritten                      Natasha Bedingfield\n",
       "6                        Crazy                           Gnarls Barkley\n",
       "7                       Ridin'    Chamillionaire Featuring Krayzie Bone\n",
       "8                     SexyBack                        Justin Timberlake\n",
       "9                  Check On It              Beyonce Featuring Slim Thug\n",
       "10              Be Without You                            Mary J. Blige\n",
       "11                      Grillz    Nelly Featuring Paul Wall, Ali & Gipp\n",
       "12    Over My Head (Cable Car)                                 The Fray\n",
       "13                      Me & U                                   Cassie\n",
       "14                     Buttons  The Pussycat Dolls Featuring Snoop Dogg\n",
       "15                     Run It!                              Chris Brown\n",
       "16                     So Sick                                    Ne-Yo\n",
       "17             It's Goin' Down                                 Yung Joc\n",
       "18                         SOS                                  Rihanna\n",
       "19  I Write Sins Not Tragedies                      Panic! At The Disco"
      ]
     },
     "execution_count": 292,
     "metadata": {},
     "output_type": "execute_result"
    }
   ],
   "source": [
    "#----- hot topic dataframe 2006-2020----------#\n",
    "\n",
    "df = pd.DataFrame({'song_name': song_name, 'artist': song_artist})\n",
    "df.head(20)"
   ]
  },
  {
   "cell_type": "code",
   "execution_count": 257,
   "id": "f2342218",
   "metadata": {},
   "outputs": [],
   "source": [
    "#---------Making the dataframe content lowercase-----------#\n",
    "\n",
    "df_current[\"song_name\"] = df_current[\"song_name\"].apply(lambda x: x.lower())\n",
    "df_current[\"artist\"] = df_current[\"artist\"].apply(lambda x: x.lower())"
   ]
  },
  {
   "cell_type": "code",
   "execution_count": 258,
   "id": "c4a2a875",
   "metadata": {},
   "outputs": [],
   "source": [
    "#--------maching sequence of input with hot songs------------#\n",
    "\n",
    "from difflib import SequenceMatcher \n",
    "\n",
    "similarity = []\n",
    "def similar(a):\n",
    "    for i in range (0,len(newest_song)):\n",
    "        similarity.append(SequenceMatcher(None, a, newest_song[i]).ratio())\n",
    "        most_similar = similarity.index(max(similarity))\n",
    "    return newest_song[most_similar]           "
   ]
  },
  {
   "cell_type": "code",
   "execution_count": 259,
   "id": "16e7f63e",
   "metadata": {},
   "outputs": [],
   "source": [
    "#--------Taking input ------------#\n",
    "\n",
    "def user_song():\n",
    "    input_song = input('Enter Your Favorite Song: ')\n",
    "    \n",
    "    similarity = []\n",
    "    if input_song.lower() in df_current.song_name.values:\n",
    "        print('The recommended song for you is: ',random.choice(df_current['song_name']),'\\n')\n",
    "            \n",
    "    elif similar(input_song.lower()) in df_current.song_name.values:\n",
    "        print('Do you mean: ', similar(input_song.lower()))\n",
    "        user_song()\n",
    "    \n",
    "    else:\n",
    "        print('Sorry, Pick another song\\n')\n",
    "        user_song()"
   ]
  },
  {
   "cell_type": "code",
   "execution_count": null,
   "id": "8b8df982",
   "metadata": {},
   "outputs": [],
   "source": [
    "user_song()"
   ]
  },
  {
   "cell_type": "code",
   "execution_count": 242,
   "id": "5cac60b3",
   "metadata": {},
   "outputs": [],
   "source": [
    "#----------extracting playlists from spotify API---------#\n",
    "\n",
    "\n",
    "cats = [cat['id'] for cat in sp.categories()['categories']['items']]\n"
   ]
  },
  {
   "cell_type": "code",
   "execution_count": 247,
   "id": "ac95e0cc",
   "metadata": {},
   "outputs": [
    {
     "data": {
      "text/plain": [
       "'alternative'"
      ]
     },
     "execution_count": 247,
     "metadata": {},
     "output_type": "execute_result"
    }
   ],
   "source": [
    "cats.pop(8)"
   ]
  },
  {
   "cell_type": "code",
   "execution_count": 248,
   "id": "b61b714b",
   "metadata": {
    "scrolled": true
   },
   "outputs": [],
   "source": [
    "#-----------determining the id of the playlists --------#\n",
    "\n",
    "playlist_ids = []\n",
    "cats = [cat['id'] for cat in sp.categories()['categories']['items']]\n",
    "\n",
    "for i in range(0,len(cats)):\n",
    "    playlist_ids.append(sp.category_playlists(cats[i])['playlists']['items'][0]['id'])\n",
    "    \n",
    "    wait_time = random.randint(1,3)\n",
    "    sleep(wait_time)"
   ]
  },
  {
   "cell_type": "code",
   "execution_count": 249,
   "id": "15fb7196",
   "metadata": {},
   "outputs": [
    {
     "data": {
      "text/plain": [
       "['37i9dQZF1DXcBWIGoYBM5M',\n",
       " '37i9dQZF1DWTLSN7iG21yC',\n",
       " '37i9dQZF1DXcBWIGoYBM5M',\n",
       " '37i9dQZF1DWU8quswnFt3c',\n",
       " '37i9dQZF1DX3rxVfibe1L0',\n",
       " '37i9dQZF1DX4UtSsGT1Sbe',\n",
       " '37i9dQZF1DX0XUsuxWHRQd',\n",
       " '37i9dQZF1DX0BxHamIEkKV',\n",
       " '37i9dQZF1DWVgsJtp58d1t',\n",
       " '37i9dQZF1DWTyiBJ6yEqeu',\n",
       " '37i9dQZF1DX9uKNf5jGX6m',\n",
       " '37i9dQZF1DX76Wlfdnj7AP',\n",
       " '37i9dQZF1DX4WYpdgoIcn6',\n",
       " '37i9dQZF1DX4sWSpwq3LiO',\n",
       " '37i9dQZF1DXdbkmlag2h7b',\n",
       " '37i9dQZF1DXaXB8fQg7xif',\n",
       " '37i9dQZF1DXdTCdwCKzXwo',\n",
       " '37i9dQZF1DWTcqUzwhNmKv',\n",
       " '37i9dQZF1DWViUlcvfltyZ',\n",
       " '37i9dQZF1DX2ENAPP1Tyed']"
      ]
     },
     "execution_count": 249,
     "metadata": {},
     "output_type": "execute_result"
    }
   ],
   "source": [
    "playlist_ids"
   ]
  },
  {
   "cell_type": "code",
   "execution_count": 251,
   "id": "d2ff8416",
   "metadata": {},
   "outputs": [
    {
     "data": {
      "text/plain": [
       "20"
      ]
     },
     "execution_count": 251,
     "metadata": {},
     "output_type": "execute_result"
    }
   ],
   "source": [
    "len(playlist_ids)"
   ]
  },
  {
   "cell_type": "code",
   "execution_count": 274,
   "id": "114f422b",
   "metadata": {},
   "outputs": [
    {
     "data": {
      "text/plain": [
       "150"
      ]
     },
     "execution_count": 274,
     "metadata": {},
     "output_type": "execute_result"
    }
   ],
   "source": [
    "len(get_playlist_tracks('breezz', playlist_ids[5]))"
   ]
  },
  {
   "cell_type": "code",
   "execution_count": 31,
   "id": "d5aca071",
   "metadata": {},
   "outputs": [],
   "source": [
    "def get_playlist_tracks(username ,playlist_id):\n",
    "    results = sp.user_playlist_tracks(username,playlist_id)\n",
    "    tracks = results['items']\n",
    "    while results['next']:\n",
    "        results = sp.next(results)\n",
    "        tracks.extend(results['items'])\n",
    "    return tracks"
   ]
  },
  {
   "cell_type": "code",
   "execution_count": 276,
   "id": "67d00bf6",
   "metadata": {},
   "outputs": [],
   "source": [
    "#-----------determining the tracks'name, artists'name and uri for all the tracks in the playlists --------#\n",
    "\n",
    "track_names = []                      \n",
    "track_artist = []\n",
    "track_uri = []                           \n",
    "\n",
    "for i in range(5,6):\n",
    "    tracks = get_playlist_tracks('breezz', playlist_ids[i])\n",
    "    \n",
    "    for j in range(0,len(tracks)):\n",
    "        track_names.append(tracks[j]['track']['name'])\n",
    "        track_uri.append(tracks[j]['track']['uri'])\n",
    "        \n",
    "        artist = tracks[j]['track']['artists']\n",
    "        artists = []\n",
    "        \n",
    "        for k in range(0, len(artist)):\n",
    "            artists.append(tracks[j]['track']['artists'][k]['name']) \n",
    "        \n",
    "        track_artist.append(\" & \".join(artists)) \n",
    "            \n",
    "        wait_time = random.randint(1,5)\n",
    "        sleep(wait_time)            "
   ]
  },
  {
   "cell_type": "code",
   "execution_count": 34,
   "id": "fe7c5d21",
   "metadata": {},
   "outputs": [
    {
     "data": {
      "text/plain": [
       "150"
      ]
     },
     "execution_count": 34,
     "metadata": {},
     "output_type": "execute_result"
    }
   ],
   "source": [
    "tracks = get_playlist_tracks('breezz', playlist_ids[0])\n",
    "len(tracks)"
   ]
  },
  {
   "cell_type": "code",
   "execution_count": 48,
   "id": "364c118d",
   "metadata": {},
   "outputs": [
    {
     "data": {
      "text/plain": [
       "['Hold On',\n",
       " 'Wonder',\n",
       " 'Beautiful Mistakes (feat. Megan Thee Stallion)',\n",
       " 'Glad You Exist',\n",
       " 'Our Song',\n",
       " 'Leave Before You Love Me (with Jonas Brothers)',\n",
       " 'imagine',\n",
       " 'dancing in the kitchen',\n",
       " 'if we never met (feat. Kelsea Ballerini)',\n",
       " 'Butterflies',\n",
       " 'What Other People Say',\n",
       " 'Summer of Love (Shawn Mendes & Tainy)',\n",
       " 'working',\n",
       " 'Wave of You',\n",
       " 'deja vu',\n",
       " 'I Should Probably Go To Bed',\n",
       " \"We're Good\",\n",
       " 'WITHOUT YOU (with Miley Cyrus)',\n",
       " 'Shivers',\n",
       " 'Remember This',\n",
       " 'Hold On',\n",
       " 'Wonder',\n",
       " 'Beautiful Mistakes (feat. Megan Thee Stallion)',\n",
       " 'Glad You Exist',\n",
       " 'Our Song',\n",
       " 'Leave Before You Love Me (with Jonas Brothers)',\n",
       " 'imagine',\n",
       " 'dancing in the kitchen',\n",
       " 'if we never met (feat. Kelsea Ballerini)',\n",
       " 'Butterflies',\n",
       " 'What Other People Say',\n",
       " 'Summer of Love (Shawn Mendes & Tainy)',\n",
       " 'working']"
      ]
     },
     "execution_count": 48,
     "metadata": {},
     "output_type": "execute_result"
    }
   ],
   "source": [
    "track_names"
   ]
  },
  {
   "cell_type": "code",
   "execution_count": 277,
   "id": "0d5088f5",
   "metadata": {},
   "outputs": [],
   "source": [
    "#--------audio features---------#\n",
    "list_of_audio_feature_dict = []\n",
    "\n",
    "for i in range(0,len(track_uri)):\n",
    "    audio_feature_dict = sp.audio_features(track_uri[i])[0]\n",
    "    list_of_audio_feature_dict.append(audio_feature_dict)\n",
    "    \n",
    "    wait_time = random.randint(1,3)\n",
    "    sleep(wait_time) \n"
   ]
  },
  {
   "cell_type": "code",
   "execution_count": 169,
   "id": "c9bb11a9",
   "metadata": {},
   "outputs": [
    {
     "data": {
      "text/plain": [
       "0"
      ]
     },
     "execution_count": 169,
     "metadata": {},
     "output_type": "execute_result"
    }
   ],
   "source": [
    "len(list_of_audio_feature_dict)"
   ]
  },
  {
   "cell_type": "code",
   "execution_count": 144,
   "id": "7cf397e5",
   "metadata": {},
   "outputs": [],
   "source": []
  },
  {
   "cell_type": "code",
   "execution_count": 145,
   "id": "d828166a",
   "metadata": {},
   "outputs": [
    {
     "data": {
      "text/plain": [
       "[{'danceability': 0.605,\n",
       "  'energy': 0.377,\n",
       "  'key': 11,\n",
       "  'loudness': -6.213,\n",
       "  'mode': 1,\n",
       "  'speechiness': 0.0443,\n",
       "  'acousticness': 0.733,\n",
       "  'instrumentalness': 0,\n",
       "  'liveness': 0.0808,\n",
       "  'valence': 0.519,\n",
       "  'tempo': 73.877,\n",
       "  'type': 'audio_features',\n",
       "  'id': '3H3r2nKWa3Yk5gt8xgmsEt',\n",
       "  'uri': 'spotify:track:3H3r2nKWa3Yk5gt8xgmsEt',\n",
       "  'track_href': 'https://api.spotify.com/v1/tracks/3H3r2nKWa3Yk5gt8xgmsEt',\n",
       "  'analysis_url': 'https://api.spotify.com/v1/audio-analysis/3H3r2nKWa3Yk5gt8xgmsEt',\n",
       "  'duration_ms': 194853,\n",
       "  'time_signature': 4},\n",
       " {'danceability': 0.556,\n",
       "  'energy': 0.661,\n",
       "  'key': 6,\n",
       "  'loudness': -5.052,\n",
       "  'mode': 0,\n",
       "  'speechiness': 0.204,\n",
       "  'acousticness': 0.3,\n",
       "  'instrumentalness': 0,\n",
       "  'liveness': 0.101,\n",
       "  'valence': 0.668,\n",
       "  'tempo': 168.56,\n",
       "  'type': 'audio_features',\n",
       "  'id': '6PERP62TejQjgHu81OHxgM',\n",
       "  'uri': 'spotify:track:6PERP62TejQjgHu81OHxgM',\n",
       "  'track_href': 'https://api.spotify.com/v1/tracks/6PERP62TejQjgHu81OHxgM',\n",
       "  'analysis_url': 'https://api.spotify.com/v1/audio-analysis/6PERP62TejQjgHu81OHxgM',\n",
       "  'duration_ms': 178148,\n",
       "  'time_signature': 4},\n",
       " {'danceability': 0.63,\n",
       "  'energy': 0.633,\n",
       "  'key': 4,\n",
       "  'loudness': -7.088,\n",
       "  'mode': 1,\n",
       "  'speechiness': 0.0457,\n",
       "  'acousticness': 0.00776,\n",
       "  'instrumentalness': 0,\n",
       "  'liveness': 0.0541,\n",
       "  'valence': 0.452,\n",
       "  'tempo': 93.995,\n",
       "  'type': 'audio_features',\n",
       "  'id': '3Z8FwOEN59mRMxDCtb8N0A',\n",
       "  'uri': 'spotify:track:3Z8FwOEN59mRMxDCtb8N0A',\n",
       "  'track_href': 'https://api.spotify.com/v1/tracks/3Z8FwOEN59mRMxDCtb8N0A',\n",
       "  'analysis_url': 'https://api.spotify.com/v1/audio-analysis/3Z8FwOEN59mRMxDCtb8N0A',\n",
       "  'duration_ms': 172762,\n",
       "  'time_signature': 4},\n",
       " {'danceability': 0.664,\n",
       "  'energy': 0.721,\n",
       "  'key': 1,\n",
       "  'loudness': -8.712,\n",
       "  'mode': 1,\n",
       "  'speechiness': 0.0367,\n",
       "  'acousticness': 0.0563,\n",
       "  'instrumentalness': 0.000554,\n",
       "  'liveness': 0.0745,\n",
       "  'valence': 0.747,\n",
       "  'tempo': 120.99,\n",
       "  'type': 'audio_features',\n",
       "  'id': '5pbQaprwbDRlzXBo8xVnCo',\n",
       "  'uri': 'spotify:track:5pbQaprwbDRlzXBo8xVnCo',\n",
       "  'track_href': 'https://api.spotify.com/v1/tracks/5pbQaprwbDRlzXBo8xVnCo',\n",
       "  'analysis_url': 'https://api.spotify.com/v1/audio-analysis/5pbQaprwbDRlzXBo8xVnCo',\n",
       "  'duration_ms': 167960,\n",
       "  'time_signature': 4},\n",
       " {'danceability': 0.76,\n",
       "  'energy': 0.532,\n",
       "  'key': 0,\n",
       "  'loudness': -9.177,\n",
       "  'mode': 1,\n",
       "  'speechiness': 0.127,\n",
       "  'acousticness': 0.252,\n",
       "  'instrumentalness': 0,\n",
       "  'liveness': 0.252,\n",
       "  'valence': 0.5,\n",
       "  'tempo': 123.064,\n",
       "  'type': 'audio_features',\n",
       "  'id': '1BIKSPrF0M1U6u83MTKmDu',\n",
       "  'uri': 'spotify:track:1BIKSPrF0M1U6u83MTKmDu',\n",
       "  'track_href': 'https://api.spotify.com/v1/tracks/1BIKSPrF0M1U6u83MTKmDu',\n",
       "  'analysis_url': 'https://api.spotify.com/v1/audio-analysis/1BIKSPrF0M1U6u83MTKmDu',\n",
       "  'duration_ms': 181882,\n",
       "  'time_signature': 4},\n",
       " {'danceability': 0.653,\n",
       "  'energy': 0.667,\n",
       "  'key': 10,\n",
       "  'loudness': -6.764,\n",
       "  'mode': 0,\n",
       "  'speechiness': 0.0423,\n",
       "  'acousticness': 0.154,\n",
       "  'instrumentalness': 0,\n",
       "  'liveness': 0.107,\n",
       "  'valence': 0.556,\n",
       "  'tempo': 104.181,\n",
       "  'type': 'audio_features',\n",
       "  'id': '5hvwx5i67IwnCkjl9VHkNv',\n",
       "  'uri': 'spotify:track:5hvwx5i67IwnCkjl9VHkNv',\n",
       "  'track_href': 'https://api.spotify.com/v1/tracks/5hvwx5i67IwnCkjl9VHkNv',\n",
       "  'analysis_url': 'https://api.spotify.com/v1/audio-analysis/5hvwx5i67IwnCkjl9VHkNv',\n",
       "  'duration_ms': 213869,\n",
       "  'time_signature': 4},\n",
       " {'danceability': 0.628,\n",
       "  'energy': 0.877,\n",
       "  'key': 0,\n",
       "  'loudness': -4.205,\n",
       "  'mode': 1,\n",
       "  'speechiness': 0.046,\n",
       "  'acousticness': 0.0155,\n",
       "  'instrumentalness': 5.97e-06,\n",
       "  'liveness': 0.113,\n",
       "  'valence': 0.721,\n",
       "  'tempo': 101.992,\n",
       "  'type': 'audio_features',\n",
       "  'id': '5YqdiryRmdAzYFlxo43hAJ',\n",
       "  'uri': 'spotify:track:5YqdiryRmdAzYFlxo43hAJ',\n",
       "  'track_href': 'https://api.spotify.com/v1/tracks/5YqdiryRmdAzYFlxo43hAJ',\n",
       "  'analysis_url': 'https://api.spotify.com/v1/audio-analysis/5YqdiryRmdAzYFlxo43hAJ',\n",
       "  'duration_ms': 217408,\n",
       "  'time_signature': 4},\n",
       " {'danceability': 0.676,\n",
       "  'energy': 0.771,\n",
       "  'key': 8,\n",
       "  'loudness': -3.675,\n",
       "  'mode': 1,\n",
       "  'speechiness': 0.0483,\n",
       "  'acousticness': 0.0237,\n",
       "  'instrumentalness': 7e-06,\n",
       "  'liveness': 0.102,\n",
       "  'valence': 0.569,\n",
       "  'tempo': 99.048,\n",
       "  'type': 'audio_features',\n",
       "  'id': '3jjujdWJ72nww5eGnfs2E7',\n",
       "  'uri': 'spotify:track:3jjujdWJ72nww5eGnfs2E7',\n",
       "  'track_href': 'https://api.spotify.com/v1/tracks/3jjujdWJ72nww5eGnfs2E7',\n",
       "  'analysis_url': 'https://api.spotify.com/v1/audio-analysis/3jjujdWJ72nww5eGnfs2E7',\n",
       "  'duration_ms': 207133,\n",
       "  'time_signature': 4},\n",
       " {'danceability': 0.654,\n",
       "  'energy': 0.63,\n",
       "  'key': 10,\n",
       "  'loudness': -4.644,\n",
       "  'mode': 1,\n",
       "  'speechiness': 0.0259,\n",
       "  'acousticness': 0.153,\n",
       "  'instrumentalness': 0,\n",
       "  'liveness': 0.111,\n",
       "  'valence': 0.43,\n",
       "  'tempo': 89.991,\n",
       "  'type': 'audio_features',\n",
       "  'id': '2wrJq5XKLnmhRXHIAf9xBa',\n",
       "  'uri': 'spotify:track:2wrJq5XKLnmhRXHIAf9xBa',\n",
       "  'track_href': 'https://api.spotify.com/v1/tracks/2wrJq5XKLnmhRXHIAf9xBa',\n",
       "  'analysis_url': 'https://api.spotify.com/v1/audio-analysis/2wrJq5XKLnmhRXHIAf9xBa',\n",
       "  'duration_ms': 167693,\n",
       "  'time_signature': 4},\n",
       " {'danceability': 0.666,\n",
       "  'energy': 0.796,\n",
       "  'key': 10,\n",
       "  'loudness': -6.967,\n",
       "  'mode': 0,\n",
       "  'speechiness': 0.103,\n",
       "  'acousticness': 0.0492,\n",
       "  'instrumentalness': 0,\n",
       "  'liveness': 0.0442,\n",
       "  'valence': 0.61,\n",
       "  'tempo': 110.108,\n",
       "  'type': 'audio_features',\n",
       "  'id': '1058fW9H3fZA6QjYCdOBad',\n",
       "  'uri': 'spotify:track:1058fW9H3fZA6QjYCdOBad',\n",
       "  'track_href': 'https://api.spotify.com/v1/tracks/1058fW9H3fZA6QjYCdOBad',\n",
       "  'analysis_url': 'https://api.spotify.com/v1/audio-analysis/1058fW9H3fZA6QjYCdOBad',\n",
       "  'duration_ms': 164842,\n",
       "  'time_signature': 4}]"
      ]
     },
     "execution_count": 145,
     "metadata": {},
     "output_type": "execute_result"
    }
   ],
   "source": []
  },
  {
   "cell_type": "code",
   "execution_count": 278,
   "id": "7d424813",
   "metadata": {},
   "outputs": [],
   "source": [
    "df = pd.DataFrame(list_of_audio_feature_dict)"
   ]
  },
  {
   "cell_type": "code",
   "execution_count": 279,
   "id": "f682e9a2",
   "metadata": {},
   "outputs": [],
   "source": [
    "df['artist'] = track_artist"
   ]
  },
  {
   "cell_type": "code",
   "execution_count": 280,
   "id": "b723e883",
   "metadata": {},
   "outputs": [],
   "source": [
    "df['song_name'] = track_names"
   ]
  },
  {
   "cell_type": "code",
   "execution_count": 281,
   "id": "fd074a3a",
   "metadata": {},
   "outputs": [],
   "source": [
    "df.to_csv('audio_features_album9.csv', index = False)"
   ]
  },
  {
   "cell_type": "code",
   "execution_count": 282,
   "id": "2b424037",
   "metadata": {},
   "outputs": [
    {
     "name": "stdout",
     "output_type": "stream",
     "text": [
      "<class 'pandas.core.frame.DataFrame'>\n",
      "RangeIndex: 150 entries, 0 to 149\n",
      "Data columns (total 20 columns):\n",
      " #   Column            Non-Null Count  Dtype  \n",
      "---  ------            --------------  -----  \n",
      " 0   danceability      150 non-null    float64\n",
      " 1   energy            150 non-null    float64\n",
      " 2   key               150 non-null    int64  \n",
      " 3   loudness          150 non-null    float64\n",
      " 4   mode              150 non-null    int64  \n",
      " 5   speechiness       150 non-null    float64\n",
      " 6   acousticness      150 non-null    float64\n",
      " 7   instrumentalness  150 non-null    float64\n",
      " 8   liveness          150 non-null    float64\n",
      " 9   valence           150 non-null    float64\n",
      " 10  tempo             150 non-null    float64\n",
      " 11  type              150 non-null    object \n",
      " 12  id                150 non-null    object \n",
      " 13  uri               150 non-null    object \n",
      " 14  track_href        150 non-null    object \n",
      " 15  analysis_url      150 non-null    object \n",
      " 16  duration_ms       150 non-null    int64  \n",
      " 17  time_signature    150 non-null    int64  \n",
      " 18  artist            150 non-null    object \n",
      " 19  song_name         150 non-null    object \n",
      "dtypes: float64(9), int64(4), object(7)\n",
      "memory usage: 23.6+ KB\n"
     ]
    }
   ],
   "source": [
    "df.info()"
   ]
  },
  {
   "cell_type": "code",
   "execution_count": null,
   "id": "39dc9411",
   "metadata": {},
   "outputs": [],
   "source": []
  }
 ],
 "metadata": {
  "kernelspec": {
   "display_name": "Python 3",
   "language": "python",
   "name": "python3"
  },
  "language_info": {
   "codemirror_mode": {
    "name": "ipython",
    "version": 3
   },
   "file_extension": ".py",
   "mimetype": "text/x-python",
   "name": "python",
   "nbconvert_exporter": "python",
   "pygments_lexer": "ipython3",
   "version": "3.8.8"
  }
 },
 "nbformat": 4,
 "nbformat_minor": 5
}
