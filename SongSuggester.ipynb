{
 "cells": [
  {
   "cell_type": "code",
   "execution_count": 2,
   "id": "5a4d5357",
   "metadata": {},
   "outputs": [],
   "source": [
    "from bs4 import BeautifulSoup\n",
    "import requests\n",
    "\n",
    "from random import randint\n",
    "from time import sleep\n",
    "\n",
    "import pandas as pd"
   ]
  },
  {
   "cell_type": "markdown",
   "id": "8a23e260",
   "metadata": {},
   "source": [
    "## Scraping the Billbord Website for 100 Hot songs"
   ]
  },
  {
   "cell_type": "code",
   "execution_count": 11,
   "id": "5b827198",
   "metadata": {},
   "outputs": [],
   "source": [
    "#------scrapping 2021 data-------#\n",
    "\n",
    "url = \"https://www.billboard.com/charts/hot-100\"\n",
    "response = requests.get(url)\n",
    "newest_soup = BeautifulSoup(response.content, 'html.parser')"
   ]
  },
  {
   "cell_type": "code",
   "execution_count": null,
   "id": "f04767b0",
   "metadata": {},
   "outputs": [],
   "source": [
    "response.status_code"
   ]
  },
  {
   "cell_type": "code",
   "execution_count": 17,
   "id": "540458f2",
   "metadata": {},
   "outputs": [],
   "source": [
    "#--------2021 song names--------#\n",
    "\n",
    "newest_name = newest_soup.select('span.chart-element__information__song.text--truncate.color--primary')\n",
    "newest_name = [t.text for t in newest_name]\n",
    "#newest_name"
   ]
  },
  {
   "cell_type": "code",
   "execution_count": 20,
   "id": "4dfce02e",
   "metadata": {},
   "outputs": [],
   "source": [
    "#--------2021 artist names--------#\n",
    "\n",
    "newest_artist = newest_soup.select('span.chart-element__information__artist.text--truncate.color--secondary')\n",
    "newest_artist = [t.text for t in newest_artist]\n",
    "#newest_artist"
   ]
  },
  {
   "cell_type": "code",
   "execution_count": 34,
   "id": "24f820db",
   "metadata": {},
   "outputs": [],
   "source": [
    "#------scrapping 2019,2020 data-------#\n",
    "\n",
    "str = 'https://www.billboard.com/charts/year-end/{}/hot-100-songs'\n",
    "years = [2019, 2020]\n",
    "\n",
    "older_song_soups = []\n",
    "older_artist_soups = []\n",
    "\n",
    "for year in years:\n",
    "    url = str.format(year)\n",
    "    response = requests.get(url)\n",
    "    #print(response.status_code)\n",
    "    \n",
    "    soup = BeautifulSoup(response.content)\n",
    "    older_song_soups.append(soup.find_all('div', class_ = 'ye-chart-item__title'))\n",
    "    older_artist_soups.append(soup.find_all('div', class_ = 'ye-chart-item__artist'))\n",
    "    \n",
    "    \n",
    "    wait_time = randint(1,4)\n",
    "    sleep(wait_time)"
   ]
  },
  {
   "cell_type": "code",
   "execution_count": 35,
   "id": "52e94c27",
   "metadata": {},
   "outputs": [],
   "source": [
    "#------songs 2019------#\n",
    "older_song_soups[0] = [t.text.replace('\\n','') for t in older_song_soups[0]]\n",
    "\n",
    "#------2020------#\n",
    "older_song_soups[1] = [t.text.replace('\\n','') for t in older_song_soups[1]]"
   ]
  },
  {
   "cell_type": "code",
   "execution_count": 37,
   "id": "80bd8635",
   "metadata": {},
   "outputs": [],
   "source": [
    "#------artists 2019------#\n",
    "older_artist_soups[0] = [t.text.replace('\\n','') for t in older_artist_soups[0]]\n",
    "\n",
    "#------2020------#\n",
    "older_artist_soups[1] = [t.text.replace('\\n','') for t in older_artist_soups[1]]"
   ]
  },
  {
   "cell_type": "code",
   "execution_count": null,
   "id": "c7e2c343",
   "metadata": {},
   "outputs": [],
   "source": [
    "#release_year = soup.find('span', class_ ='dropdown__year-select-date').get_text()"
   ]
  },
  {
   "cell_type": "code",
   "execution_count": 43,
   "id": "67590f07",
   "metadata": {},
   "outputs": [],
   "source": [
    "#----------concatinate the 3 years data together----------#\n",
    "\n",
    "song_name = older_song_soups[0] + older_song_soups[1] + newest_name\n",
    "song_artist = older_artist_soups[0] + older_artist_soups[1] + newest_artist\n",
    "song_release_year = [2019]*100 + [2020]*100 + [2021]*100"
   ]
  },
  {
   "cell_type": "code",
   "execution_count": 45,
   "id": "c24dddc9",
   "metadata": {},
   "outputs": [
    {
     "data": {
      "text/html": [
       "<div>\n",
       "<style scoped>\n",
       "    .dataframe tbody tr th:only-of-type {\n",
       "        vertical-align: middle;\n",
       "    }\n",
       "\n",
       "    .dataframe tbody tr th {\n",
       "        vertical-align: top;\n",
       "    }\n",
       "\n",
       "    .dataframe thead th {\n",
       "        text-align: right;\n",
       "    }\n",
       "</style>\n",
       "<table border=\"1\" class=\"dataframe\">\n",
       "  <thead>\n",
       "    <tr style=\"text-align: right;\">\n",
       "      <th></th>\n",
       "      <th>song_name</th>\n",
       "      <th>artist</th>\n",
       "      <th>release_year</th>\n",
       "    </tr>\n",
       "  </thead>\n",
       "  <tbody>\n",
       "    <tr>\n",
       "      <th>0</th>\n",
       "      <td>Old Town Road</td>\n",
       "      <td>Lil Nas X Featuring Billy Ray Cyrus</td>\n",
       "      <td>2019</td>\n",
       "    </tr>\n",
       "    <tr>\n",
       "      <th>1</th>\n",
       "      <td>Sunflower (Spider-Man: Into The Spider-Verse)</td>\n",
       "      <td>Post Malone &amp; Swae Lee</td>\n",
       "      <td>2019</td>\n",
       "    </tr>\n",
       "    <tr>\n",
       "      <th>2</th>\n",
       "      <td>Without Me</td>\n",
       "      <td>Halsey</td>\n",
       "      <td>2019</td>\n",
       "    </tr>\n",
       "    <tr>\n",
       "      <th>3</th>\n",
       "      <td>Bad Guy</td>\n",
       "      <td>Billie Eilish</td>\n",
       "      <td>2019</td>\n",
       "    </tr>\n",
       "    <tr>\n",
       "      <th>4</th>\n",
       "      <td>Wow.</td>\n",
       "      <td>Post Malone</td>\n",
       "      <td>2019</td>\n",
       "    </tr>\n",
       "    <tr>\n",
       "      <th>...</th>\n",
       "      <td>...</td>\n",
       "      <td>...</td>\n",
       "      <td>...</td>\n",
       "    </tr>\n",
       "    <tr>\n",
       "      <th>295</th>\n",
       "      <td>Summer Of Love</td>\n",
       "      <td>Shawn Mendes &amp; Tainy</td>\n",
       "      <td>2021</td>\n",
       "    </tr>\n",
       "    <tr>\n",
       "      <th>296</th>\n",
       "      <td>Ain't Shit</td>\n",
       "      <td>Doja Cat</td>\n",
       "      <td>2021</td>\n",
       "    </tr>\n",
       "    <tr>\n",
       "      <th>297</th>\n",
       "      <td>Motley Crew</td>\n",
       "      <td>Post Malone</td>\n",
       "      <td>2021</td>\n",
       "    </tr>\n",
       "    <tr>\n",
       "      <th>298</th>\n",
       "      <td>Remote Control</td>\n",
       "      <td>Kanye West</td>\n",
       "      <td>2021</td>\n",
       "    </tr>\n",
       "    <tr>\n",
       "      <th>299</th>\n",
       "      <td>Baddest</td>\n",
       "      <td>Yung Bleu, Chris Brown &amp; 2 Chainz</td>\n",
       "      <td>2021</td>\n",
       "    </tr>\n",
       "  </tbody>\n",
       "</table>\n",
       "<p>300 rows × 3 columns</p>\n",
       "</div>"
      ],
      "text/plain": [
       "                                         song_name  \\\n",
       "0                                    Old Town Road   \n",
       "1    Sunflower (Spider-Man: Into The Spider-Verse)   \n",
       "2                                       Without Me   \n",
       "3                                          Bad Guy   \n",
       "4                                             Wow.   \n",
       "..                                             ...   \n",
       "295                                 Summer Of Love   \n",
       "296                                     Ain't Shit   \n",
       "297                                    Motley Crew   \n",
       "298                                 Remote Control   \n",
       "299                                        Baddest   \n",
       "\n",
       "                                  artist  release_year  \n",
       "0    Lil Nas X Featuring Billy Ray Cyrus          2019  \n",
       "1                 Post Malone & Swae Lee          2019  \n",
       "2                                 Halsey          2019  \n",
       "3                          Billie Eilish          2019  \n",
       "4                            Post Malone          2019  \n",
       "..                                   ...           ...  \n",
       "295                 Shawn Mendes & Tainy          2021  \n",
       "296                             Doja Cat          2021  \n",
       "297                          Post Malone          2021  \n",
       "298                           Kanye West          2021  \n",
       "299    Yung Bleu, Chris Brown & 2 Chainz          2021  \n",
       "\n",
       "[300 rows x 3 columns]"
      ]
     },
     "execution_count": 45,
     "metadata": {},
     "output_type": "execute_result"
    }
   ],
   "source": [
    "df = pd.DataFrame({'song_name': song_name, 'artist': song_artist, 'release_year': song_release_year})\n",
    "df"
   ]
  },
  {
   "cell_type": "code",
   "execution_count": null,
   "id": "a2380714",
   "metadata": {},
   "outputs": [],
   "source": [
    "#Making it lowercase\n",
    "df[\"song_name\"] = df[\"song_name\"].apply(lambda x: x.lower())\n",
    "df[\"artist\"] = df[\"artist\"].apply(lambda x: x.lower())\n",
    "df[\"release_year\"] = df[\"release_year\"].apply(lambda x: x.lower())"
   ]
  },
  {
   "cell_type": "code",
   "execution_count": null,
   "id": "6d141bb1",
   "metadata": {},
   "outputs": [],
   "source": [
    "def user_song():\n",
    "    your_song=input(\"Your Favorite Song?\")\n",
    "    if your_song in df.song_name.values:\n",
    "        print('The recommended songs are :',random.choice(df['song_name']))\n",
    "    else:\n",
    "        print('Sorry, Pick another song')"
   ]
  },
  {
   "cell_type": "code",
   "execution_count": null,
   "id": "2b7e3710",
   "metadata": {},
   "outputs": [],
   "source": []
  },
  {
   "cell_type": "code",
   "execution_count": null,
   "id": "ffba0179",
   "metadata": {},
   "outputs": [],
   "source": []
  },
  {
   "cell_type": "code",
   "execution_count": 33,
   "id": "63909c85",
   "metadata": {},
   "outputs": [
    {
     "name": "stdout",
     "output_type": "stream",
     "text": [
      "Enter your song name:\n",
      "Wow.\n"
     ]
    }
   ],
   "source": [
    "print('Enter your song name:')\n",
    "input_song = input()"
   ]
  },
  {
   "cell_type": "code",
   "execution_count": 40,
   "id": "168e9a33",
   "metadata": {},
   "outputs": [
    {
     "name": "stdout",
     "output_type": "stream",
     "text": [
      "yes\n"
     ]
    }
   ],
   "source": [
    "for i in range(len(df)):\n",
    "    if input_song == df['song_name'][i]:\n",
    "        print('yes')\n",
    "#    else:\n",
    "#        print('No')"
   ]
  },
  {
   "cell_type": "code",
   "execution_count": 27,
   "id": "a3f8bf52",
   "metadata": {},
   "outputs": [
    {
     "data": {
      "text/plain": [
       "'Old Town Road'"
      ]
     },
     "execution_count": 27,
     "metadata": {},
     "output_type": "execute_result"
    }
   ],
   "source": [
    "df['song_name'][0]"
   ]
  },
  {
   "cell_type": "markdown",
   "id": "e2557032",
   "metadata": {},
   "source": []
  }
 ],
 "metadata": {
  "kernelspec": {
   "display_name": "Python 3",
   "language": "python",
   "name": "python3"
  },
  "language_info": {
   "codemirror_mode": {
    "name": "ipython",
    "version": 3
   },
   "file_extension": ".py",
   "mimetype": "text/x-python",
   "name": "python",
   "nbconvert_exporter": "python",
   "pygments_lexer": "ipython3",
   "version": "3.8.8"
  }
 },
 "nbformat": 4,
 "nbformat_minor": 5
}
