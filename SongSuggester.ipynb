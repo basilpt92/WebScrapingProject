{
 "cells": [
  {
   "cell_type": "code",
   "execution_count": 71,
   "id": "5a4d5357",
   "metadata": {},
   "outputs": [],
   "source": [
    "from bs4 import BeautifulSoup\n",
    "import requests\n",
    "\n",
    "import random \n",
    "from time import sleep\n",
    "\n",
    "import pandas as pd"
   ]
  },
  {
   "cell_type": "markdown",
   "id": "4a24f7e9",
   "metadata": {},
   "source": [
    "## Scraping the Billbord Website for 100 Hot songs"
   ]
  },
  {
   "cell_type": "code",
   "execution_count": 11,
   "id": "edfe6066",
   "metadata": {},
   "outputs": [],
   "source": [
    "#------scrapping 2021 data-------#\n",
    "\n",
    "url = \"https://www.billboard.com/charts/hot-100\"\n",
    "response = requests.get(url)\n",
    "newest_soup = BeautifulSoup(response.content, 'html.parser')"
   ]
  },
  {
   "cell_type": "code",
   "execution_count": null,
   "id": "678c4f8a",
   "metadata": {},
   "outputs": [],
   "source": [
    "response.status_code"
   ]
  },
  {
   "cell_type": "code",
   "execution_count": 17,
   "id": "c67d835b",
   "metadata": {},
   "outputs": [],
   "source": [
    "#--------2021 song names--------#\n",
    "\n",
    "newest_name = newest_soup.select('span.chart-element__information__song.text--truncate.color--primary')\n",
    "newest_name = [t.text for t in newest_name]\n",
    "#newest_name"
   ]
  },
  {
   "cell_type": "code",
   "execution_count": 20,
   "id": "619c760c",
   "metadata": {},
   "outputs": [],
   "source": [
    "#--------2021 artist names--------#\n",
    "\n",
    "newest_artist = newest_soup.select('span.chart-element__information__artist.text--truncate.color--secondary')\n",
    "newest_artist = [t.text for t in newest_artist]\n",
    "#newest_artist"
   ]
  },
  {
   "cell_type": "code",
   "execution_count": 34,
   "id": "2182f4c3",
   "metadata": {},
   "outputs": [],
   "source": [
    "#------scrapping 2019,2020 data-------#\n",
    "\n",
    "str = 'https://www.billboard.com/charts/year-end/{}/hot-100-songs'\n",
    "years = [2019, 2020]\n",
    "\n",
    "older_song_soups = []\n",
    "older_artist_soups = []\n",
    "\n",
    "for year in years:\n",
    "    url = str.format(year)\n",
    "    response = requests.get(url)\n",
    "    #print(response.status_code)\n",
    "    \n",
    "    soup = BeautifulSoup(response.content)\n",
    "    older_song_soups.append(soup.find_all('div', class_ = 'ye-chart-item__title'))\n",
    "    older_artist_soups.append(soup.find_all('div', class_ = 'ye-chart-item__artist'))\n",
    "    \n",
    "    \n",
    "    wait_time = randint(1,4)\n",
    "    sleep(wait_time)"
   ]
  },
  {
   "cell_type": "code",
   "execution_count": 35,
   "id": "52e94c27",
   "metadata": {},
   "outputs": [],
   "source": [
    "#------songs 2019------#\n",
    "older_song_soups[0] = [t.text.replace('\\n','') for t in older_song_soups[0]]\n",
    "\n",
    "#------2020------#\n",
    "older_song_soups[1] = [t.text.replace('\\n','') for t in older_song_soups[1]]"
   ]
  },
  {
   "cell_type": "code",
   "execution_count": 37,
   "id": "80bd8635",
   "metadata": {},
   "outputs": [],
   "source": [
    "#------artists 2019------#\n",
    "older_artist_soups[0] = [t.text.replace('\\n','') for t in older_artist_soups[0]]\n",
    "\n",
    "#------2020------#\n",
    "older_artist_soups[1] = [t.text.replace('\\n','') for t in older_artist_soups[1]]"
   ]
  },
  {
   "cell_type": "code",
   "execution_count": null,
   "id": "c39333dc",
   "metadata": {},
   "outputs": [],
   "source": [
    "#release_year = soup.find('span', class_ ='dropdown__year-select-date').get_text()"
   ]
  },
  {
   "cell_type": "code",
   "execution_count": 49,
   "id": "67590f07",
   "metadata": {},
   "outputs": [],
   "source": [
    "#----------concatinate the 3 years data together----------#\n",
    "\n",
    "song_name = older_song_soups[0] + older_song_soups[1] + newest_name\n",
    "song_artist = older_artist_soups[0] + older_artist_soups[1] + newest_artist\n",
    "song_release_year = [2019]*100 + [2020]*100 + [2021]*100"
   ]
  },
  {
   "cell_type": "code",
   "execution_count": 61,
   "id": "c24dddc9",
   "metadata": {},
   "outputs": [
    {
     "data": {
      "text/html": [
       "<div>\n",
       "<style scoped>\n",
       "    .dataframe tbody tr th:only-of-type {\n",
       "        vertical-align: middle;\n",
       "    }\n",
       "\n",
       "    .dataframe tbody tr th {\n",
       "        vertical-align: top;\n",
       "    }\n",
       "\n",
       "    .dataframe thead th {\n",
       "        text-align: right;\n",
       "    }\n",
       "</style>\n",
       "<table border=\"1\" class=\"dataframe\">\n",
       "  <thead>\n",
       "    <tr style=\"text-align: right;\">\n",
       "      <th></th>\n",
       "      <th>song_name</th>\n",
       "      <th>artist</th>\n",
       "      <th>release_year</th>\n",
       "    </tr>\n",
       "  </thead>\n",
       "  <tbody>\n",
       "    <tr>\n",
       "      <th>0</th>\n",
       "      <td>Old Town Road</td>\n",
       "      <td>Lil Nas X Featuring Billy Ray Cyrus</td>\n",
       "      <td>2019</td>\n",
       "    </tr>\n",
       "    <tr>\n",
       "      <th>1</th>\n",
       "      <td>Sunflower (Spider-Man: Into The Spider-Verse)</td>\n",
       "      <td>Post Malone &amp; Swae Lee</td>\n",
       "      <td>2019</td>\n",
       "    </tr>\n",
       "    <tr>\n",
       "      <th>2</th>\n",
       "      <td>Without Me</td>\n",
       "      <td>Halsey</td>\n",
       "      <td>2019</td>\n",
       "    </tr>\n",
       "    <tr>\n",
       "      <th>3</th>\n",
       "      <td>Bad Guy</td>\n",
       "      <td>Billie Eilish</td>\n",
       "      <td>2019</td>\n",
       "    </tr>\n",
       "    <tr>\n",
       "      <th>4</th>\n",
       "      <td>Wow.</td>\n",
       "      <td>Post Malone</td>\n",
       "      <td>2019</td>\n",
       "    </tr>\n",
       "    <tr>\n",
       "      <th>5</th>\n",
       "      <td>Happier</td>\n",
       "      <td>Marshmello &amp; Bastille</td>\n",
       "      <td>2019</td>\n",
       "    </tr>\n",
       "    <tr>\n",
       "      <th>6</th>\n",
       "      <td>7 Rings</td>\n",
       "      <td>Ariana Grande</td>\n",
       "      <td>2019</td>\n",
       "    </tr>\n",
       "    <tr>\n",
       "      <th>7</th>\n",
       "      <td>Talk</td>\n",
       "      <td>Khalid</td>\n",
       "      <td>2019</td>\n",
       "    </tr>\n",
       "    <tr>\n",
       "      <th>8</th>\n",
       "      <td>Sicko Mode</td>\n",
       "      <td>Travis Scott</td>\n",
       "      <td>2019</td>\n",
       "    </tr>\n",
       "    <tr>\n",
       "      <th>9</th>\n",
       "      <td>Sucker</td>\n",
       "      <td>Jonas Brothers</td>\n",
       "      <td>2019</td>\n",
       "    </tr>\n",
       "  </tbody>\n",
       "</table>\n",
       "</div>"
      ],
      "text/plain": [
       "                                       song_name  \\\n",
       "0                                  Old Town Road   \n",
       "1  Sunflower (Spider-Man: Into The Spider-Verse)   \n",
       "2                                     Without Me   \n",
       "3                                        Bad Guy   \n",
       "4                                           Wow.   \n",
       "5                                        Happier   \n",
       "6                                        7 Rings   \n",
       "7                                           Talk   \n",
       "8                                     Sicko Mode   \n",
       "9                                         Sucker   \n",
       "\n",
       "                                artist  release_year  \n",
       "0  Lil Nas X Featuring Billy Ray Cyrus          2019  \n",
       "1               Post Malone & Swae Lee          2019  \n",
       "2                               Halsey          2019  \n",
       "3                        Billie Eilish          2019  \n",
       "4                          Post Malone          2019  \n",
       "5                Marshmello & Bastille          2019  \n",
       "6                        Ariana Grande          2019  \n",
       "7                               Khalid          2019  \n",
       "8                         Travis Scott          2019  \n",
       "9                       Jonas Brothers          2019  "
      ]
     },
     "execution_count": 61,
     "metadata": {},
     "output_type": "execute_result"
    }
   ],
   "source": [
    "df = pd.DataFrame({'song_name': song_name, 'artist': song_artist, 'release_year': song_release_year})\n",
    "df.head(10)"
   ]
  },
  {
   "cell_type": "code",
   "execution_count": 62,
   "id": "f2342218",
   "metadata": {},
   "outputs": [],
   "source": [
    "#---------Making the dataframe content lowercase-----------#\n",
    "\n",
    "df[\"song_name\"] = df[\"song_name\"].apply(lambda x: x.lower())\n",
    "df[\"artist\"] = df[\"artist\"].apply(lambda x: x.lower())"
   ]
  },
  {
   "cell_type": "code",
   "execution_count": 75,
   "id": "16e7f63e",
   "metadata": {},
   "outputs": [],
   "source": [
    "#--------Taking input ------------#\n",
    "\n",
    "def user_song():\n",
    "    input_song = input('Enter Your Favorite Song: ')\n",
    "        \n",
    "    if input_song.lower() in df.song_name.values:\n",
    "        print('The recommended song for you is: ',random.choice(df['song_name'], '\\n'))\n",
    "    else:\n",
    "        print('Sorry, Pick another song\\n')\n",
    "        user_song()"
   ]
  },
  {
   "cell_type": "code",
   "execution_count": null,
   "id": "634d80ea",
   "metadata": {},
   "outputs": [
    {
     "name": "stdout",
     "output_type": "stream",
     "text": [
      "Enter Your Favorite Song :hey\n",
      "Sorry, Pick another song\n",
      "\n",
      "Enter Your Favorite Song :wow\n",
      "Sorry, Pick another song\n",
      "\n",
      "Enter Your Favorite Song :sunflower\n",
      "Sorry, Pick another song\n",
      "\n"
     ]
    }
   ],
   "source": [
    "user_song()"
   ]
  },
  {
   "cell_type": "code",
   "execution_count": null,
   "id": "df1e8d1c",
   "metadata": {},
   "outputs": [],
   "source": []
  },
  {
   "cell_type": "code",
   "execution_count": null,
   "id": "5cac60b3",
   "metadata": {},
   "outputs": [],
   "source": []
  },
  {
   "cell_type": "code",
   "execution_count": null,
   "id": "63909c85",
   "metadata": {},
   "outputs": [],
   "source": []
  },
  {
   "cell_type": "code",
   "execution_count": null,
   "id": "d9d72da3",
   "metadata": {},
   "outputs": [],
   "source": []
  },
  {
   "cell_type": "code",
   "execution_count": null,
   "id": "168e9a33",
   "metadata": {},
   "outputs": [],
   "source": []
  },
  {
   "cell_type": "markdown",
   "id": "e2557032",
   "metadata": {},
   "source": []
  }
 ],
 "metadata": {
  "kernelspec": {
   "display_name": "Python 3",
   "language": "python",
   "name": "python3"
  },
  "language_info": {
   "codemirror_mode": {
    "name": "ipython",
    "version": 3
   },
   "file_extension": ".py",
   "mimetype": "text/x-python",
   "name": "python",
   "nbconvert_exporter": "python",
   "pygments_lexer": "ipython3",
   "version": "3.8.8"
  }
 },
 "nbformat": 4,
 "nbformat_minor": 5
}
