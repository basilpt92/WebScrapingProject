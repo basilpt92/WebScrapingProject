{
 "cells": [
  {
   "cell_type": "code",
   "execution_count": 45,
   "id": "5a4d5357",
   "metadata": {},
   "outputs": [],
   "source": [
    "from bs4 import BeautifulSoup\n",
    "import requests\n",
    "import json\n",
    "\n",
    "\n",
    "import random \n",
    "from time import sleep\n",
    "\n",
    "import pandas as pd\n",
    "\n",
    "from spellchecker import SpellChecker"
   ]
  },
  {
   "cell_type": "code",
   "execution_count": 42,
   "id": "7bc72a61",
   "metadata": {},
   "outputs": [],
   "source": [
    "\n",
    "response = requests.get('https://developers.google.com/')"
   ]
  },
  {
   "cell_type": "code",
   "execution_count": 117,
   "id": "4d9774b6",
   "metadata": {},
   "outputs": [
    {
     "data": {
      "text/plain": [
       "200"
      ]
     },
     "execution_count": 117,
     "metadata": {},
     "output_type": "execute_result"
    }
   ],
   "source": [
    "google.status_code"
   ]
  },
  {
   "cell_type": "code",
   "execution_count": 120,
   "id": "f50f9468",
   "metadata": {},
   "outputs": [],
   "source": [
    "import json\n",
    "\n",
    "\n",
    "response = requests.get('https://jsonplaceholder.typicode.com/todos')\n",
    "results = response.json()"
   ]
  },
  {
   "cell_type": "code",
   "execution_count": null,
   "id": "b742579f",
   "metadata": {},
   "outputs": [],
   "source": [
    "pd.DataFrame(results)\n",
    "pd.json_normalize(response.json())"
   ]
  },
  {
   "cell_type": "code",
   "execution_count": 122,
   "id": "4a1e5745",
   "metadata": {},
   "outputs": [
    {
     "data": {
      "text/plain": [
       "'delectus aut autem'"
      ]
     },
     "execution_count": 122,
     "metadata": {},
     "output_type": "execute_result"
    }
   ],
   "source": [
    "results[0]['title']"
   ]
  },
  {
   "cell_type": "code",
   "execution_count": 129,
   "id": "720d6a40",
   "metadata": {},
   "outputs": [
    {
     "data": {
      "text/plain": [
       "'5e587f09012c4500a51a795029668b7f'"
      ]
     },
     "execution_count": 129,
     "metadata": {},
     "output_type": "execute_result"
    }
   ],
   "source": [
    "import config\n",
    "\n",
    "config.client_id\n",
    "config.client_secret\n",
    "\n"
   ]
  },
  {
   "cell_type": "code",
   "execution_count": 3,
   "id": "8257a902",
   "metadata": {},
   "outputs": [],
   "source": [
    "import spotipy\n",
    "import json\n",
    "\n",
    "from spotipy.oauth2 import SpotifyClientCredentials"
   ]
  },
  {
   "cell_type": "markdown",
   "id": "4a24f7e9",
   "metadata": {},
   "source": [
    "## Scraping the Billbord Website for 100 Hot songs"
   ]
  },
  {
   "cell_type": "code",
   "execution_count": 46,
   "id": "edfe6066",
   "metadata": {},
   "outputs": [],
   "source": [
    "#------scrapping 2021 data-------#\n",
    "\n",
    "url = \"https://www.billboard.com/charts/hot-100\"\n",
    "response = requests.get(url)\n",
    "newest_soup = BeautifulSoup(response.content, 'html.parser')"
   ]
  },
  {
   "cell_type": "code",
   "execution_count": 47,
   "id": "678c4f8a",
   "metadata": {},
   "outputs": [
    {
     "data": {
      "text/plain": [
       "200"
      ]
     },
     "execution_count": 47,
     "metadata": {},
     "output_type": "execute_result"
    }
   ],
   "source": [
    "response.status_code"
   ]
  },
  {
   "cell_type": "code",
   "execution_count": 48,
   "id": "c67d835b",
   "metadata": {},
   "outputs": [],
   "source": [
    "#--------2021 song names--------#\n",
    "\n",
    "newest_name = newest_soup.select('span.chart-element__information__song.text--truncate.color--primary')\n",
    "newest_name = [t.text for t in newest_name]\n",
    "#newest_name"
   ]
  },
  {
   "cell_type": "code",
   "execution_count": 49,
   "id": "619c760c",
   "metadata": {},
   "outputs": [],
   "source": [
    "#--------2021 artist names--------#\n",
    "\n",
    "newest_artist = newest_soup.select('span.chart-element__information__artist.text--truncate.color--secondary')\n",
    "newest_artist = [t.text for t in newest_artist]\n",
    "#newest_artist"
   ]
  },
  {
   "cell_type": "code",
   "execution_count": 50,
   "id": "2182f4c3",
   "metadata": {},
   "outputs": [],
   "source": [
    "#------scrapping 2019,2020 data-------#\n",
    "\n",
    "str = 'https://www.billboard.com/charts/year-end/{}/hot-100-songs'\n",
    "#years = [ 2006, 2007 ,2008, 2009, 2010,2011, 2012, 2013, 2014, 2015, 2016, 2017, 2018 ,2019, 2020]\n",
    "years = [ 2019, 2020]\n",
    "\n",
    "\n",
    "older_song_soups = []\n",
    "older_artist_soups = []\n",
    "\n",
    "for year in years:\n",
    "    url = str.format(year)\n",
    "    response = requests.get(url)\n",
    "    #print(response.status_code)\n",
    "    \n",
    "    soup = BeautifulSoup(response.content)\n",
    "    older_song_soups.append(soup.find_all('div', class_ = 'ye-chart-item__title'))\n",
    "    older_artist_soups.append(soup.find_all('div', class_ = 'ye-chart-item__artist'))\n",
    "    \n",
    "    \n",
    "    wait_time = random.randint(1,4)\n",
    "    sleep(wait_time)"
   ]
  },
  {
   "cell_type": "code",
   "execution_count": 51,
   "id": "dab5ab6c",
   "metadata": {},
   "outputs": [],
   "source": [
    "#------songs & artists 2006-2020------#\n",
    "\n",
    "for i in range(0,len(years)):\n",
    "    older_song_soups[i] = [t.text.replace('\\n','') for t in older_song_soups[i]]\n",
    "    older_artist_soups[i] = [t.text.replace('\\n','') for t in older_artist_soups[i]]\n",
    "    "
   ]
  },
  {
   "cell_type": "code",
   "execution_count": 52,
   "id": "52e94c27",
   "metadata": {},
   "outputs": [],
   "source": [
    "#------songs 2019------#\n",
    "#older_song_soups[0] = [t.text.replace('\\n','') for t in older_song_soups[0]]\n",
    "\n",
    "#------2020------#\n",
    "#older_song_soups[1] = [t.text.replace('\\n','') for t in older_song_soups[1]]\n",
    "\n",
    "#------artists 2019------#\n",
    "#older_artist_soups[0] = [t.text.replace('\\n','') for t in older_artist_soups[0]]\n",
    "\n",
    "#------2020------#\n",
    "#older_artist_soups[1] = [t.text.replace('\\n','') for t in older_artist_soups[1]]"
   ]
  },
  {
   "cell_type": "code",
   "execution_count": 53,
   "id": "c39333dc",
   "metadata": {},
   "outputs": [],
   "source": [
    "#release_year = soup.find('span', class_ ='dropdown__year-select-date').get_text()\n",
    "#song_release_year = [2006]*100 + [2007]*100 + [2008]*100 + [2009]*100 + [2010]*100 + [2011]*100 + [2012]*100 + [2013]*100 + [2014]*100 + [2015]*100 + [2016]*100 + [2017]*100 + [2018]*100 + [2019]*100 + [2020]*100 + [2021]*100"
   ]
  },
  {
   "cell_type": "code",
   "execution_count": 54,
   "id": "67590f07",
   "metadata": {},
   "outputs": [],
   "source": [
    "#----------concatinate the 3 years data together----------#\n",
    "\n",
    "song_name = []\n",
    "song_artist = []\n",
    "\n",
    "\n",
    "for i in range(0,len(older_song_soups)):\n",
    "        song_name += older_song_soups[i]\n",
    "        song_artist += older_artist_soups[i]\n",
    "\n",
    "\n",
    "song_name += newest_name\n",
    "song_artist += newest_artist\n"
   ]
  },
  {
   "cell_type": "code",
   "execution_count": 55,
   "id": "c24dddc9",
   "metadata": {},
   "outputs": [
    {
     "data": {
      "text/html": [
       "<div>\n",
       "<style scoped>\n",
       "    .dataframe tbody tr th:only-of-type {\n",
       "        vertical-align: middle;\n",
       "    }\n",
       "\n",
       "    .dataframe tbody tr th {\n",
       "        vertical-align: top;\n",
       "    }\n",
       "\n",
       "    .dataframe thead th {\n",
       "        text-align: right;\n",
       "    }\n",
       "</style>\n",
       "<table border=\"1\" class=\"dataframe\">\n",
       "  <thead>\n",
       "    <tr style=\"text-align: right;\">\n",
       "      <th></th>\n",
       "      <th>song_name</th>\n",
       "      <th>artist</th>\n",
       "    </tr>\n",
       "  </thead>\n",
       "  <tbody>\n",
       "    <tr>\n",
       "      <th>290</th>\n",
       "      <td>Jonah</td>\n",
       "      <td>Kanye West</td>\n",
       "    </tr>\n",
       "    <tr>\n",
       "      <th>291</th>\n",
       "      <td>You Should Probably Leave</td>\n",
       "      <td>Chris Stapleton</td>\n",
       "    </tr>\n",
       "    <tr>\n",
       "      <th>292</th>\n",
       "      <td>Don't Go Yet</td>\n",
       "      <td>Camila Cabello</td>\n",
       "    </tr>\n",
       "    <tr>\n",
       "      <th>293</th>\n",
       "      <td>Thinking 'Bout You</td>\n",
       "      <td>Dustin Lynch Featuring Lauren Alaina Or MacKen...</td>\n",
       "    </tr>\n",
       "    <tr>\n",
       "      <th>294</th>\n",
       "      <td>Jesus Lord</td>\n",
       "      <td>Kanye West</td>\n",
       "    </tr>\n",
       "    <tr>\n",
       "      <th>295</th>\n",
       "      <td>Summer Of Love</td>\n",
       "      <td>Shawn Mendes &amp; Tainy</td>\n",
       "    </tr>\n",
       "    <tr>\n",
       "      <th>296</th>\n",
       "      <td>Ain't Shit</td>\n",
       "      <td>Doja Cat</td>\n",
       "    </tr>\n",
       "    <tr>\n",
       "      <th>297</th>\n",
       "      <td>Motley Crew</td>\n",
       "      <td>Post Malone</td>\n",
       "    </tr>\n",
       "    <tr>\n",
       "      <th>298</th>\n",
       "      <td>Remote Control</td>\n",
       "      <td>Kanye West</td>\n",
       "    </tr>\n",
       "    <tr>\n",
       "      <th>299</th>\n",
       "      <td>Baddest</td>\n",
       "      <td>Yung Bleu, Chris Brown &amp; 2 Chainz</td>\n",
       "    </tr>\n",
       "  </tbody>\n",
       "</table>\n",
       "</div>"
      ],
      "text/plain": [
       "                     song_name  \\\n",
       "290                      Jonah   \n",
       "291  You Should Probably Leave   \n",
       "292               Don't Go Yet   \n",
       "293         Thinking 'Bout You   \n",
       "294                 Jesus Lord   \n",
       "295             Summer Of Love   \n",
       "296                 Ain't Shit   \n",
       "297                Motley Crew   \n",
       "298             Remote Control   \n",
       "299                    Baddest   \n",
       "\n",
       "                                                artist  \n",
       "290                                         Kanye West  \n",
       "291                                    Chris Stapleton  \n",
       "292                                     Camila Cabello  \n",
       "293  Dustin Lynch Featuring Lauren Alaina Or MacKen...  \n",
       "294                                         Kanye West  \n",
       "295                               Shawn Mendes & Tainy  \n",
       "296                                           Doja Cat  \n",
       "297                                        Post Malone  \n",
       "298                                         Kanye West  \n",
       "299                  Yung Bleu, Chris Brown & 2 Chainz  "
      ]
     },
     "execution_count": 55,
     "metadata": {},
     "output_type": "execute_result"
    }
   ],
   "source": [
    "#df = pd.DataFrame({'song_name': song_name, 'artist': song_artist, 'release_year': song_release_year})\n",
    "\n",
    "df = pd.DataFrame({'song_name': song_name, 'artist': song_artist})\n",
    "df.tail(10)"
   ]
  },
  {
   "cell_type": "code",
   "execution_count": 56,
   "id": "f2342218",
   "metadata": {},
   "outputs": [],
   "source": [
    "#---------Making the dataframe content lowercase-----------#\n",
    "\n",
    "df[\"song_name\"] = df[\"song_name\"].apply(lambda x: x.lower())\n",
    "df[\"artist\"] = df[\"artist\"].apply(lambda x: x.lower())"
   ]
  },
  {
   "cell_type": "code",
   "execution_count": 57,
   "id": "a9e8cdc9",
   "metadata": {},
   "outputs": [],
   "source": [
    "#-------spell checker function--------#\n",
    "\n",
    "\n",
    "def input_spelling (user_input):\n",
    "    spell = SpellChecker()\n",
    "    corrected_output = ''\n",
    "    words = spell.split_words(user_input)\n",
    "    corrected_words = [spell.correction(word) for word in words]\n",
    "    for i in corrected_words: \n",
    "        corrected_output = corrected_output + ' ' + i\n",
    "    return corrected_output[1:]\n"
   ]
  },
  {
   "cell_type": "code",
   "execution_count": 58,
   "id": "c6d28118",
   "metadata": {},
   "outputs": [
    {
     "data": {
      "text/plain": [
       "'ta to mee'"
      ]
     },
     "execution_count": 58,
     "metadata": {},
     "output_type": "execute_result"
    }
   ],
   "source": [
    "input_spelling('ta to mee')"
   ]
  },
  {
   "cell_type": "code",
   "execution_count": 59,
   "id": "16e7f63e",
   "metadata": {},
   "outputs": [],
   "source": [
    "#--------Taking input ------------#\n",
    "\n",
    "\n",
    "def user_song():\n",
    "    input_song = input('Enter Your Favorite Song: ')\n",
    "        \n",
    "    if input_song.lower() in df.song_name.values:\n",
    "        print('The recommended song for you is: ',random.choice(df['song_name'], '\\n'))\n",
    "        \n",
    "    elif spell(input_song.lower()) in df.song_name.values:\n",
    "        print('Do you mean ', spell(input_song.lower()), ' ?')\n",
    "        user_song()\n",
    "    \n",
    "    else:\n",
    "        print('Sorry, Pick another song\\n')\n",
    "        user_song()"
   ]
  },
  {
   "cell_type": "code",
   "execution_count": 60,
   "id": "634d80ea",
   "metadata": {},
   "outputs": [
    {
     "name": "stdout",
     "output_type": "stream",
     "text": [
      "Enter Your Favorite Song: old town\n"
     ]
    },
    {
     "ename": "NameError",
     "evalue": "name 'spell' is not defined",
     "output_type": "error",
     "traceback": [
      "\u001b[1;31m---------------------------------------------------------------------------\u001b[0m",
      "\u001b[1;31mNameError\u001b[0m                                 Traceback (most recent call last)",
      "\u001b[1;32m<ipython-input-60-cc5a25d9201d>\u001b[0m in \u001b[0;36m<module>\u001b[1;34m\u001b[0m\n\u001b[1;32m----> 1\u001b[1;33m \u001b[0muser_song\u001b[0m\u001b[1;33m(\u001b[0m\u001b[1;33m)\u001b[0m\u001b[1;33m\u001b[0m\u001b[1;33m\u001b[0m\u001b[0m\n\u001b[0m",
      "\u001b[1;32m<ipython-input-59-ffc84b625295>\u001b[0m in \u001b[0;36muser_song\u001b[1;34m()\u001b[0m\n\u001b[0;32m      8\u001b[0m         \u001b[0mprint\u001b[0m\u001b[1;33m(\u001b[0m\u001b[1;34m'The recommended song for you is: '\u001b[0m\u001b[1;33m,\u001b[0m\u001b[0mrandom\u001b[0m\u001b[1;33m.\u001b[0m\u001b[0mchoice\u001b[0m\u001b[1;33m(\u001b[0m\u001b[0mdf\u001b[0m\u001b[1;33m[\u001b[0m\u001b[1;34m'song_name'\u001b[0m\u001b[1;33m]\u001b[0m\u001b[1;33m,\u001b[0m \u001b[1;34m'\\n'\u001b[0m\u001b[1;33m)\u001b[0m\u001b[1;33m)\u001b[0m\u001b[1;33m\u001b[0m\u001b[1;33m\u001b[0m\u001b[0m\n\u001b[0;32m      9\u001b[0m \u001b[1;33m\u001b[0m\u001b[0m\n\u001b[1;32m---> 10\u001b[1;33m     \u001b[1;32melif\u001b[0m \u001b[0mspell\u001b[0m\u001b[1;33m(\u001b[0m\u001b[0minput_song\u001b[0m\u001b[1;33m.\u001b[0m\u001b[0mlower\u001b[0m\u001b[1;33m(\u001b[0m\u001b[1;33m)\u001b[0m\u001b[1;33m)\u001b[0m \u001b[1;32min\u001b[0m \u001b[0mdf\u001b[0m\u001b[1;33m.\u001b[0m\u001b[0msong_name\u001b[0m\u001b[1;33m.\u001b[0m\u001b[0mvalues\u001b[0m\u001b[1;33m:\u001b[0m\u001b[1;33m\u001b[0m\u001b[1;33m\u001b[0m\u001b[0m\n\u001b[0m\u001b[0;32m     11\u001b[0m         \u001b[0mprint\u001b[0m\u001b[1;33m(\u001b[0m\u001b[1;34m'Do you mean '\u001b[0m\u001b[1;33m,\u001b[0m \u001b[0mspell\u001b[0m\u001b[1;33m(\u001b[0m\u001b[0minput_song\u001b[0m\u001b[1;33m.\u001b[0m\u001b[0mlower\u001b[0m\u001b[1;33m(\u001b[0m\u001b[1;33m)\u001b[0m\u001b[1;33m)\u001b[0m\u001b[1;33m,\u001b[0m \u001b[1;34m' ?'\u001b[0m\u001b[1;33m)\u001b[0m\u001b[1;33m\u001b[0m\u001b[1;33m\u001b[0m\u001b[0m\n\u001b[0;32m     12\u001b[0m         \u001b[0muser_song\u001b[0m\u001b[1;33m(\u001b[0m\u001b[1;33m)\u001b[0m\u001b[1;33m\u001b[0m\u001b[1;33m\u001b[0m\u001b[0m\n",
      "\u001b[1;31mNameError\u001b[0m: name 'spell' is not defined"
     ]
    }
   ],
   "source": [
    "user_song()\n"
   ]
  },
  {
   "cell_type": "code",
   "execution_count": null,
   "id": "df1e8d1c",
   "metadata": {},
   "outputs": [],
   "source": [
    "from difflib import SequenceMatcher\n",
    "\n",
    "def similar(a, b):\n",
    "    return SequenceMatcher(None, a, b).ratio()\n",
    "\n",
    ">>> similar(\"Apple\",\"Appel\")\n",
    "0.8\n",
    ">>> similar(\"Apple\",\"Mango\")\n",
    "0.0"
   ]
  },
  {
   "cell_type": "code",
   "execution_count": null,
   "id": "5cac60b3",
   "metadata": {},
   "outputs": [],
   "source": []
  },
  {
   "cell_type": "code",
   "execution_count": null,
   "id": "feff1d33",
   "metadata": {},
   "outputs": [],
   "source": [
    "# second prototype with spotify"
   ]
  },
  {
   "cell_type": "code",
   "execution_count": 64,
   "id": "2f9880b6",
   "metadata": {},
   "outputs": [
    {
     "ename": "ModuleNotFoundError",
     "evalue": "No module named 'config'",
     "output_type": "error",
     "traceback": [
      "\u001b[1;31m---------------------------------------------------------------------------\u001b[0m",
      "\u001b[1;31mModuleNotFoundError\u001b[0m                       Traceback (most recent call last)",
      "\u001b[1;32m<ipython-input-64-d45e0db55eda>\u001b[0m in \u001b[0;36m<module>\u001b[1;34m\u001b[0m\n\u001b[1;32m----> 1\u001b[1;33m \u001b[1;32mimport\u001b[0m \u001b[0mconfig\u001b[0m\u001b[1;33m\u001b[0m\u001b[1;33m\u001b[0m\u001b[0m\n\u001b[0m\u001b[0;32m      2\u001b[0m \u001b[1;33m\u001b[0m\u001b[0m\n\u001b[0;32m      3\u001b[0m \u001b[0mconfig\u001b[0m\u001b[1;33m.\u001b[0m\u001b[0mclient_id\u001b[0m\u001b[1;33m\u001b[0m\u001b[1;33m\u001b[0m\u001b[0m\n\u001b[0;32m      4\u001b[0m \u001b[0mconfig\u001b[0m\u001b[1;33m.\u001b[0m\u001b[0mclient_secret\u001b[0m\u001b[1;33m\u001b[0m\u001b[1;33m\u001b[0m\u001b[0m\n",
      "\u001b[1;31mModuleNotFoundError\u001b[0m: No module named 'config'"
     ]
    }
   ],
   "source": [
    "import config\n",
    "\n",
    "config.client_id\n",
    "config.client_secret\n"
   ]
  },
  {
   "cell_type": "code",
   "execution_count": 63,
   "id": "63909c85",
   "metadata": {},
   "outputs": [
    {
     "ename": "NameError",
     "evalue": "name 'client_id' is not defined",
     "output_type": "error",
     "traceback": [
      "\u001b[1;31m---------------------------------------------------------------------------\u001b[0m",
      "\u001b[1;31mNameError\u001b[0m                                 Traceback (most recent call last)",
      "\u001b[1;32m<ipython-input-63-9244119cc3dc>\u001b[0m in \u001b[0;36m<module>\u001b[1;34m\u001b[0m\n\u001b[1;32m----> 1\u001b[1;33m \u001b[0msp\u001b[0m \u001b[1;33m=\u001b[0m \u001b[0mspotipy\u001b[0m\u001b[1;33m.\u001b[0m\u001b[0mSpotify\u001b[0m\u001b[1;33m(\u001b[0m\u001b[0mauth_manager\u001b[0m\u001b[1;33m=\u001b[0m\u001b[0mSpotifyClientCredentials\u001b[0m\u001b[1;33m(\u001b[0m\u001b[0mclient_id\u001b[0m\u001b[1;33m=\u001b[0m\u001b[0mclient_id\u001b[0m\u001b[1;33m,\u001b[0m \u001b[0mclient_secret\u001b[0m\u001b[1;33m=\u001b[0m\u001b[0mclient_secret\u001b[0m\u001b[1;33m)\u001b[0m\u001b[1;33m)\u001b[0m\u001b[1;33m\u001b[0m\u001b[1;33m\u001b[0m\u001b[0m\n\u001b[0m",
      "\u001b[1;31mNameError\u001b[0m: name 'client_id' is not defined"
     ]
    }
   ],
   "source": [
    "sp = spotipy.Spotify(auth_manager=SpotifyClientCredentials(client_id=client_id, client_secret=client_secret))"
   ]
  },
  {
   "cell_type": "code",
   "execution_count": 62,
   "id": "d9d72da3",
   "metadata": {},
   "outputs": [
    {
     "ename": "NameError",
     "evalue": "name 'sp' is not defined",
     "output_type": "error",
     "traceback": [
      "\u001b[1;31m---------------------------------------------------------------------------\u001b[0m",
      "\u001b[1;31mNameError\u001b[0m                                 Traceback (most recent call last)",
      "\u001b[1;32m<ipython-input-62-c90fd1e1e50d>\u001b[0m in \u001b[0;36m<module>\u001b[1;34m\u001b[0m\n\u001b[1;32m----> 1\u001b[1;33m \u001b[0msp\u001b[0m\u001b[1;33m\u001b[0m\u001b[1;33m\u001b[0m\u001b[0m\n\u001b[0m",
      "\u001b[1;31mNameError\u001b[0m: name 'sp' is not defined"
     ]
    }
   ],
   "source": [
    "sp"
   ]
  },
  {
   "cell_type": "code",
   "execution_count": null,
   "id": "168e9a33",
   "metadata": {},
   "outputs": [],
   "source": [
    "\n"
   ]
  },
  {
   "cell_type": "code",
   "execution_count": null,
   "id": "ab9e2656",
   "metadata": {},
   "outputs": [],
   "source": []
  },
  {
   "cell_type": "code",
   "execution_count": null,
   "id": "151d45ab",
   "metadata": {},
   "outputs": [],
   "source": []
  },
  {
   "cell_type": "code",
   "execution_count": null,
   "id": "21833568",
   "metadata": {},
   "outputs": [],
   "source": []
  },
  {
   "cell_type": "code",
   "execution_count": null,
   "id": "a49114c9",
   "metadata": {},
   "outputs": [],
   "source": []
  },
  {
   "cell_type": "code",
   "execution_count": null,
   "id": "28a8ea05",
   "metadata": {},
   "outputs": [],
   "source": []
  },
  {
   "cell_type": "code",
   "execution_count": null,
   "id": "575fc4ae",
   "metadata": {},
   "outputs": [],
   "source": []
  },
  {
   "cell_type": "code",
   "execution_count": null,
   "id": "dfc8e1c6",
   "metadata": {},
   "outputs": [],
   "source": []
  },
  {
   "cell_type": "code",
   "execution_count": null,
   "id": "bcc1297f",
   "metadata": {},
   "outputs": [],
   "source": []
  },
  {
   "cell_type": "markdown",
   "id": "e2557032",
   "metadata": {},
   "source": []
  },
  {
   "cell_type": "code",
   "execution_count": null,
   "id": "264a915c",
   "metadata": {},
   "outputs": [],
   "source": []
  }
 ],
 "metadata": {
  "kernelspec": {
   "display_name": "Python 3",
   "language": "python",
   "name": "python3"
  },
  "language_info": {
   "codemirror_mode": {
    "name": "ipython",
    "version": 3
   },
   "file_extension": ".py",
   "mimetype": "text/x-python",
   "name": "python",
   "nbconvert_exporter": "python",
   "pygments_lexer": "ipython3",
   "version": "3.9.6"
  }
 },
 "nbformat": 4,
 "nbformat_minor": 5
}
