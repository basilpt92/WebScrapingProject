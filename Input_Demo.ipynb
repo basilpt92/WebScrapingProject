{
 "cells": [
  {
   "cell_type": "markdown",
   "id": "21e935a0",
   "metadata": {},
   "source": [
    "# Demo\n",
    "### Taking input from the user, if it is a hot song, return another hot song, if not, return a similar featured audio"
   ]
  },
  {
   "cell_type": "code",
   "execution_count": 85,
   "id": "5a4d5357",
   "metadata": {},
   "outputs": [],
   "source": [
    "from bs4 import BeautifulSoup\n",
    "import requests\n",
    "import json\n",
    "\n",
    "import spotipy\n",
    "from spotipy.oauth2 import SpotifyClientCredentials\n",
    "import config\n",
    "\n",
    "import pprint\n",
    "\n",
    "import random \n",
    "from time import sleep\n",
    "\n",
    "import pandas as pd"
   ]
  },
  {
   "cell_type": "code",
   "execution_count": null,
   "id": "822e7b60",
   "metadata": {},
   "outputs": [],
   "source": [
    "Client_ID = config.client_id\n",
    "Client_Secret = config.client_secret\n",
    "\n",
    "sp = spotipy.Spotify(auth_manager = SpotifyClientCredentials(client_id = Client_ID, client_secret = Client_Secret))"
   ]
  },
  {
   "cell_type": "code",
   "execution_count": 284,
   "id": "06c69ee6",
   "metadata": {},
   "outputs": [
    {
     "data": {
      "text/html": [
       "<div>\n",
       "<style scoped>\n",
       "    .dataframe tbody tr th:only-of-type {\n",
       "        vertical-align: middle;\n",
       "    }\n",
       "\n",
       "    .dataframe tbody tr th {\n",
       "        vertical-align: top;\n",
       "    }\n",
       "\n",
       "    .dataframe thead th {\n",
       "        text-align: right;\n",
       "    }\n",
       "</style>\n",
       "<table border=\"1\" class=\"dataframe\">\n",
       "  <thead>\n",
       "    <tr style=\"text-align: right;\">\n",
       "      <th></th>\n",
       "      <th>song</th>\n",
       "      <th>artist</th>\n",
       "    </tr>\n",
       "  </thead>\n",
       "  <tbody>\n",
       "    <tr>\n",
       "      <th>0</th>\n",
       "      <td>bad day</td>\n",
       "      <td>daniel powter</td>\n",
       "    </tr>\n",
       "    <tr>\n",
       "      <th>1</th>\n",
       "      <td>temperature</td>\n",
       "      <td>sean paul</td>\n",
       "    </tr>\n",
       "    <tr>\n",
       "      <th>2</th>\n",
       "      <td>promiscuous</td>\n",
       "      <td>nelly furtado featuring timbaland</td>\n",
       "    </tr>\n",
       "  </tbody>\n",
       "</table>\n",
       "</div>"
      ],
      "text/plain": [
       "          song                             artist\n",
       "0      bad day                      daniel powter\n",
       "1  temperature                          sean paul\n",
       "2  promiscuous  nelly furtado featuring timbaland"
      ]
     },
     "execution_count": 284,
     "metadata": {},
     "output_type": "execute_result"
    }
   ],
   "source": [
    "#---------reading the scraped hot songs from the csv file -----------#\n",
    "\n",
    "df_hot = pd.read_csv('scrapped_hot_songs.csv')\n",
    "df_hot.head(3)"
   ]
  },
  {
   "cell_type": "code",
   "execution_count": 319,
   "id": "c4a2a875",
   "metadata": {},
   "outputs": [],
   "source": [
    "#--------checking the similarity of input with the hot songs------------#\n",
    "\n",
    "from difflib import SequenceMatcher \n",
    "hot_song = df_hot['song'].values.tolist()\n",
    "\n",
    "\n",
    "def similar(a):\n",
    "    similarity = []\n",
    "    for i in range (0,len(hot_song)):\n",
    "        similarity.append(SequenceMatcher(a, hot_song).ratio())\n",
    "    \n",
    "    #most_similar = similarity.index(max(similarity))\n",
    "    return similarity                                #hot_song[most_similar]           "
   ]
  },
  {
   "cell_type": "markdown",
   "id": "1cc81568",
   "metadata": {},
   "source": [
    "similar('promiscuss')"
   ]
  },
  {
   "cell_type": "code",
   "execution_count": 305,
   "id": "16e7f63e",
   "metadata": {},
   "outputs": [],
   "source": [
    "#--------Taking input ------------#\n",
    "\n",
    "def user_song():\n",
    "    input_song = input('Your Favorite Song: ')\n",
    "    \n",
    "    similarity = []\n",
    "    if input_song.lower() in df_hot.song.values:\n",
    "        print('  The recommended song for you is: ', random.choice(df_hot['song']),'\\n')\n",
    "            \n",
    "    elif similar(input_song.lower()) in df_hot.song.values:\n",
    "        print('  Do you mean: ', similar(input_song.lower()), '\\n')\n",
    "        user_song()\n",
    "    \n",
    "    else:\n",
    "        print('  Sorry, Pick another song\\n')\n",
    "        user_song()"
   ]
  },
  {
   "cell_type": "code",
   "execution_count": null,
   "id": "8b8df982",
   "metadata": {},
   "outputs": [
    {
     "name": "stdout",
     "output_type": "stream",
     "text": [
      "Your Favorite Song: temoeratuer\n",
      "Sorry, Pick another song\n",
      "\n"
     ]
    }
   ],
   "source": [
    "user_song()"
   ]
  },
  {
   "cell_type": "code",
   "execution_count": 278,
   "id": "c61c38a3",
   "metadata": {},
   "outputs": [],
   "source": []
  },
  {
   "cell_type": "code",
   "execution_count": 279,
   "id": "f682e9a2",
   "metadata": {},
   "outputs": [],
   "source": []
  },
  {
   "cell_type": "code",
   "execution_count": 280,
   "id": "b723e883",
   "metadata": {},
   "outputs": [],
   "source": []
  },
  {
   "cell_type": "code",
   "execution_count": 281,
   "id": "41c15916",
   "metadata": {},
   "outputs": [],
   "source": []
  },
  {
   "cell_type": "code",
   "execution_count": null,
   "id": "c9f3c6bc",
   "metadata": {},
   "outputs": [],
   "source": []
  }
 ],
 "metadata": {
  "kernelspec": {
   "display_name": "Python 3",
   "language": "python",
   "name": "python3"
  },
  "language_info": {
   "codemirror_mode": {
    "name": "ipython",
    "version": 3
   },
   "file_extension": ".py",
   "mimetype": "text/x-python",
   "name": "python",
   "nbconvert_exporter": "python",
   "pygments_lexer": "ipython3",
   "version": "3.8.8"
  }
 },
 "nbformat": 4,
 "nbformat_minor": 5
}
