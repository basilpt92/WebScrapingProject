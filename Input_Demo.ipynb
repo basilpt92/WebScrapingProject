{
 "cells": [
  {
   "cell_type": "markdown",
   "id": "571c3533",
   "metadata": {},
   "source": [
    "# Demo\n",
    "### Taking input from the user, if it is a hot song, return another hot song, if not, return a similarly featured audio"
   ]
  },
  {
   "cell_type": "code",
   "execution_count": 593,
   "id": "5a4d5357",
   "metadata": {},
   "outputs": [],
   "source": [
    "from bs4 import BeautifulSoup\n",
    "import requests\n",
    "import json\n",
    "\n",
    "import spotipy\n",
    "from spotipy.oauth2 import SpotifyClientCredentials\n",
    "import config\n",
    "import pprint\n",
    "\n",
    "import random \n",
    "from time import sleep\n",
    "\n",
    "from difflib import SequenceMatcher \n",
    "\n",
    "import pandas as pd\n",
    "\n",
    "from sklearn.preprocessing import StandardScaler\n",
    "from sklearn.cluster import KMeans\n",
    "import pickle"
   ]
  },
  {
   "cell_type": "code",
   "execution_count": 517,
   "id": "34cf802d",
   "metadata": {},
   "outputs": [],
   "source": [
    "Client_ID = config.client_id\n",
    "Client_Secret = config.client_secret\n",
    "\n",
    "sp = spotipy.Spotify(auth_manager = SpotifyClientCredentials(client_id = Client_ID, client_secret = Client_Secret))"
   ]
  },
  {
   "cell_type": "code",
   "execution_count": 579,
   "id": "e1169e94",
   "metadata": {},
   "outputs": [
    {
     "data": {
      "text/html": [
       "<div>\n",
       "<style scoped>\n",
       "    .dataframe tbody tr th:only-of-type {\n",
       "        vertical-align: middle;\n",
       "    }\n",
       "\n",
       "    .dataframe tbody tr th {\n",
       "        vertical-align: top;\n",
       "    }\n",
       "\n",
       "    .dataframe thead th {\n",
       "        text-align: right;\n",
       "    }\n",
       "</style>\n",
       "<table border=\"1\" class=\"dataframe\">\n",
       "  <thead>\n",
       "    <tr style=\"text-align: right;\">\n",
       "      <th></th>\n",
       "      <th>song</th>\n",
       "      <th>artist</th>\n",
       "    </tr>\n",
       "  </thead>\n",
       "  <tbody>\n",
       "    <tr>\n",
       "      <th>0</th>\n",
       "      <td>bad day</td>\n",
       "      <td>daniel powter</td>\n",
       "    </tr>\n",
       "    <tr>\n",
       "      <th>1</th>\n",
       "      <td>temperature</td>\n",
       "      <td>sean paul</td>\n",
       "    </tr>\n",
       "    <tr>\n",
       "      <th>2</th>\n",
       "      <td>promiscuous</td>\n",
       "      <td>nelly furtado featuring timbaland</td>\n",
       "    </tr>\n",
       "    <tr>\n",
       "      <th>3</th>\n",
       "      <td>you're beautiful</td>\n",
       "      <td>james blunt</td>\n",
       "    </tr>\n",
       "    <tr>\n",
       "      <th>4</th>\n",
       "      <td>hips don't lie</td>\n",
       "      <td>shakira featuring wyclef jean</td>\n",
       "    </tr>\n",
       "    <tr>\n",
       "      <th>5</th>\n",
       "      <td>unwritten</td>\n",
       "      <td>natasha bedingfield</td>\n",
       "    </tr>\n",
       "    <tr>\n",
       "      <th>6</th>\n",
       "      <td>crazy</td>\n",
       "      <td>gnarls barkley</td>\n",
       "    </tr>\n",
       "    <tr>\n",
       "      <th>7</th>\n",
       "      <td>ridin'</td>\n",
       "      <td>chamillionaire featuring krayzie bone</td>\n",
       "    </tr>\n",
       "    <tr>\n",
       "      <th>8</th>\n",
       "      <td>sexyback</td>\n",
       "      <td>justin timberlake</td>\n",
       "    </tr>\n",
       "    <tr>\n",
       "      <th>9</th>\n",
       "      <td>check on it</td>\n",
       "      <td>beyonce featuring slim thug</td>\n",
       "    </tr>\n",
       "  </tbody>\n",
       "</table>\n",
       "</div>"
      ],
      "text/plain": [
       "               song                                 artist\n",
       "0           bad day                          daniel powter\n",
       "1       temperature                              sean paul\n",
       "2       promiscuous      nelly furtado featuring timbaland\n",
       "3  you're beautiful                            james blunt\n",
       "4    hips don't lie          shakira featuring wyclef jean\n",
       "5         unwritten                    natasha bedingfield\n",
       "6             crazy                         gnarls barkley\n",
       "7            ridin'  chamillionaire featuring krayzie bone\n",
       "8          sexyback                      justin timberlake\n",
       "9       check on it            beyonce featuring slim thug"
      ]
     },
     "execution_count": 579,
     "metadata": {},
     "output_type": "execute_result"
    }
   ],
   "source": [
    "#---------reading the scraped hot songs and songs from spotify from the csv file -----------#\n",
    "\n",
    "df_hot = pd.read_csv('scrapped_hot_songs.csv')\n",
    "clustered_df_original = pd.read_csv('the_clustered_spotify_songs.csv')\n",
    "\n",
    "df_hot.head(10)"
   ]
  },
  {
   "cell_type": "code",
   "execution_count": 604,
   "id": "c4a2a875",
   "metadata": {},
   "outputs": [],
   "source": [
    "#--------checking the similarity of input with the hot songs (checking for typos)------------#\n",
    "\n",
    "from difflib import SequenceMatcher \n",
    "\n",
    "def similar(user_input):\n",
    "    \n",
    "    similarity = []\n",
    "    hot_song = df_hot['song'].values.tolist()\n",
    "    \n",
    "    for i in range (0,len(hot_song)):\n",
    "        similarity.append(SequenceMatcher(None ,user_input, hot_song[i]).ratio())\n",
    "    most_similar = similarity.index(max(similarity))\n",
    "    return hot_song[most_similar]           "
   ]
  },
  {
   "cell_type": "code",
   "execution_count": 519,
   "id": "dfc8eb0b",
   "metadata": {},
   "outputs": [],
   "source": [
    "#----------get the audio features of the suggested song by the---------#\n",
    "\n",
    "def spotify_audio_features(user_song):   \n",
    "    \n",
    "    result = sp.search(user_song, limit=1) # Searching for the song in spotify\n",
    "    result_id = result['tracks']['items'][0]['id']\n",
    "    features = sp.audio_features(result_id)\n",
    "    features_df = pd.DataFrame(features)\n",
    "    return features_df"
   ]
  },
  {
   "cell_type": "code",
   "execution_count": 521,
   "id": "121ab6c2",
   "metadata": {},
   "outputs": [],
   "source": [
    "#----------dropping columns of the user song audio features ----------#\n",
    "\n",
    "def trimmed_df (audio_features_df):\n",
    "    audio_features_df = audio_features_df.drop(['time_signature','type', 'id', 'uri', 'track_href', 'analysis_url', 'mode', 'loudness', 'energy', 'instrumentalness', 'liveness' ], axis = 1)\n",
    "\n",
    "    return audio_features_df\n",
    "    "
   ]
  },
  {
   "cell_type": "code",
   "execution_count": 482,
   "id": "0a5cad6e",
   "metadata": {},
   "outputs": [],
   "source": [
    "#----------cluster prediction of the user_song by calling the trained kmeans model ----------#\n",
    "\n",
    "\n",
    "def cluster_prediction(audio_features_df):\n",
    "    \n",
    "    with open ('scaler_pickle', 'rb') as f:\n",
    "        scaler = pickle.load(f)  \n",
    "   \n",
    "    with open ('kmeans_pickle', 'rb') as f:\n",
    "        kmeans_model = pickle.load(f)\n",
    "    \n",
    "    scaled_audio_features_df = scaler.transform(audio_features_df) \n",
    "    cluster_prediction = kmeans_model.predict(scaled_audio_features_df)\n",
    "    cluster_prediction = pd.Series(cluster_prediction).values[0]\n",
    "    \n",
    "    return cluster_prediction"
   ]
  },
  {
   "cell_type": "code",
   "execution_count": 549,
   "id": "a31ebbe2",
   "metadata": {},
   "outputs": [],
   "source": [
    "#----------suggesting a song with similar cluster ----------#\n",
    "def choosing_song_within_same_cluster(input_song_cluster):\n",
    "   \n",
    "    clustered_df = clustered_df_original[clustered_df_original['cluster'] == input_song_cluster]\n",
    "    suggestion = random.choice(clustered_df['song_name'].tolist())\n",
    "                               \n",
    "    return suggestion     "
   ]
  },
  {
   "cell_type": "code",
   "execution_count": 645,
   "id": "9dfd205f",
   "metadata": {},
   "outputs": [],
   "source": [
    "#--------Taking input and suggesting songs based on that ------------#\n",
    "\n",
    "def user_song(is_first = True):\n",
    "    \n",
    "    input_song = input('Your Favorite Song: ')                       \n",
    "    similarity = []\n",
    "        \n",
    "    if input_song.lower() in df_hot.song.values:                        #--------checking whether input is the hot song------#\n",
    "        \n",
    "        print('  --> Another Hot Song: ', random.choice(df_hot['song'].tolist()),'\\n')\n",
    "    \n",
    "    \n",
    "    elif similar(input_song.lower()) in df_hot.song.values:              \n",
    "      \n",
    "        if is_first: \n",
    "            \n",
    "            print('  --> Do You Mean ', similar(input_song.lower()), '???\\n')     #--------checking for typos and check the hot songs once more-------#\n",
    "            user_song(is_first = False) \n",
    "        else:\n",
    "            if (input_song.lower() in df_hot.song.values) == False: \n",
    "                \n",
    "                song_feature_df = spotify_audio_features(input_song)              #--------suggesting similar song based using spotify api-------#\n",
    "                for_prediction_df = trimmed_df(song_feature_df)\n",
    "                input_song_cluster = cluster_prediction(for_prediction_df)\n",
    "                suggestion = choosing_song_within_same_cluster(input_song_cluster)\n",
    "                print(\"  --> Here, An Awesome Suggestion:\", suggestion)\n",
    "        \n",
    "            else:\n",
    "                print('  Sorry, Pick another song\\n')\n",
    "                user_song()\n"
   ]
  },
  {
   "cell_type": "markdown",
   "id": "b71c27d4",
   "metadata": {},
   "source": [
    "## Demo"
   ]
  },
  {
   "cell_type": "code",
   "execution_count": 646,
   "id": "8b8df982",
   "metadata": {},
   "outputs": [
    {
     "name": "stdout",
     "output_type": "stream",
     "text": [
      "Your Favorite Song: heart\n",
      "  --> Do You Mean  heartless ???\n",
      "\n",
      "Your Favorite Song: heart\n",
      "  --> Here, An Awesome Suggestion: The Woo (feat. 50 Cent & Roddy Ricch)\n"
     ]
    }
   ],
   "source": [
    "user_song()"
   ]
  },
  {
   "cell_type": "code",
   "execution_count": null,
   "id": "78ce6dde",
   "metadata": {},
   "outputs": [],
   "source": []
  }
 ],
 "metadata": {
  "kernelspec": {
   "display_name": "Python 3",
   "language": "python",
   "name": "python3"
  },
  "language_info": {
   "codemirror_mode": {
    "name": "ipython",
    "version": 3
   },
   "file_extension": ".py",
   "mimetype": "text/x-python",
   "name": "python",
   "nbconvert_exporter": "python",
   "pygments_lexer": "ipython3",
   "version": "3.8.8"
  }
 },
 "nbformat": 4,
 "nbformat_minor": 5
}
